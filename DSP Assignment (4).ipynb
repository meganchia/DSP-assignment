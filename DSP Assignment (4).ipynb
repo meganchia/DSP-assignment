{
 "cells": [
  {
   "cell_type": "markdown",
   "metadata": {},
   "source": [
    "# Abstract"
   ]
  },
  {
   "cell_type": "markdown",
   "metadata": {},
   "source": [
    "The content of this document will discuss the vaccine deployment of Malaysia. The main focus is to determine the progress of Malaysia’s current vaccine deployment and their future progression. Our investigation has shown that people are sometimes hesitant in taking the vaccine which may cause vaccine deployment to be slower than expected. In creating a prediction model to predict how vaccine deployment is doing in Malaysia, resource management will become much easier to manage as this data can be used to analyse and determine how Malaysia is faring in vaccine deployment and also determine how hesitant people are taking the vaccine by comparing the estimated rate of vaccine deployment and the actual data when the estimated time arrives. In doing so, the government becomes able to make a decision to change to a different type of vaccine to ensure that vaccine hesitancy is lower than expected."
   ]
  },
  {
   "cell_type": "markdown",
   "metadata": {},
   "source": [
    "# Introduction"
   ]
  },
  {
   "cell_type": "markdown",
   "metadata": {},
   "source": [
    "The COVID-19 pandemic that was declared by the World Health Organisation (WHO) in March 2020 had changed the world, forcing countries into lockdown, causing the deaths of thousands of people and changing the lives of 7.67 billion people in this world. In an effort to overcome this pandemic, vaccines for this virus have been developed, and over 2.5 billion doses have been administered to people all over the world. In order to curb the spread of the virus, the government of Malaysia had not only initiated lockdowns, tightened standard operating procedures, but also introduced the National COVID-19 Immunisation Programme. This programme, broken down into three stages, aims to vaccinate at least 80% of the population against the coronavirus. Stage one targets frontliners and healthcare professionals, while stage two aims to vaccinate high-risked individuals including the elderly, and stage three is to vaccinate the general population over the age of 18. Since its first dose of vaccine given to Malaysia’s prime minister on February 24, 2021, Malaysia has administered over 3.1 million doses of COVID-19 vaccines as at 30 May 2021.\n",
    "\n",
    "Even though there are countless parties communicating daily vaccination progress in Malaysia such as the government, news and user generated articles, it is also crucial to predict Malaysia’s vaccination progress. Without a prediction model, there is no way to determine if Malaysia may fully vaccinate its population or reach its target immunity percentage in due time. Therefore, this study aims to analyse, visualise and predict Malaysia’s vaccination progress using appropriate graphs, methods and dataset, which may not only knowledgeable to the general population, but may also be used as a guide by the government to review if its immunisation programme will not deviate from the plan. Using statistical methods, the ‘COVID-19 World Vaccination Progress’ dataset was thoroughly analysed to produce a visualisation representation on Malaysia's COVID-19 vaccination progress. Along with this, predictive models using the ARIMA and SARIMA models will generate daily vaccination predictions that could be used to ensure Malaysia is able to sustain its National COVID-19 Immunisation Programme in the future months, with the aim to either fully vaccinate the population or achieve herd immunity. \n"
   ]
  },
  {
   "cell_type": "markdown",
   "metadata": {},
   "source": [
    "# Related Works"
   ]
  },
  {
   "cell_type": "markdown",
   "metadata": {},
   "source": [
    "For all Literature Reviews, please refer to https://docs.google.com/spreadsheets/d/1icYCCwckaix2e59KUmRpd1kyOICJgoZ8ldU_VQRGjWk/edit?usp=sharing"
   ]
  },
  {
   "cell_type": "markdown",
   "metadata": {},
   "source": [
    "<h2> Taxonomy Mapping </h2>"
   ]
  },
  {
   "cell_type": "markdown",
   "metadata": {},
   "source": [
    "![](TaxonomyMapping.png)"
   ]
  },
  {
   "cell_type": "markdown",
   "metadata": {},
   "source": [
    "For this taxonomy mapping, all keywords are split into 5 groups: Dataset, Objectives, Methods, Variables and Results.\n",
    "\n",
    "For the following groups each keyword will be explained below:\n",
    "\n",
    "DataSet:\n",
    "\n",
    "<li> [1]: Online dataset source which is used in the Data Acquisition of this project. </li>\n",
    "<li> [2]: News articles and research papers that helps in the overall project such the ARIMA predictive model (Model Development, EDA, etc.) </li>\n",
    "\n",
    "Objectives:\n",
    "<li> [1]: Investigation on how vaccine hesitancy will affect the overall vaccine deployment of Malaysia. </li>\n",
    "<li> [2]: Investigation on the effects of reducing infection rates and smooth vaccine deployment. </li>\n",
    "<li> [3]: Examine the vaccination deployment strategy (Phase 1, Phase 2 etc.) </li>\n",
    "\n",
    "Methods:\n",
    "<li> [1]: Mostly about line graphs and will be mostly used during the Visualisation & Communication part of the project. </li>\n",
    "<li> [2]: Mean, Median and Mode, will be used in the EDA of the project and other parts as well. </li>\n",
    "<li> [3]: Graphs, which in this case, line graphs and analysis on these graphs. </li>\n",
    "<li> [4]: The predictive models that will be used during the project. </li>\n",
    "\n",
    "Variables:\n",
    "<li> [1]: Cycles that repeat regularly over a fixed period of time. </li>\n",
    "<li> [2]: The progression of vaccine deployment on the overall Malaysian population. </li>\n",
    "<li> [3]: The acceptability of the overall Malaysian population accepting a certain type of vaccine. </li>\n",
    "<li> [4]: The hesitancy of the overall Malaysian population of taking a vaccine. </li>\n",
    "\n",
    "Result: (Self-Explanatory)\n",
    "<li> Overall, cases will gradually decrease meaning a large percentage of people will be taking the vaccine. </li>\n",
    "<li> In conclusion, if people are more willing to take the vaccine, the vaccine deployment will become much faster. </li>\n",
    "\n",
    "Research: (Self-Explanatory)\n",
    "<li> This section shows research to take note of </li>"
   ]
  },
  {
   "cell_type": "markdown",
   "metadata": {},
   "source": [
    "# Problem Statement"
   ]
  },
  {
   "cell_type": "markdown",
   "metadata": {},
   "source": [
    "Now with several vaccines developed to combat the covid 19 virus, government institutions should ensure that its distribution to the public should be done as fast & smoothly as possible. However, due to several problematic matters such as vaccination hesitancy (caused by the spreading of misinformation, preference towards alternative medicine & distrust in modern science), violations against SOPs among the public (which leads to potential infection & hence the need for quarantine) and poor use of resources, the vaccination rate in Malaysia has been relatively slow. \n",
    "\n",
    "This is an important matter as this virus not only harms the economy but is also fatal if contracted and unvaccinated. The longer the virus is allowed to spread, the longer and more the economy will be hurt and more lives will be in danger. \n",
    "\n",
    "Target Goal: Herd Immunity at 80% fully vaccinated by Feb 2022\n",
    "\n",
    "<li> Phase 1 starts from Feb 26 and Phase 3 is projected to be completed by Feb 2022 </li>\n",
    "\n",
    "<li> 80% = 32.75 million x 0.8 = 26.2 million </li>\n",
    "\n",
    "<li> So, 26.2 million in approximately 1 year </li>\n",
    "\n",
    "    - 26.2 million \t/ 12 = \t2.183 \tmillion per month\n",
    "    - 80% \t\t     / 12 = \t6.7%    \tper month\n",
    "People fully vaccinated as of 8 June: 1.18 Million, 3.65%\n",
    "\n",
    "<li> Time passed (count from march) = 2 months </li>\n",
    "\n",
    "<li> Vaccinated people if target reached = 4.36 million at 7.3% </li>\n",
    "    \n",
    "    1.18 million vs 4.36 million\n",
    "    3.65% vs 7.3%\n",
    "Based on just simple total vaccination per month calculations, it’s clear that we are falling far behind, and not just by half; as ideally, it would be better of a strategy to contain the spread of the virus by vaccinating as much as possible as soon as possible, as studies have shown that vaccination does lower the chances of infecting others with the virus. \n",
    "\n",
    "It seems somewhat clear that unless we are capable of instantly solving the issue of vaccination hesitancy in Malaysia which is , improve the entire infrastructure that is currently in place that administers the vaccine to the public and lastly ensure that citizens comply with all the standard operating procedures all at the same time, it is almost impossible to have Malaysia’s vaccination progress catch up and be completed by February of 2022.\n",
    "\n",
    "There is very little that we can do to improve the situation, but what we can do is to produce a forecast that if reliable, could be beneficial; as forecasting has always been a useful tool for any organisation with a goal, as it helps people to predict future events and make the appropriate preparations in anticipation; the same could be said about our specific context.\n",
    "\n",
    "Our group clearly does not have what it takes to solve this issue, but what we can do is use the information we have to make a prediction of how long it will take till we achieve herd immunity and the daily infection rates till then. With reliable results, it has the potential to be used to educate and inform public health decisions, which could aid in better managing all the relevant resources used in combating the pandemic, such as hospital beds, ventilators & etc. This information could also be used to help business owners to make decisions for the upcoming months. So while we don’t have what it takes to solve the pandemic, we could provide the information necessary to help people make the appropriate preparations. \n",
    "\n",
    "So in summary, the current vaccination rate of Malaysia is significantly slower than what was targeted initially, and while recent events (growing infection & death rates) have motivated more people to accept the vaccine, there is still a large group of people who are vaccine-hesitant and the current infrastructure that administers the vaccines do still have trouble keeping up with demands. \n",
    "\n",
    "The above are problems that are way beyond our scope to solve, but using current data to forecast future events, we can provide the opportunity for better resource management and decision making for the public health sector & business owners. \n"
   ]
  },
  {
   "cell_type": "markdown",
   "metadata": {},
   "source": [
    "# Data Acquisition"
   ]
  },
  {
   "cell_type": "markdown",
   "metadata": {},
   "source": [
    "Data is collected from Our World in Data GitHub repository for covid-19, then merged and uploaded on Kaggle. Vaccination data is compiled by the Our World in Data team from official reports.<br>\n",
    "https://www.kaggle.com/gpreda/covid-world-vaccination-progress"
   ]
  },
  {
   "cell_type": "code",
   "execution_count": 1,
   "metadata": {},
   "outputs": [],
   "source": [
    "import matplotlib.pyplot as plt\n",
    "%matplotlib inline\n",
    "import pandas as pd\n",
    "import itertools\n",
    "import numpy as np\n",
    "import warnings\n",
    "import seaborn as sns \n",
    "from statsmodels.tsa.statespace.sarimax import SARIMAX\n",
    "from statsmodels.tsa.stattools import adfuller\n",
    "from sklearn.metrics import mean_squared_error\n",
    "from statsmodels.tools.eval_measures import rmse\n",
    "\n",
    "warnings.filterwarnings('ignore')"
   ]
  },
  {
   "cell_type": "code",
   "execution_count": 2,
   "metadata": {},
   "outputs": [],
   "source": [
    "# based on version 121 of the available dataset\n",
    "df = pd.read_csv(\"dataset2/country_vaccinations.csv\", index_col='date', parse_dates=True)"
   ]
  },
  {
   "cell_type": "markdown",
   "metadata": {},
   "source": [
    "Confirming dataset imported correctly."
   ]
  },
  {
   "cell_type": "code",
   "execution_count": 3,
   "metadata": {
    "scrolled": true
   },
   "outputs": [
    {
     "data": {
      "text/html": [
       "<div>\n",
       "<style scoped>\n",
       "    .dataframe tbody tr th:only-of-type {\n",
       "        vertical-align: middle;\n",
       "    }\n",
       "\n",
       "    .dataframe tbody tr th {\n",
       "        vertical-align: top;\n",
       "    }\n",
       "\n",
       "    .dataframe thead th {\n",
       "        text-align: right;\n",
       "    }\n",
       "</style>\n",
       "<table border=\"1\" class=\"dataframe\">\n",
       "  <thead>\n",
       "    <tr style=\"text-align: right;\">\n",
       "      <th></th>\n",
       "      <th>country</th>\n",
       "      <th>iso_code</th>\n",
       "      <th>total_vaccinations</th>\n",
       "      <th>people_vaccinated</th>\n",
       "      <th>people_fully_vaccinated</th>\n",
       "      <th>daily_vaccinations_raw</th>\n",
       "      <th>daily_vaccinations</th>\n",
       "      <th>total_vaccinations_per_hundred</th>\n",
       "      <th>people_vaccinated_per_hundred</th>\n",
       "      <th>people_fully_vaccinated_per_hundred</th>\n",
       "      <th>daily_vaccinations_per_million</th>\n",
       "      <th>vaccines</th>\n",
       "      <th>source_name</th>\n",
       "      <th>source_website</th>\n",
       "    </tr>\n",
       "    <tr>\n",
       "      <th>date</th>\n",
       "      <th></th>\n",
       "      <th></th>\n",
       "      <th></th>\n",
       "      <th></th>\n",
       "      <th></th>\n",
       "      <th></th>\n",
       "      <th></th>\n",
       "      <th></th>\n",
       "      <th></th>\n",
       "      <th></th>\n",
       "      <th></th>\n",
       "      <th></th>\n",
       "      <th></th>\n",
       "      <th></th>\n",
       "    </tr>\n",
       "  </thead>\n",
       "  <tbody>\n",
       "    <tr>\n",
       "      <th>2021-02-22</th>\n",
       "      <td>Afghanistan</td>\n",
       "      <td>AFG</td>\n",
       "      <td>0.0</td>\n",
       "      <td>0.0</td>\n",
       "      <td>NaN</td>\n",
       "      <td>NaN</td>\n",
       "      <td>NaN</td>\n",
       "      <td>0.0</td>\n",
       "      <td>0.0</td>\n",
       "      <td>NaN</td>\n",
       "      <td>NaN</td>\n",
       "      <td>Oxford/AstraZeneca, Pfizer/BioNTech, Sinopharm...</td>\n",
       "      <td>World Health Organization</td>\n",
       "      <td>https://covid19.who.int/</td>\n",
       "    </tr>\n",
       "    <tr>\n",
       "      <th>2021-02-23</th>\n",
       "      <td>Afghanistan</td>\n",
       "      <td>AFG</td>\n",
       "      <td>NaN</td>\n",
       "      <td>NaN</td>\n",
       "      <td>NaN</td>\n",
       "      <td>NaN</td>\n",
       "      <td>1367.0</td>\n",
       "      <td>NaN</td>\n",
       "      <td>NaN</td>\n",
       "      <td>NaN</td>\n",
       "      <td>35.0</td>\n",
       "      <td>Oxford/AstraZeneca, Pfizer/BioNTech, Sinopharm...</td>\n",
       "      <td>World Health Organization</td>\n",
       "      <td>https://covid19.who.int/</td>\n",
       "    </tr>\n",
       "    <tr>\n",
       "      <th>2021-02-24</th>\n",
       "      <td>Afghanistan</td>\n",
       "      <td>AFG</td>\n",
       "      <td>NaN</td>\n",
       "      <td>NaN</td>\n",
       "      <td>NaN</td>\n",
       "      <td>NaN</td>\n",
       "      <td>1367.0</td>\n",
       "      <td>NaN</td>\n",
       "      <td>NaN</td>\n",
       "      <td>NaN</td>\n",
       "      <td>35.0</td>\n",
       "      <td>Oxford/AstraZeneca, Pfizer/BioNTech, Sinopharm...</td>\n",
       "      <td>World Health Organization</td>\n",
       "      <td>https://covid19.who.int/</td>\n",
       "    </tr>\n",
       "    <tr>\n",
       "      <th>2021-02-25</th>\n",
       "      <td>Afghanistan</td>\n",
       "      <td>AFG</td>\n",
       "      <td>NaN</td>\n",
       "      <td>NaN</td>\n",
       "      <td>NaN</td>\n",
       "      <td>NaN</td>\n",
       "      <td>1367.0</td>\n",
       "      <td>NaN</td>\n",
       "      <td>NaN</td>\n",
       "      <td>NaN</td>\n",
       "      <td>35.0</td>\n",
       "      <td>Oxford/AstraZeneca, Pfizer/BioNTech, Sinopharm...</td>\n",
       "      <td>World Health Organization</td>\n",
       "      <td>https://covid19.who.int/</td>\n",
       "    </tr>\n",
       "    <tr>\n",
       "      <th>2021-02-26</th>\n",
       "      <td>Afghanistan</td>\n",
       "      <td>AFG</td>\n",
       "      <td>NaN</td>\n",
       "      <td>NaN</td>\n",
       "      <td>NaN</td>\n",
       "      <td>NaN</td>\n",
       "      <td>1367.0</td>\n",
       "      <td>NaN</td>\n",
       "      <td>NaN</td>\n",
       "      <td>NaN</td>\n",
       "      <td>35.0</td>\n",
       "      <td>Oxford/AstraZeneca, Pfizer/BioNTech, Sinopharm...</td>\n",
       "      <td>World Health Organization</td>\n",
       "      <td>https://covid19.who.int/</td>\n",
       "    </tr>\n",
       "  </tbody>\n",
       "</table>\n",
       "</div>"
      ],
      "text/plain": [
       "                country iso_code  total_vaccinations  people_vaccinated  \\\n",
       "date                                                                      \n",
       "2021-02-22  Afghanistan      AFG                 0.0                0.0   \n",
       "2021-02-23  Afghanistan      AFG                 NaN                NaN   \n",
       "2021-02-24  Afghanistan      AFG                 NaN                NaN   \n",
       "2021-02-25  Afghanistan      AFG                 NaN                NaN   \n",
       "2021-02-26  Afghanistan      AFG                 NaN                NaN   \n",
       "\n",
       "            people_fully_vaccinated  daily_vaccinations_raw  \\\n",
       "date                                                          \n",
       "2021-02-22                      NaN                     NaN   \n",
       "2021-02-23                      NaN                     NaN   \n",
       "2021-02-24                      NaN                     NaN   \n",
       "2021-02-25                      NaN                     NaN   \n",
       "2021-02-26                      NaN                     NaN   \n",
       "\n",
       "            daily_vaccinations  total_vaccinations_per_hundred  \\\n",
       "date                                                             \n",
       "2021-02-22                 NaN                             0.0   \n",
       "2021-02-23              1367.0                             NaN   \n",
       "2021-02-24              1367.0                             NaN   \n",
       "2021-02-25              1367.0                             NaN   \n",
       "2021-02-26              1367.0                             NaN   \n",
       "\n",
       "            people_vaccinated_per_hundred  \\\n",
       "date                                        \n",
       "2021-02-22                            0.0   \n",
       "2021-02-23                            NaN   \n",
       "2021-02-24                            NaN   \n",
       "2021-02-25                            NaN   \n",
       "2021-02-26                            NaN   \n",
       "\n",
       "            people_fully_vaccinated_per_hundred  \\\n",
       "date                                              \n",
       "2021-02-22                                  NaN   \n",
       "2021-02-23                                  NaN   \n",
       "2021-02-24                                  NaN   \n",
       "2021-02-25                                  NaN   \n",
       "2021-02-26                                  NaN   \n",
       "\n",
       "            daily_vaccinations_per_million  \\\n",
       "date                                         \n",
       "2021-02-22                             NaN   \n",
       "2021-02-23                            35.0   \n",
       "2021-02-24                            35.0   \n",
       "2021-02-25                            35.0   \n",
       "2021-02-26                            35.0   \n",
       "\n",
       "                                                     vaccines  \\\n",
       "date                                                            \n",
       "2021-02-22  Oxford/AstraZeneca, Pfizer/BioNTech, Sinopharm...   \n",
       "2021-02-23  Oxford/AstraZeneca, Pfizer/BioNTech, Sinopharm...   \n",
       "2021-02-24  Oxford/AstraZeneca, Pfizer/BioNTech, Sinopharm...   \n",
       "2021-02-25  Oxford/AstraZeneca, Pfizer/BioNTech, Sinopharm...   \n",
       "2021-02-26  Oxford/AstraZeneca, Pfizer/BioNTech, Sinopharm...   \n",
       "\n",
       "                          source_name            source_website  \n",
       "date                                                             \n",
       "2021-02-22  World Health Organization  https://covid19.who.int/  \n",
       "2021-02-23  World Health Organization  https://covid19.who.int/  \n",
       "2021-02-24  World Health Organization  https://covid19.who.int/  \n",
       "2021-02-25  World Health Organization  https://covid19.who.int/  \n",
       "2021-02-26  World Health Organization  https://covid19.who.int/  "
      ]
     },
     "execution_count": 3,
     "metadata": {},
     "output_type": "execute_result"
    }
   ],
   "source": [
    "df.head()"
   ]
  },
  {
   "cell_type": "markdown",
   "metadata": {},
   "source": [
    "Column names of the dataset."
   ]
  },
  {
   "cell_type": "code",
   "execution_count": 4,
   "metadata": {},
   "outputs": [
    {
     "data": {
      "text/plain": [
       "Index(['country', 'iso_code', 'total_vaccinations', 'people_vaccinated',\n",
       "       'people_fully_vaccinated', 'daily_vaccinations_raw',\n",
       "       'daily_vaccinations', 'total_vaccinations_per_hundred',\n",
       "       'people_vaccinated_per_hundred', 'people_fully_vaccinated_per_hundred',\n",
       "       'daily_vaccinations_per_million', 'vaccines', 'source_name',\n",
       "       'source_website'],\n",
       "      dtype='object')"
      ]
     },
     "execution_count": 4,
     "metadata": {},
     "output_type": "execute_result"
    }
   ],
   "source": [
    "df.columns"
   ]
  },
  {
   "cell_type": "markdown",
   "metadata": {},
   "source": [
    "# Data Preparation"
   ]
  },
  {
   "cell_type": "markdown",
   "metadata": {},
   "source": [
    "Checking whether there are null or missing values in the data"
   ]
  },
  {
   "cell_type": "code",
   "execution_count": 5,
   "metadata": {},
   "outputs": [
    {
     "data": {
      "text/plain": [
       "country                                    0\n",
       "iso_code                                   0\n",
       "total_vaccinations                      9353\n",
       "people_vaccinated                      10149\n",
       "people_fully_vaccinated                12661\n",
       "daily_vaccinations_raw                 11441\n",
       "daily_vaccinations                       216\n",
       "total_vaccinations_per_hundred          9353\n",
       "people_vaccinated_per_hundred          10149\n",
       "people_fully_vaccinated_per_hundred    12661\n",
       "daily_vaccinations_per_million           216\n",
       "vaccines                                   0\n",
       "source_name                                0\n",
       "source_website                             0\n",
       "dtype: int64"
      ]
     },
     "execution_count": 5,
     "metadata": {},
     "output_type": "execute_result"
    }
   ],
   "source": [
    "df.isna().sum()"
   ]
  },
  {
   "cell_type": "markdown",
   "metadata": {},
   "source": [
    "Seeing as there are null values, we can replace them with 0 and consider it as an outlier in the data"
   ]
  },
  {
   "cell_type": "code",
   "execution_count": 6,
   "metadata": {
    "scrolled": true
   },
   "outputs": [
    {
     "data": {
      "text/plain": [
       "country                                0\n",
       "iso_code                               0\n",
       "total_vaccinations                     0\n",
       "people_vaccinated                      0\n",
       "people_fully_vaccinated                0\n",
       "daily_vaccinations_raw                 0\n",
       "daily_vaccinations                     0\n",
       "total_vaccinations_per_hundred         0\n",
       "people_vaccinated_per_hundred          0\n",
       "people_fully_vaccinated_per_hundred    0\n",
       "daily_vaccinations_per_million         0\n",
       "vaccines                               0\n",
       "source_name                            0\n",
       "source_website                         0\n",
       "dtype: int64"
      ]
     },
     "execution_count": 6,
     "metadata": {},
     "output_type": "execute_result"
    }
   ],
   "source": [
    "# replaces all NA values with 0\n",
    "df.fillna(0, inplace=True)\n",
    "\n",
    "df.isna().sum()"
   ]
  },
  {
   "cell_type": "markdown",
   "metadata": {},
   "source": [
    "As our model focuses on Malaysia statistics, we extract the relevant data into separate DataFrames"
   ]
  },
  {
   "cell_type": "code",
   "execution_count": 7,
   "metadata": {},
   "outputs": [
    {
     "data": {
      "text/html": [
       "<div>\n",
       "<style scoped>\n",
       "    .dataframe tbody tr th:only-of-type {\n",
       "        vertical-align: middle;\n",
       "    }\n",
       "\n",
       "    .dataframe tbody tr th {\n",
       "        vertical-align: top;\n",
       "    }\n",
       "\n",
       "    .dataframe thead th {\n",
       "        text-align: right;\n",
       "    }\n",
       "</style>\n",
       "<table border=\"1\" class=\"dataframe\">\n",
       "  <thead>\n",
       "    <tr style=\"text-align: right;\">\n",
       "      <th></th>\n",
       "      <th>daily_vaccinations</th>\n",
       "    </tr>\n",
       "    <tr>\n",
       "      <th>date</th>\n",
       "      <th></th>\n",
       "    </tr>\n",
       "  </thead>\n",
       "  <tbody>\n",
       "    <tr>\n",
       "      <th>2021-02-23</th>\n",
       "      <td>0.0</td>\n",
       "    </tr>\n",
       "    <tr>\n",
       "      <th>2021-02-24</th>\n",
       "      <td>895.0</td>\n",
       "    </tr>\n",
       "    <tr>\n",
       "      <th>2021-02-25</th>\n",
       "      <td>895.0</td>\n",
       "    </tr>\n",
       "    <tr>\n",
       "      <th>2021-02-26</th>\n",
       "      <td>895.0</td>\n",
       "    </tr>\n",
       "    <tr>\n",
       "      <th>2021-02-27</th>\n",
       "      <td>895.0</td>\n",
       "    </tr>\n",
       "  </tbody>\n",
       "</table>\n",
       "</div>"
      ],
      "text/plain": [
       "            daily_vaccinations\n",
       "date                          \n",
       "2021-02-23                 0.0\n",
       "2021-02-24               895.0\n",
       "2021-02-25               895.0\n",
       "2021-02-26               895.0\n",
       "2021-02-27               895.0"
      ]
     },
     "execution_count": 7,
     "metadata": {},
     "output_type": "execute_result"
    }
   ],
   "source": [
    "# extracts malaysia data only\n",
    "myr = df.loc[df[\"country\"] == \"Malaysia\"]\n",
    "# extracts only date and daily_vaccinations for malaysia\n",
    "data = pd.DataFrame({'daily_vaccinations': myr['daily_vaccinations']})\n",
    "\n",
    "data.head()"
   ]
  },
  {
   "cell_type": "code",
   "execution_count": 8,
   "metadata": {},
   "outputs": [
    {
     "data": {
      "text/plain": [
       "(98, 1)"
      ]
     },
     "execution_count": 8,
     "metadata": {},
     "output_type": "execute_result"
    }
   ],
   "source": [
    "data.shape"
   ]
  },
  {
   "cell_type": "markdown",
   "metadata": {},
   "source": [
    "Here, we split the data into training and testing sets for the model."
   ]
  },
  {
   "cell_type": "code",
   "execution_count": 9,
   "metadata": {},
   "outputs": [],
   "source": [
    "train = data.iloc[:-5]\n",
    "test = data.tail(5)\n",
    "\n",
    "train_array = train['daily_vaccinations']\n",
    "test_array = test['daily_vaccinations']"
   ]
  },
  {
   "cell_type": "markdown",
   "metadata": {},
   "source": [
    "# Exploratory Data Analysis"
   ]
  },
  {
   "cell_type": "code",
   "execution_count": 10,
   "metadata": {},
   "outputs": [
    {
     "data": {
      "text/plain": [
       "Norway                             180\n",
       "Scotland                           172\n",
       "Canada                             169\n",
       "China                              168\n",
       "Russia                             168\n",
       "                                  ... \n",
       "Tuvalu                               1\n",
       "Guinea-Bissau                        1\n",
       "Turkmenistan                         1\n",
       "Cook Islands                         1\n",
       "Bonaire Sint Eustatius and Saba      1\n",
       "Name: country, Length: 214, dtype: int64"
      ]
     },
     "execution_count": 10,
     "metadata": {},
     "output_type": "execute_result"
    }
   ],
   "source": [
    "df[\"country\"].value_counts()"
   ]
  },
  {
   "cell_type": "code",
   "execution_count": 11,
   "metadata": {},
   "outputs": [],
   "source": [
    "nor = df.loc[df[\"country\"] == \"Norway\"]"
   ]
  },
  {
   "cell_type": "code",
   "execution_count": 12,
   "metadata": {},
   "outputs": [],
   "source": [
    "sco = df.loc[df[\"country\"] == \"Scotland\"]"
   ]
  },
  {
   "cell_type": "code",
   "execution_count": 13,
   "metadata": {},
   "outputs": [],
   "source": [
    "can = df.loc[df[\"country\"] == \"Canada\"]"
   ]
  },
  {
   "cell_type": "code",
   "execution_count": 14,
   "metadata": {},
   "outputs": [],
   "source": [
    "ind = df.loc[df[\"country\"] == \"India\"]"
   ]
  },
  {
   "cell_type": "code",
   "execution_count": 15,
   "metadata": {},
   "outputs": [],
   "source": [
    "ido = df.loc[df[\"country\"] == \"Indonesia\"]"
   ]
  },
  {
   "cell_type": "code",
   "execution_count": 16,
   "metadata": {},
   "outputs": [],
   "source": [
    "sing = df.loc[df[\"country\"] == \"Singapore\"]"
   ]
  },
  {
   "cell_type": "markdown",
   "metadata": {},
   "source": [
    "<h2> Statistics </h2>"
   ]
  },
  {
   "cell_type": "code",
   "execution_count": 17,
   "metadata": {},
   "outputs": [
    {
     "data": {
      "text/html": [
       "<div>\n",
       "<style scoped>\n",
       "    .dataframe tbody tr th:only-of-type {\n",
       "        vertical-align: middle;\n",
       "    }\n",
       "\n",
       "    .dataframe tbody tr th {\n",
       "        vertical-align: top;\n",
       "    }\n",
       "\n",
       "    .dataframe thead th {\n",
       "        text-align: right;\n",
       "    }\n",
       "</style>\n",
       "<table border=\"1\" class=\"dataframe\">\n",
       "  <thead>\n",
       "    <tr style=\"text-align: right;\">\n",
       "      <th></th>\n",
       "      <th>total_vaccinations</th>\n",
       "      <th>people_vaccinated</th>\n",
       "      <th>people_fully_vaccinated</th>\n",
       "      <th>daily_vaccinations_raw</th>\n",
       "      <th>daily_vaccinations</th>\n",
       "      <th>total_vaccinations_per_hundred</th>\n",
       "      <th>people_vaccinated_per_hundred</th>\n",
       "      <th>people_fully_vaccinated_per_hundred</th>\n",
       "      <th>daily_vaccinations_per_million</th>\n",
       "    </tr>\n",
       "  </thead>\n",
       "  <tbody>\n",
       "    <tr>\n",
       "      <th>count</th>\n",
       "      <td>2.162800e+04</td>\n",
       "      <td>2.162800e+04</td>\n",
       "      <td>2.162800e+04</td>\n",
       "      <td>2.162800e+04</td>\n",
       "      <td>2.162800e+04</td>\n",
       "      <td>21628.00000</td>\n",
       "      <td>21628.000000</td>\n",
       "      <td>21628.000000</td>\n",
       "      <td>21628.000000</td>\n",
       "    </tr>\n",
       "    <tr>\n",
       "      <th>mean</th>\n",
       "      <td>4.042746e+06</td>\n",
       "      <td>2.132971e+06</td>\n",
       "      <td>9.094755e+05</td>\n",
       "      <td>8.042323e+04</td>\n",
       "      <td>8.791260e+04</td>\n",
       "      <td>11.55634</td>\n",
       "      <td>7.546136</td>\n",
       "      <td>3.253415</td>\n",
       "      <td>3189.724570</td>\n",
       "    </tr>\n",
       "    <tr>\n",
       "      <th>std</th>\n",
       "      <td>2.455146e+07</td>\n",
       "      <td>1.105273e+07</td>\n",
       "      <td>6.084645e+06</td>\n",
       "      <td>6.140054e+05</td>\n",
       "      <td>5.598415e+05</td>\n",
       "      <td>23.07979</td>\n",
       "      <td>14.573603</td>\n",
       "      <td>8.586379</td>\n",
       "      <td>8168.175566</td>\n",
       "    </tr>\n",
       "    <tr>\n",
       "      <th>min</th>\n",
       "      <td>0.000000e+00</td>\n",
       "      <td>0.000000e+00</td>\n",
       "      <td>0.000000e+00</td>\n",
       "      <td>0.000000e+00</td>\n",
       "      <td>0.000000e+00</td>\n",
       "      <td>0.00000</td>\n",
       "      <td>0.000000</td>\n",
       "      <td>0.000000</td>\n",
       "      <td>0.000000</td>\n",
       "    </tr>\n",
       "    <tr>\n",
       "      <th>25%</th>\n",
       "      <td>0.000000e+00</td>\n",
       "      <td>0.000000e+00</td>\n",
       "      <td>0.000000e+00</td>\n",
       "      <td>0.000000e+00</td>\n",
       "      <td>7.657500e+02</td>\n",
       "      <td>0.00000</td>\n",
       "      <td>0.000000</td>\n",
       "      <td>0.000000</td>\n",
       "      <td>332.000000</td>\n",
       "    </tr>\n",
       "    <tr>\n",
       "      <th>50%</th>\n",
       "      <td>2.119250e+04</td>\n",
       "      <td>5.835000e+03</td>\n",
       "      <td>0.000000e+00</td>\n",
       "      <td>0.000000e+00</td>\n",
       "      <td>5.703500e+03</td>\n",
       "      <td>0.50000</td>\n",
       "      <td>0.120000</td>\n",
       "      <td>0.000000</td>\n",
       "      <td>1579.500000</td>\n",
       "    </tr>\n",
       "    <tr>\n",
       "      <th>75%</th>\n",
       "      <td>8.325940e+05</td>\n",
       "      <td>5.099810e+05</td>\n",
       "      <td>1.070750e+05</td>\n",
       "      <td>1.546275e+04</td>\n",
       "      <td>3.085875e+04</td>\n",
       "      <td>12.03000</td>\n",
       "      <td>7.875000</td>\n",
       "      <td>2.030000</td>\n",
       "      <td>4434.000000</td>\n",
       "    </tr>\n",
       "    <tr>\n",
       "      <th>max</th>\n",
       "      <td>6.614680e+08</td>\n",
       "      <td>1.677340e+08</td>\n",
       "      <td>1.350873e+08</td>\n",
       "      <td>2.229600e+07</td>\n",
       "      <td>1.917357e+07</td>\n",
       "      <td>230.09000</td>\n",
       "      <td>116.000000</td>\n",
       "      <td>114.090000</td>\n",
       "      <td>1000000.000000</td>\n",
       "    </tr>\n",
       "  </tbody>\n",
       "</table>\n",
       "</div>"
      ],
      "text/plain": [
       "       total_vaccinations  people_vaccinated  people_fully_vaccinated  \\\n",
       "count        2.162800e+04       2.162800e+04             2.162800e+04   \n",
       "mean         4.042746e+06       2.132971e+06             9.094755e+05   \n",
       "std          2.455146e+07       1.105273e+07             6.084645e+06   \n",
       "min          0.000000e+00       0.000000e+00             0.000000e+00   \n",
       "25%          0.000000e+00       0.000000e+00             0.000000e+00   \n",
       "50%          2.119250e+04       5.835000e+03             0.000000e+00   \n",
       "75%          8.325940e+05       5.099810e+05             1.070750e+05   \n",
       "max          6.614680e+08       1.677340e+08             1.350873e+08   \n",
       "\n",
       "       daily_vaccinations_raw  daily_vaccinations  \\\n",
       "count            2.162800e+04        2.162800e+04   \n",
       "mean             8.042323e+04        8.791260e+04   \n",
       "std              6.140054e+05        5.598415e+05   \n",
       "min              0.000000e+00        0.000000e+00   \n",
       "25%              0.000000e+00        7.657500e+02   \n",
       "50%              0.000000e+00        5.703500e+03   \n",
       "75%              1.546275e+04        3.085875e+04   \n",
       "max              2.229600e+07        1.917357e+07   \n",
       "\n",
       "       total_vaccinations_per_hundred  people_vaccinated_per_hundred  \\\n",
       "count                     21628.00000                   21628.000000   \n",
       "mean                         11.55634                       7.546136   \n",
       "std                          23.07979                      14.573603   \n",
       "min                           0.00000                       0.000000   \n",
       "25%                           0.00000                       0.000000   \n",
       "50%                           0.50000                       0.120000   \n",
       "75%                          12.03000                       7.875000   \n",
       "max                         230.09000                     116.000000   \n",
       "\n",
       "       people_fully_vaccinated_per_hundred  daily_vaccinations_per_million  \n",
       "count                         21628.000000                    21628.000000  \n",
       "mean                              3.253415                     3189.724570  \n",
       "std                               8.586379                     8168.175566  \n",
       "min                               0.000000                        0.000000  \n",
       "25%                               0.000000                      332.000000  \n",
       "50%                               0.000000                     1579.500000  \n",
       "75%                               2.030000                     4434.000000  \n",
       "max                             114.090000                  1000000.000000  "
      ]
     },
     "execution_count": 17,
     "metadata": {},
     "output_type": "execute_result"
    }
   ],
   "source": [
    "#Global Overall Statistics\n",
    "df.describe()"
   ]
  },
  {
   "cell_type": "code",
   "execution_count": 18,
   "metadata": {},
   "outputs": [
    {
     "data": {
      "text/plain": [
       "2.1504355384615383"
      ]
     },
     "execution_count": 18,
     "metadata": {},
     "output_type": "execute_result"
    }
   ],
   "source": [
    "#Gloal average population vaccinated (Estimated)\n",
    "df[\"people_vaccinated\"].max()/7800000000*100"
   ]
  },
  {
   "cell_type": "code",
   "execution_count": 19,
   "metadata": {},
   "outputs": [
    {
     "data": {
      "text/html": [
       "<div>\n",
       "<style scoped>\n",
       "    .dataframe tbody tr th:only-of-type {\n",
       "        vertical-align: middle;\n",
       "    }\n",
       "\n",
       "    .dataframe tbody tr th {\n",
       "        vertical-align: top;\n",
       "    }\n",
       "\n",
       "    .dataframe thead th {\n",
       "        text-align: right;\n",
       "    }\n",
       "</style>\n",
       "<table border=\"1\" class=\"dataframe\">\n",
       "  <thead>\n",
       "    <tr style=\"text-align: right;\">\n",
       "      <th></th>\n",
       "      <th>total_vaccinations</th>\n",
       "      <th>people_vaccinated</th>\n",
       "      <th>people_fully_vaccinated</th>\n",
       "      <th>daily_vaccinations_raw</th>\n",
       "      <th>daily_vaccinations</th>\n",
       "      <th>total_vaccinations_per_hundred</th>\n",
       "      <th>people_vaccinated_per_hundred</th>\n",
       "      <th>people_fully_vaccinated_per_hundred</th>\n",
       "      <th>daily_vaccinations_per_million</th>\n",
       "    </tr>\n",
       "  </thead>\n",
       "  <tbody>\n",
       "    <tr>\n",
       "      <th>count</th>\n",
       "      <td>9.800000e+01</td>\n",
       "      <td>9.800000e+01</td>\n",
       "      <td>9.800000e+01</td>\n",
       "      <td>98.000000</td>\n",
       "      <td>98.000000</td>\n",
       "      <td>98.000000</td>\n",
       "      <td>98.000000</td>\n",
       "      <td>98.000000</td>\n",
       "      <td>98.000000</td>\n",
       "    </tr>\n",
       "    <tr>\n",
       "      <th>mean</th>\n",
       "      <td>1.047340e+06</td>\n",
       "      <td>6.787922e+05</td>\n",
       "      <td>3.685474e+05</td>\n",
       "      <td>29380.918367</td>\n",
       "      <td>29974.755102</td>\n",
       "      <td>3.235918</td>\n",
       "      <td>2.096837</td>\n",
       "      <td>1.138571</td>\n",
       "      <td>926.153061</td>\n",
       "    </tr>\n",
       "    <tr>\n",
       "      <th>std</th>\n",
       "      <td>8.567493e+05</td>\n",
       "      <td>5.158123e+05</td>\n",
       "      <td>3.464517e+05</td>\n",
       "      <td>31715.606899</td>\n",
       "      <td>20711.585049</td>\n",
       "      <td>2.647644</td>\n",
       "      <td>1.593973</td>\n",
       "      <td>1.070620</td>\n",
       "      <td>639.903977</td>\n",
       "    </tr>\n",
       "    <tr>\n",
       "      <th>min</th>\n",
       "      <td>0.000000e+00</td>\n",
       "      <td>0.000000e+00</td>\n",
       "      <td>0.000000e+00</td>\n",
       "      <td>0.000000</td>\n",
       "      <td>0.000000</td>\n",
       "      <td>0.000000</td>\n",
       "      <td>0.000000</td>\n",
       "      <td>0.000000</td>\n",
       "      <td>0.000000</td>\n",
       "    </tr>\n",
       "    <tr>\n",
       "      <th>25%</th>\n",
       "      <td>3.276252e+05</td>\n",
       "      <td>3.276252e+05</td>\n",
       "      <td>0.000000e+00</td>\n",
       "      <td>13864.000000</td>\n",
       "      <td>20740.500000</td>\n",
       "      <td>1.010000</td>\n",
       "      <td>1.010000</td>\n",
       "      <td>0.000000</td>\n",
       "      <td>640.750000</td>\n",
       "    </tr>\n",
       "    <tr>\n",
       "      <th>50%</th>\n",
       "      <td>9.304605e+05</td>\n",
       "      <td>5.623450e+05</td>\n",
       "      <td>3.681155e+05</td>\n",
       "      <td>25823.500000</td>\n",
       "      <td>23532.000000</td>\n",
       "      <td>2.875000</td>\n",
       "      <td>1.740000</td>\n",
       "      <td>1.140000</td>\n",
       "      <td>727.000000</td>\n",
       "    </tr>\n",
       "    <tr>\n",
       "      <th>75%</th>\n",
       "      <td>1.552257e+06</td>\n",
       "      <td>9.487182e+05</td>\n",
       "      <td>6.035390e+05</td>\n",
       "      <td>33050.000000</td>\n",
       "      <td>30480.250000</td>\n",
       "      <td>4.797500</td>\n",
       "      <td>2.935000</td>\n",
       "      <td>1.862500</td>\n",
       "      <td>942.000000</td>\n",
       "    </tr>\n",
       "    <tr>\n",
       "      <th>max</th>\n",
       "      <td>3.156872e+06</td>\n",
       "      <td>2.011455e+06</td>\n",
       "      <td>1.145417e+06</td>\n",
       "      <td>250944.000000</td>\n",
       "      <td>96843.000000</td>\n",
       "      <td>9.750000</td>\n",
       "      <td>6.210000</td>\n",
       "      <td>3.540000</td>\n",
       "      <td>2992.000000</td>\n",
       "    </tr>\n",
       "  </tbody>\n",
       "</table>\n",
       "</div>"
      ],
      "text/plain": [
       "       total_vaccinations  people_vaccinated  people_fully_vaccinated  \\\n",
       "count        9.800000e+01       9.800000e+01             9.800000e+01   \n",
       "mean         1.047340e+06       6.787922e+05             3.685474e+05   \n",
       "std          8.567493e+05       5.158123e+05             3.464517e+05   \n",
       "min          0.000000e+00       0.000000e+00             0.000000e+00   \n",
       "25%          3.276252e+05       3.276252e+05             0.000000e+00   \n",
       "50%          9.304605e+05       5.623450e+05             3.681155e+05   \n",
       "75%          1.552257e+06       9.487182e+05             6.035390e+05   \n",
       "max          3.156872e+06       2.011455e+06             1.145417e+06   \n",
       "\n",
       "       daily_vaccinations_raw  daily_vaccinations  \\\n",
       "count               98.000000           98.000000   \n",
       "mean             29380.918367        29974.755102   \n",
       "std              31715.606899        20711.585049   \n",
       "min                  0.000000            0.000000   \n",
       "25%              13864.000000        20740.500000   \n",
       "50%              25823.500000        23532.000000   \n",
       "75%              33050.000000        30480.250000   \n",
       "max             250944.000000        96843.000000   \n",
       "\n",
       "       total_vaccinations_per_hundred  people_vaccinated_per_hundred  \\\n",
       "count                       98.000000                      98.000000   \n",
       "mean                         3.235918                       2.096837   \n",
       "std                          2.647644                       1.593973   \n",
       "min                          0.000000                       0.000000   \n",
       "25%                          1.010000                       1.010000   \n",
       "50%                          2.875000                       1.740000   \n",
       "75%                          4.797500                       2.935000   \n",
       "max                          9.750000                       6.210000   \n",
       "\n",
       "       people_fully_vaccinated_per_hundred  daily_vaccinations_per_million  \n",
       "count                            98.000000                       98.000000  \n",
       "mean                              1.138571                      926.153061  \n",
       "std                               1.070620                      639.903977  \n",
       "min                               0.000000                        0.000000  \n",
       "25%                               0.000000                      640.750000  \n",
       "50%                               1.140000                      727.000000  \n",
       "75%                               1.862500                      942.000000  \n",
       "max                               3.540000                     2992.000000  "
      ]
     },
     "execution_count": 19,
     "metadata": {},
     "output_type": "execute_result"
    }
   ],
   "source": [
    "#Malaysia Overall Statistics\n",
    "myr.describe()"
   ]
  },
  {
   "cell_type": "code",
   "execution_count": 20,
   "metadata": {},
   "outputs": [
    {
     "data": {
      "text/html": [
       "<div>\n",
       "<style scoped>\n",
       "    .dataframe tbody tr th:only-of-type {\n",
       "        vertical-align: middle;\n",
       "    }\n",
       "\n",
       "    .dataframe tbody tr th {\n",
       "        vertical-align: top;\n",
       "    }\n",
       "\n",
       "    .dataframe thead th {\n",
       "        text-align: right;\n",
       "    }\n",
       "</style>\n",
       "<table border=\"1\" class=\"dataframe\">\n",
       "  <thead>\n",
       "    <tr style=\"text-align: right;\">\n",
       "      <th></th>\n",
       "      <th>total_vaccinations</th>\n",
       "      <th>people_vaccinated</th>\n",
       "      <th>people_fully_vaccinated</th>\n",
       "      <th>daily_vaccinations_raw</th>\n",
       "      <th>daily_vaccinations</th>\n",
       "      <th>total_vaccinations_per_hundred</th>\n",
       "      <th>people_vaccinated_per_hundred</th>\n",
       "      <th>people_fully_vaccinated_per_hundred</th>\n",
       "      <th>daily_vaccinations_per_million</th>\n",
       "    </tr>\n",
       "  </thead>\n",
       "  <tbody>\n",
       "    <tr>\n",
       "      <th>count</th>\n",
       "      <td>1.800000e+02</td>\n",
       "      <td>1.800000e+02</td>\n",
       "      <td>1.800000e+02</td>\n",
       "      <td>180.000000</td>\n",
       "      <td>180.000000</td>\n",
       "      <td>180.000000</td>\n",
       "      <td>180.000000</td>\n",
       "      <td>180.000000</td>\n",
       "      <td>180.000000</td>\n",
       "    </tr>\n",
       "    <tr>\n",
       "      <th>mean</th>\n",
       "      <td>7.736554e+05</td>\n",
       "      <td>5.570922e+05</td>\n",
       "      <td>2.165633e+05</td>\n",
       "      <td>14689.916667</td>\n",
       "      <td>14192.877778</td>\n",
       "      <td>14.270778</td>\n",
       "      <td>10.276056</td>\n",
       "      <td>3.994889</td>\n",
       "      <td>2618.027778</td>\n",
       "    </tr>\n",
       "    <tr>\n",
       "      <th>std</th>\n",
       "      <td>7.963412e+05</td>\n",
       "      <td>5.677436e+05</td>\n",
       "      <td>2.405914e+05</td>\n",
       "      <td>21859.266913</td>\n",
       "      <td>11195.534831</td>\n",
       "      <td>14.689235</td>\n",
       "      <td>10.472861</td>\n",
       "      <td>4.437815</td>\n",
       "      <td>2065.136752</td>\n",
       "    </tr>\n",
       "    <tr>\n",
       "      <th>min</th>\n",
       "      <td>1.000000e+00</td>\n",
       "      <td>1.000000e+00</td>\n",
       "      <td>0.000000e+00</td>\n",
       "      <td>0.000000</td>\n",
       "      <td>0.000000</td>\n",
       "      <td>0.000000</td>\n",
       "      <td>0.000000</td>\n",
       "      <td>0.000000</td>\n",
       "      <td>0.000000</td>\n",
       "    </tr>\n",
       "    <tr>\n",
       "      <th>25%</th>\n",
       "      <td>5.110075e+04</td>\n",
       "      <td>5.109975e+04</td>\n",
       "      <td>1.000000e+00</td>\n",
       "      <td>361.250000</td>\n",
       "      <td>4022.000000</td>\n",
       "      <td>0.945000</td>\n",
       "      <td>0.945000</td>\n",
       "      <td>0.000000</td>\n",
       "      <td>742.000000</td>\n",
       "    </tr>\n",
       "    <tr>\n",
       "      <th>50%</th>\n",
       "      <td>5.191840e+05</td>\n",
       "      <td>3.482475e+05</td>\n",
       "      <td>1.709365e+05</td>\n",
       "      <td>3292.500000</td>\n",
       "      <td>13538.000000</td>\n",
       "      <td>9.575000</td>\n",
       "      <td>6.425000</td>\n",
       "      <td>3.155000</td>\n",
       "      <td>2497.500000</td>\n",
       "    </tr>\n",
       "    <tr>\n",
       "      <th>75%</th>\n",
       "      <td>1.355374e+06</td>\n",
       "      <td>1.046492e+06</td>\n",
       "      <td>3.088828e+05</td>\n",
       "      <td>21610.750000</td>\n",
       "      <td>24287.250000</td>\n",
       "      <td>24.997500</td>\n",
       "      <td>19.305000</td>\n",
       "      <td>5.695000</td>\n",
       "      <td>4479.750000</td>\n",
       "    </tr>\n",
       "    <tr>\n",
       "      <th>max</th>\n",
       "      <td>2.644186e+06</td>\n",
       "      <td>1.637918e+06</td>\n",
       "      <td>1.006268e+06</td>\n",
       "      <td>94913.000000</td>\n",
       "      <td>36603.000000</td>\n",
       "      <td>48.770000</td>\n",
       "      <td>30.210000</td>\n",
       "      <td>18.560000</td>\n",
       "      <td>6752.000000</td>\n",
       "    </tr>\n",
       "  </tbody>\n",
       "</table>\n",
       "</div>"
      ],
      "text/plain": [
       "       total_vaccinations  people_vaccinated  people_fully_vaccinated  \\\n",
       "count        1.800000e+02       1.800000e+02             1.800000e+02   \n",
       "mean         7.736554e+05       5.570922e+05             2.165633e+05   \n",
       "std          7.963412e+05       5.677436e+05             2.405914e+05   \n",
       "min          1.000000e+00       1.000000e+00             0.000000e+00   \n",
       "25%          5.110075e+04       5.109975e+04             1.000000e+00   \n",
       "50%          5.191840e+05       3.482475e+05             1.709365e+05   \n",
       "75%          1.355374e+06       1.046492e+06             3.088828e+05   \n",
       "max          2.644186e+06       1.637918e+06             1.006268e+06   \n",
       "\n",
       "       daily_vaccinations_raw  daily_vaccinations  \\\n",
       "count              180.000000          180.000000   \n",
       "mean             14689.916667        14192.877778   \n",
       "std              21859.266913        11195.534831   \n",
       "min                  0.000000            0.000000   \n",
       "25%                361.250000         4022.000000   \n",
       "50%               3292.500000        13538.000000   \n",
       "75%              21610.750000        24287.250000   \n",
       "max              94913.000000        36603.000000   \n",
       "\n",
       "       total_vaccinations_per_hundred  people_vaccinated_per_hundred  \\\n",
       "count                      180.000000                     180.000000   \n",
       "mean                        14.270778                      10.276056   \n",
       "std                         14.689235                      10.472861   \n",
       "min                          0.000000                       0.000000   \n",
       "25%                          0.945000                       0.945000   \n",
       "50%                          9.575000                       6.425000   \n",
       "75%                         24.997500                      19.305000   \n",
       "max                         48.770000                      30.210000   \n",
       "\n",
       "       people_fully_vaccinated_per_hundred  daily_vaccinations_per_million  \n",
       "count                           180.000000                      180.000000  \n",
       "mean                              3.994889                     2618.027778  \n",
       "std                               4.437815                     2065.136752  \n",
       "min                               0.000000                        0.000000  \n",
       "25%                               0.000000                      742.000000  \n",
       "50%                               3.155000                     2497.500000  \n",
       "75%                               5.695000                     4479.750000  \n",
       "max                              18.560000                     6752.000000  "
      ]
     },
     "execution_count": 20,
     "metadata": {},
     "output_type": "execute_result"
    }
   ],
   "source": [
    "#Norway Overall Statistics\n",
    "nor.describe()"
   ]
  },
  {
   "cell_type": "code",
   "execution_count": 21,
   "metadata": {
    "scrolled": true
   },
   "outputs": [
    {
     "data": {
      "text/html": [
       "<div>\n",
       "<style scoped>\n",
       "    .dataframe tbody tr th:only-of-type {\n",
       "        vertical-align: middle;\n",
       "    }\n",
       "\n",
       "    .dataframe tbody tr th {\n",
       "        vertical-align: top;\n",
       "    }\n",
       "\n",
       "    .dataframe thead th {\n",
       "        text-align: right;\n",
       "    }\n",
       "</style>\n",
       "<table border=\"1\" class=\"dataframe\">\n",
       "  <thead>\n",
       "    <tr style=\"text-align: right;\">\n",
       "      <th></th>\n",
       "      <th>total_vaccinations</th>\n",
       "      <th>people_vaccinated</th>\n",
       "      <th>people_fully_vaccinated</th>\n",
       "      <th>daily_vaccinations_raw</th>\n",
       "      <th>daily_vaccinations</th>\n",
       "      <th>total_vaccinations_per_hundred</th>\n",
       "      <th>people_vaccinated_per_hundred</th>\n",
       "      <th>people_fully_vaccinated_per_hundred</th>\n",
       "      <th>daily_vaccinations_per_million</th>\n",
       "    </tr>\n",
       "  </thead>\n",
       "  <tbody>\n",
       "    <tr>\n",
       "      <th>count</th>\n",
       "      <td>1.720000e+02</td>\n",
       "      <td>1.720000e+02</td>\n",
       "      <td>1.720000e+02</td>\n",
       "      <td>172.000000</td>\n",
       "      <td>172.000000</td>\n",
       "      <td>172.000000</td>\n",
       "      <td>172.000000</td>\n",
       "      <td>172.000000</td>\n",
       "      <td>172.000000</td>\n",
       "    </tr>\n",
       "    <tr>\n",
       "      <th>mean</th>\n",
       "      <td>2.079926e+06</td>\n",
       "      <td>1.616781e+06</td>\n",
       "      <td>4.631452e+05</td>\n",
       "      <td>30699.186047</td>\n",
       "      <td>30025.546512</td>\n",
       "      <td>38.070698</td>\n",
       "      <td>29.593256</td>\n",
       "      <td>8.477267</td>\n",
       "      <td>5495.860465</td>\n",
       "    </tr>\n",
       "    <tr>\n",
       "      <th>std</th>\n",
       "      <td>1.682878e+06</td>\n",
       "      <td>1.131100e+06</td>\n",
       "      <td>6.302859e+05</td>\n",
       "      <td>16800.462092</td>\n",
       "      <td>15559.481432</td>\n",
       "      <td>30.803592</td>\n",
       "      <td>20.703822</td>\n",
       "      <td>11.537038</td>\n",
       "      <td>2847.987578</td>\n",
       "    </tr>\n",
       "    <tr>\n",
       "      <th>min</th>\n",
       "      <td>0.000000e+00</td>\n",
       "      <td>0.000000e+00</td>\n",
       "      <td>0.000000e+00</td>\n",
       "      <td>0.000000</td>\n",
       "      <td>0.000000</td>\n",
       "      <td>0.000000</td>\n",
       "      <td>0.000000</td>\n",
       "      <td>0.000000</td>\n",
       "      <td>0.000000</td>\n",
       "    </tr>\n",
       "    <tr>\n",
       "      <th>25%</th>\n",
       "      <td>3.801770e+05</td>\n",
       "      <td>3.751138e+05</td>\n",
       "      <td>5.063250e+03</td>\n",
       "      <td>17725.250000</td>\n",
       "      <td>19865.500000</td>\n",
       "      <td>6.957500</td>\n",
       "      <td>6.867500</td>\n",
       "      <td>0.090000</td>\n",
       "      <td>3636.250000</td>\n",
       "    </tr>\n",
       "    <tr>\n",
       "      <th>50%</th>\n",
       "      <td>1.866815e+06</td>\n",
       "      <td>1.751810e+06</td>\n",
       "      <td>1.150055e+05</td>\n",
       "      <td>33445.500000</td>\n",
       "      <td>33207.000000</td>\n",
       "      <td>34.170000</td>\n",
       "      <td>32.065000</td>\n",
       "      <td>2.105000</td>\n",
       "      <td>6078.500000</td>\n",
       "    </tr>\n",
       "    <tr>\n",
       "      <th>75%</th>\n",
       "      <td>3.488190e+06</td>\n",
       "      <td>2.745097e+06</td>\n",
       "      <td>7.430938e+05</td>\n",
       "      <td>42914.000000</td>\n",
       "      <td>42708.000000</td>\n",
       "      <td>63.850000</td>\n",
       "      <td>50.245000</td>\n",
       "      <td>13.605000</td>\n",
       "      <td>7817.250000</td>\n",
       "    </tr>\n",
       "    <tr>\n",
       "      <th>max</th>\n",
       "      <td>5.295391e+06</td>\n",
       "      <td>3.251138e+06</td>\n",
       "      <td>2.044253e+06</td>\n",
       "      <td>65249.000000</td>\n",
       "      <td>56025.000000</td>\n",
       "      <td>96.930000</td>\n",
       "      <td>59.510000</td>\n",
       "      <td>37.420000</td>\n",
       "      <td>10255.000000</td>\n",
       "    </tr>\n",
       "  </tbody>\n",
       "</table>\n",
       "</div>"
      ],
      "text/plain": [
       "       total_vaccinations  people_vaccinated  people_fully_vaccinated  \\\n",
       "count        1.720000e+02       1.720000e+02             1.720000e+02   \n",
       "mean         2.079926e+06       1.616781e+06             4.631452e+05   \n",
       "std          1.682878e+06       1.131100e+06             6.302859e+05   \n",
       "min          0.000000e+00       0.000000e+00             0.000000e+00   \n",
       "25%          3.801770e+05       3.751138e+05             5.063250e+03   \n",
       "50%          1.866815e+06       1.751810e+06             1.150055e+05   \n",
       "75%          3.488190e+06       2.745097e+06             7.430938e+05   \n",
       "max          5.295391e+06       3.251138e+06             2.044253e+06   \n",
       "\n",
       "       daily_vaccinations_raw  daily_vaccinations  \\\n",
       "count              172.000000          172.000000   \n",
       "mean             30699.186047        30025.546512   \n",
       "std              16800.462092        15559.481432   \n",
       "min                  0.000000            0.000000   \n",
       "25%              17725.250000        19865.500000   \n",
       "50%              33445.500000        33207.000000   \n",
       "75%              42914.000000        42708.000000   \n",
       "max              65249.000000        56025.000000   \n",
       "\n",
       "       total_vaccinations_per_hundred  people_vaccinated_per_hundred  \\\n",
       "count                      172.000000                     172.000000   \n",
       "mean                        38.070698                      29.593256   \n",
       "std                         30.803592                      20.703822   \n",
       "min                          0.000000                       0.000000   \n",
       "25%                          6.957500                       6.867500   \n",
       "50%                         34.170000                      32.065000   \n",
       "75%                         63.850000                      50.245000   \n",
       "max                         96.930000                      59.510000   \n",
       "\n",
       "       people_fully_vaccinated_per_hundred  daily_vaccinations_per_million  \n",
       "count                           172.000000                      172.000000  \n",
       "mean                              8.477267                     5495.860465  \n",
       "std                              11.537038                     2847.987578  \n",
       "min                               0.000000                        0.000000  \n",
       "25%                               0.090000                     3636.250000  \n",
       "50%                               2.105000                     6078.500000  \n",
       "75%                              13.605000                     7817.250000  \n",
       "max                              37.420000                    10255.000000  "
      ]
     },
     "execution_count": 21,
     "metadata": {},
     "output_type": "execute_result"
    }
   ],
   "source": [
    "#Scotland Overall Statistics\n",
    "sco.describe()"
   ]
  },
  {
   "cell_type": "code",
   "execution_count": 22,
   "metadata": {},
   "outputs": [
    {
     "data": {
      "text/html": [
       "<div>\n",
       "<style scoped>\n",
       "    .dataframe tbody tr th:only-of-type {\n",
       "        vertical-align: middle;\n",
       "    }\n",
       "\n",
       "    .dataframe tbody tr th {\n",
       "        vertical-align: top;\n",
       "    }\n",
       "\n",
       "    .dataframe thead th {\n",
       "        text-align: right;\n",
       "    }\n",
       "</style>\n",
       "<table border=\"1\" class=\"dataframe\">\n",
       "  <thead>\n",
       "    <tr style=\"text-align: right;\">\n",
       "      <th></th>\n",
       "      <th>total_vaccinations</th>\n",
       "      <th>people_vaccinated</th>\n",
       "      <th>people_fully_vaccinated</th>\n",
       "      <th>daily_vaccinations_raw</th>\n",
       "      <th>daily_vaccinations</th>\n",
       "      <th>total_vaccinations_per_hundred</th>\n",
       "      <th>people_vaccinated_per_hundred</th>\n",
       "      <th>people_fully_vaccinated_per_hundred</th>\n",
       "      <th>daily_vaccinations_per_million</th>\n",
       "    </tr>\n",
       "  </thead>\n",
       "  <tbody>\n",
       "    <tr>\n",
       "      <th>count</th>\n",
       "      <td>1.690000e+02</td>\n",
       "      <td>1.690000e+02</td>\n",
       "      <td>1.690000e+02</td>\n",
       "      <td>169.000000</td>\n",
       "      <td>169.000000</td>\n",
       "      <td>169.000000</td>\n",
       "      <td>169.000000</td>\n",
       "      <td>169.000000</td>\n",
       "      <td>169.000000</td>\n",
       "    </tr>\n",
       "    <tr>\n",
       "      <th>mean</th>\n",
       "      <td>6.022609e+06</td>\n",
       "      <td>5.420193e+06</td>\n",
       "      <td>5.950082e+05</td>\n",
       "      <td>141197.319527</td>\n",
       "      <td>134626.437870</td>\n",
       "      <td>15.956923</td>\n",
       "      <td>14.361243</td>\n",
       "      <td>1.576627</td>\n",
       "      <td>3567.023669</td>\n",
       "    </tr>\n",
       "    <tr>\n",
       "      <th>std</th>\n",
       "      <td>6.932324e+06</td>\n",
       "      <td>6.424267e+06</td>\n",
       "      <td>5.344717e+05</td>\n",
       "      <td>133656.665446</td>\n",
       "      <td>127054.901715</td>\n",
       "      <td>18.367426</td>\n",
       "      <td>17.021586</td>\n",
       "      <td>1.415841</td>\n",
       "      <td>3366.383884</td>\n",
       "    </tr>\n",
       "    <tr>\n",
       "      <th>min</th>\n",
       "      <td>5.000000e+00</td>\n",
       "      <td>0.000000e+00</td>\n",
       "      <td>0.000000e+00</td>\n",
       "      <td>0.000000</td>\n",
       "      <td>0.000000</td>\n",
       "      <td>0.000000</td>\n",
       "      <td>0.000000</td>\n",
       "      <td>0.000000</td>\n",
       "      <td>0.000000</td>\n",
       "    </tr>\n",
       "    <tr>\n",
       "      <th>25%</th>\n",
       "      <td>8.399490e+05</td>\n",
       "      <td>7.752960e+05</td>\n",
       "      <td>6.465300e+04</td>\n",
       "      <td>24703.000000</td>\n",
       "      <td>25309.000000</td>\n",
       "      <td>2.230000</td>\n",
       "      <td>2.050000</td>\n",
       "      <td>0.170000</td>\n",
       "      <td>671.000000</td>\n",
       "    </tr>\n",
       "    <tr>\n",
       "      <th>50%</th>\n",
       "      <td>2.473868e+06</td>\n",
       "      <td>1.898266e+06</td>\n",
       "      <td>5.756020e+05</td>\n",
       "      <td>78036.000000</td>\n",
       "      <td>75002.000000</td>\n",
       "      <td>6.550000</td>\n",
       "      <td>5.030000</td>\n",
       "      <td>1.530000</td>\n",
       "      <td>1987.000000</td>\n",
       "    </tr>\n",
       "    <tr>\n",
       "      <th>75%</th>\n",
       "      <td>1.024342e+07</td>\n",
       "      <td>9.309934e+06</td>\n",
       "      <td>9.334840e+05</td>\n",
       "      <td>256540.000000</td>\n",
       "      <td>263245.000000</td>\n",
       "      <td>27.140000</td>\n",
       "      <td>24.670000</td>\n",
       "      <td>2.470000</td>\n",
       "      <td>6975.000000</td>\n",
       "    </tr>\n",
       "    <tr>\n",
       "      <th>max</th>\n",
       "      <td>2.386235e+07</td>\n",
       "      <td>2.178478e+07</td>\n",
       "      <td>2.077573e+06</td>\n",
       "      <td>488221.000000</td>\n",
       "      <td>374185.000000</td>\n",
       "      <td>63.220000</td>\n",
       "      <td>57.720000</td>\n",
       "      <td>5.500000</td>\n",
       "      <td>9914.000000</td>\n",
       "    </tr>\n",
       "  </tbody>\n",
       "</table>\n",
       "</div>"
      ],
      "text/plain": [
       "       total_vaccinations  people_vaccinated  people_fully_vaccinated  \\\n",
       "count        1.690000e+02       1.690000e+02             1.690000e+02   \n",
       "mean         6.022609e+06       5.420193e+06             5.950082e+05   \n",
       "std          6.932324e+06       6.424267e+06             5.344717e+05   \n",
       "min          5.000000e+00       0.000000e+00             0.000000e+00   \n",
       "25%          8.399490e+05       7.752960e+05             6.465300e+04   \n",
       "50%          2.473868e+06       1.898266e+06             5.756020e+05   \n",
       "75%          1.024342e+07       9.309934e+06             9.334840e+05   \n",
       "max          2.386235e+07       2.178478e+07             2.077573e+06   \n",
       "\n",
       "       daily_vaccinations_raw  daily_vaccinations  \\\n",
       "count              169.000000          169.000000   \n",
       "mean            141197.319527       134626.437870   \n",
       "std             133656.665446       127054.901715   \n",
       "min                  0.000000            0.000000   \n",
       "25%              24703.000000        25309.000000   \n",
       "50%              78036.000000        75002.000000   \n",
       "75%             256540.000000       263245.000000   \n",
       "max             488221.000000       374185.000000   \n",
       "\n",
       "       total_vaccinations_per_hundred  people_vaccinated_per_hundred  \\\n",
       "count                      169.000000                     169.000000   \n",
       "mean                        15.956923                      14.361243   \n",
       "std                         18.367426                      17.021586   \n",
       "min                          0.000000                       0.000000   \n",
       "25%                          2.230000                       2.050000   \n",
       "50%                          6.550000                       5.030000   \n",
       "75%                         27.140000                      24.670000   \n",
       "max                         63.220000                      57.720000   \n",
       "\n",
       "       people_fully_vaccinated_per_hundred  daily_vaccinations_per_million  \n",
       "count                           169.000000                      169.000000  \n",
       "mean                              1.576627                     3567.023669  \n",
       "std                               1.415841                     3366.383884  \n",
       "min                               0.000000                        0.000000  \n",
       "25%                               0.170000                      671.000000  \n",
       "50%                               1.530000                     1987.000000  \n",
       "75%                               2.470000                     6975.000000  \n",
       "max                               5.500000                     9914.000000  "
      ]
     },
     "execution_count": 22,
     "metadata": {},
     "output_type": "execute_result"
    }
   ],
   "source": [
    "#Canada Overall Statistics\n",
    "can.describe()"
   ]
  },
  {
   "cell_type": "code",
   "execution_count": 23,
   "metadata": {},
   "outputs": [
    {
     "data": {
      "text/html": [
       "<div>\n",
       "<style scoped>\n",
       "    .dataframe tbody tr th:only-of-type {\n",
       "        vertical-align: middle;\n",
       "    }\n",
       "\n",
       "    .dataframe tbody tr th {\n",
       "        vertical-align: top;\n",
       "    }\n",
       "\n",
       "    .dataframe thead th {\n",
       "        text-align: right;\n",
       "    }\n",
       "</style>\n",
       "<table border=\"1\" class=\"dataframe\">\n",
       "  <thead>\n",
       "    <tr style=\"text-align: right;\">\n",
       "      <th></th>\n",
       "      <th>total_vaccinations</th>\n",
       "      <th>people_vaccinated</th>\n",
       "      <th>people_fully_vaccinated</th>\n",
       "      <th>daily_vaccinations_raw</th>\n",
       "      <th>daily_vaccinations</th>\n",
       "      <th>total_vaccinations_per_hundred</th>\n",
       "      <th>people_vaccinated_per_hundred</th>\n",
       "      <th>people_fully_vaccinated_per_hundred</th>\n",
       "      <th>daily_vaccinations_per_million</th>\n",
       "    </tr>\n",
       "  </thead>\n",
       "  <tbody>\n",
       "    <tr>\n",
       "      <th>count</th>\n",
       "      <td>1.370000e+02</td>\n",
       "      <td>1.370000e+02</td>\n",
       "      <td>1.370000e+02</td>\n",
       "      <td>1.370000e+02</td>\n",
       "      <td>1.370000e+02</td>\n",
       "      <td>137.000000</td>\n",
       "      <td>137.000000</td>\n",
       "      <td>137.000000</td>\n",
       "      <td>137.000000</td>\n",
       "    </tr>\n",
       "    <tr>\n",
       "      <th>mean</th>\n",
       "      <td>7.228298e+07</td>\n",
       "      <td>5.937238e+07</td>\n",
       "      <td>1.291059e+07</td>\n",
       "      <td>1.445857e+06</td>\n",
       "      <td>1.488866e+06</td>\n",
       "      <td>5.237956</td>\n",
       "      <td>4.302336</td>\n",
       "      <td>0.935547</td>\n",
       "      <td>1078.875912</td>\n",
       "    </tr>\n",
       "    <tr>\n",
       "      <th>std</th>\n",
       "      <td>7.118609e+07</td>\n",
       "      <td>5.683141e+07</td>\n",
       "      <td>1.477169e+07</td>\n",
       "      <td>1.228894e+06</td>\n",
       "      <td>1.034128e+06</td>\n",
       "      <td>5.158516</td>\n",
       "      <td>4.118560</td>\n",
       "      <td>1.070202</td>\n",
       "      <td>749.379375</td>\n",
       "    </tr>\n",
       "    <tr>\n",
       "      <th>min</th>\n",
       "      <td>0.000000e+00</td>\n",
       "      <td>0.000000e+00</td>\n",
       "      <td>0.000000e+00</td>\n",
       "      <td>0.000000e+00</td>\n",
       "      <td>0.000000e+00</td>\n",
       "      <td>0.000000</td>\n",
       "      <td>0.000000</td>\n",
       "      <td>0.000000</td>\n",
       "      <td>0.000000</td>\n",
       "    </tr>\n",
       "    <tr>\n",
       "      <th>25%</th>\n",
       "      <td>8.052454e+06</td>\n",
       "      <td>8.044786e+06</td>\n",
       "      <td>7.668000e+03</td>\n",
       "      <td>3.405700e+05</td>\n",
       "      <td>3.644000e+05</td>\n",
       "      <td>0.580000</td>\n",
       "      <td>0.580000</td>\n",
       "      <td>0.000000</td>\n",
       "      <td>264.000000</td>\n",
       "    </tr>\n",
       "    <tr>\n",
       "      <th>50%</th>\n",
       "      <td>4.460384e+07</td>\n",
       "      <td>3.712519e+07</td>\n",
       "      <td>7.478654e+06</td>\n",
       "      <td>1.317105e+06</td>\n",
       "      <td>1.618423e+06</td>\n",
       "      <td>3.230000</td>\n",
       "      <td>2.690000</td>\n",
       "      <td>0.540000</td>\n",
       "      <td>1173.000000</td>\n",
       "    </tr>\n",
       "    <tr>\n",
       "      <th>75%</th>\n",
       "      <td>1.425249e+08</td>\n",
       "      <td>1.198863e+08</td>\n",
       "      <td>2.263870e+07</td>\n",
       "      <td>2.358731e+06</td>\n",
       "      <td>2.221023e+06</td>\n",
       "      <td>10.330000</td>\n",
       "      <td>8.690000</td>\n",
       "      <td>1.640000</td>\n",
       "      <td>1609.000000</td>\n",
       "    </tr>\n",
       "    <tr>\n",
       "      <th>max</th>\n",
       "      <td>2.104499e+08</td>\n",
       "      <td>1.671911e+08</td>\n",
       "      <td>4.325881e+07</td>\n",
       "      <td>4.265157e+06</td>\n",
       "      <td>3.659357e+06</td>\n",
       "      <td>15.250000</td>\n",
       "      <td>12.120000</td>\n",
       "      <td>3.130000</td>\n",
       "      <td>2652.000000</td>\n",
       "    </tr>\n",
       "  </tbody>\n",
       "</table>\n",
       "</div>"
      ],
      "text/plain": [
       "       total_vaccinations  people_vaccinated  people_fully_vaccinated  \\\n",
       "count        1.370000e+02       1.370000e+02             1.370000e+02   \n",
       "mean         7.228298e+07       5.937238e+07             1.291059e+07   \n",
       "std          7.118609e+07       5.683141e+07             1.477169e+07   \n",
       "min          0.000000e+00       0.000000e+00             0.000000e+00   \n",
       "25%          8.052454e+06       8.044786e+06             7.668000e+03   \n",
       "50%          4.460384e+07       3.712519e+07             7.478654e+06   \n",
       "75%          1.425249e+08       1.198863e+08             2.263870e+07   \n",
       "max          2.104499e+08       1.671911e+08             4.325881e+07   \n",
       "\n",
       "       daily_vaccinations_raw  daily_vaccinations  \\\n",
       "count            1.370000e+02        1.370000e+02   \n",
       "mean             1.445857e+06        1.488866e+06   \n",
       "std              1.228894e+06        1.034128e+06   \n",
       "min              0.000000e+00        0.000000e+00   \n",
       "25%              3.405700e+05        3.644000e+05   \n",
       "50%              1.317105e+06        1.618423e+06   \n",
       "75%              2.358731e+06        2.221023e+06   \n",
       "max              4.265157e+06        3.659357e+06   \n",
       "\n",
       "       total_vaccinations_per_hundred  people_vaccinated_per_hundred  \\\n",
       "count                      137.000000                     137.000000   \n",
       "mean                         5.237956                       4.302336   \n",
       "std                          5.158516                       4.118560   \n",
       "min                          0.000000                       0.000000   \n",
       "25%                          0.580000                       0.580000   \n",
       "50%                          3.230000                       2.690000   \n",
       "75%                         10.330000                       8.690000   \n",
       "max                         15.250000                      12.120000   \n",
       "\n",
       "       people_fully_vaccinated_per_hundred  daily_vaccinations_per_million  \n",
       "count                           137.000000                      137.000000  \n",
       "mean                              0.935547                     1078.875912  \n",
       "std                               1.070202                      749.379375  \n",
       "min                               0.000000                        0.000000  \n",
       "25%                               0.000000                      264.000000  \n",
       "50%                               0.540000                     1173.000000  \n",
       "75%                               1.640000                     1609.000000  \n",
       "max                               3.130000                     2652.000000  "
      ]
     },
     "execution_count": 23,
     "metadata": {},
     "output_type": "execute_result"
    }
   ],
   "source": [
    "#India Overall Statistics\n",
    "ind.describe()"
   ]
  },
  {
   "cell_type": "code",
   "execution_count": 24,
   "metadata": {},
   "outputs": [
    {
     "data": {
      "text/html": [
       "<div>\n",
       "<style scoped>\n",
       "    .dataframe tbody tr th:only-of-type {\n",
       "        vertical-align: middle;\n",
       "    }\n",
       "\n",
       "    .dataframe tbody tr th {\n",
       "        vertical-align: top;\n",
       "    }\n",
       "\n",
       "    .dataframe thead th {\n",
       "        text-align: right;\n",
       "    }\n",
       "</style>\n",
       "<table border=\"1\" class=\"dataframe\">\n",
       "  <thead>\n",
       "    <tr style=\"text-align: right;\">\n",
       "      <th></th>\n",
       "      <th>total_vaccinations</th>\n",
       "      <th>people_vaccinated</th>\n",
       "      <th>people_fully_vaccinated</th>\n",
       "      <th>daily_vaccinations_raw</th>\n",
       "      <th>daily_vaccinations</th>\n",
       "      <th>total_vaccinations_per_hundred</th>\n",
       "      <th>people_vaccinated_per_hundred</th>\n",
       "      <th>people_fully_vaccinated_per_hundred</th>\n",
       "      <th>daily_vaccinations_per_million</th>\n",
       "    </tr>\n",
       "  </thead>\n",
       "  <tbody>\n",
       "    <tr>\n",
       "      <th>count</th>\n",
       "      <td>1.400000e+02</td>\n",
       "      <td>1.400000e+02</td>\n",
       "      <td>1.400000e+02</td>\n",
       "      <td>1.400000e+02</td>\n",
       "      <td>140.000000</td>\n",
       "      <td>140.000000</td>\n",
       "      <td>140.000000</td>\n",
       "      <td>140.000000</td>\n",
       "      <td>140.000000</td>\n",
       "    </tr>\n",
       "    <tr>\n",
       "      <th>mean</th>\n",
       "      <td>7.019938e+06</td>\n",
       "      <td>4.498191e+06</td>\n",
       "      <td>2.521748e+06</td>\n",
       "      <td>1.052391e+05</td>\n",
       "      <td>189119.207143</td>\n",
       "      <td>2.566500</td>\n",
       "      <td>1.644500</td>\n",
       "      <td>0.922071</td>\n",
       "      <td>691.385714</td>\n",
       "    </tr>\n",
       "    <tr>\n",
       "      <th>std</th>\n",
       "      <td>8.676839e+06</td>\n",
       "      <td>5.352357e+06</td>\n",
       "      <td>3.348156e+06</td>\n",
       "      <td>1.848300e+05</td>\n",
       "      <td>120678.220681</td>\n",
       "      <td>3.172122</td>\n",
       "      <td>1.956523</td>\n",
       "      <td>1.223919</td>\n",
       "      <td>441.256522</td>\n",
       "    </tr>\n",
       "    <tr>\n",
       "      <th>min</th>\n",
       "      <td>0.000000e+00</td>\n",
       "      <td>0.000000e+00</td>\n",
       "      <td>0.000000e+00</td>\n",
       "      <td>0.000000e+00</td>\n",
       "      <td>0.000000</td>\n",
       "      <td>0.000000</td>\n",
       "      <td>0.000000</td>\n",
       "      <td>0.000000</td>\n",
       "      <td>0.000000</td>\n",
       "    </tr>\n",
       "    <tr>\n",
       "      <th>25%</th>\n",
       "      <td>0.000000e+00</td>\n",
       "      <td>0.000000e+00</td>\n",
       "      <td>0.000000e+00</td>\n",
       "      <td>0.000000e+00</td>\n",
       "      <td>70402.250000</td>\n",
       "      <td>0.000000</td>\n",
       "      <td>0.000000</td>\n",
       "      <td>0.000000</td>\n",
       "      <td>257.000000</td>\n",
       "    </tr>\n",
       "    <tr>\n",
       "      <th>50%</th>\n",
       "      <td>1.872350e+06</td>\n",
       "      <td>1.194118e+06</td>\n",
       "      <td>6.782330e+05</td>\n",
       "      <td>0.000000e+00</td>\n",
       "      <td>209636.500000</td>\n",
       "      <td>0.685000</td>\n",
       "      <td>0.440000</td>\n",
       "      <td>0.250000</td>\n",
       "      <td>766.000000</td>\n",
       "    </tr>\n",
       "    <tr>\n",
       "      <th>75%</th>\n",
       "      <td>1.432410e+07</td>\n",
       "      <td>9.531292e+06</td>\n",
       "      <td>4.792809e+06</td>\n",
       "      <td>1.301342e+05</td>\n",
       "      <td>279843.500000</td>\n",
       "      <td>5.232500</td>\n",
       "      <td>3.487500</td>\n",
       "      <td>1.755000</td>\n",
       "      <td>1023.000000</td>\n",
       "    </tr>\n",
       "    <tr>\n",
       "      <th>max</th>\n",
       "      <td>2.704551e+07</td>\n",
       "      <td>1.641367e+07</td>\n",
       "      <td>1.063184e+07</td>\n",
       "      <td>1.104221e+06</td>\n",
       "      <td>449308.000000</td>\n",
       "      <td>9.890000</td>\n",
       "      <td>6.000000</td>\n",
       "      <td>3.890000</td>\n",
       "      <td>1643.000000</td>\n",
       "    </tr>\n",
       "  </tbody>\n",
       "</table>\n",
       "</div>"
      ],
      "text/plain": [
       "       total_vaccinations  people_vaccinated  people_fully_vaccinated  \\\n",
       "count        1.400000e+02       1.400000e+02             1.400000e+02   \n",
       "mean         7.019938e+06       4.498191e+06             2.521748e+06   \n",
       "std          8.676839e+06       5.352357e+06             3.348156e+06   \n",
       "min          0.000000e+00       0.000000e+00             0.000000e+00   \n",
       "25%          0.000000e+00       0.000000e+00             0.000000e+00   \n",
       "50%          1.872350e+06       1.194118e+06             6.782330e+05   \n",
       "75%          1.432410e+07       9.531292e+06             4.792809e+06   \n",
       "max          2.704551e+07       1.641367e+07             1.063184e+07   \n",
       "\n",
       "       daily_vaccinations_raw  daily_vaccinations  \\\n",
       "count            1.400000e+02          140.000000   \n",
       "mean             1.052391e+05       189119.207143   \n",
       "std              1.848300e+05       120678.220681   \n",
       "min              0.000000e+00            0.000000   \n",
       "25%              0.000000e+00        70402.250000   \n",
       "50%              0.000000e+00       209636.500000   \n",
       "75%              1.301342e+05       279843.500000   \n",
       "max              1.104221e+06       449308.000000   \n",
       "\n",
       "       total_vaccinations_per_hundred  people_vaccinated_per_hundred  \\\n",
       "count                      140.000000                     140.000000   \n",
       "mean                         2.566500                       1.644500   \n",
       "std                          3.172122                       1.956523   \n",
       "min                          0.000000                       0.000000   \n",
       "25%                          0.000000                       0.000000   \n",
       "50%                          0.685000                       0.440000   \n",
       "75%                          5.232500                       3.487500   \n",
       "max                          9.890000                       6.000000   \n",
       "\n",
       "       people_fully_vaccinated_per_hundred  daily_vaccinations_per_million  \n",
       "count                           140.000000                      140.000000  \n",
       "mean                              0.922071                      691.385714  \n",
       "std                               1.223919                      441.256522  \n",
       "min                               0.000000                        0.000000  \n",
       "25%                               0.000000                      257.000000  \n",
       "50%                               0.250000                      766.000000  \n",
       "75%                               1.755000                     1023.000000  \n",
       "max                               3.890000                     1643.000000  "
      ]
     },
     "execution_count": 24,
     "metadata": {},
     "output_type": "execute_result"
    }
   ],
   "source": [
    "#Indonesia Overall Statistics\n",
    "ido.describe()"
   ]
  },
  {
   "cell_type": "code",
   "execution_count": 25,
   "metadata": {},
   "outputs": [
    {
     "data": {
      "text/html": [
       "<div>\n",
       "<style scoped>\n",
       "    .dataframe tbody tr th:only-of-type {\n",
       "        vertical-align: middle;\n",
       "    }\n",
       "\n",
       "    .dataframe tbody tr th {\n",
       "        vertical-align: top;\n",
       "    }\n",
       "\n",
       "    .dataframe thead th {\n",
       "        text-align: right;\n",
       "    }\n",
       "</style>\n",
       "<table border=\"1\" class=\"dataframe\">\n",
       "  <thead>\n",
       "    <tr style=\"text-align: right;\">\n",
       "      <th></th>\n",
       "      <th>total_vaccinations</th>\n",
       "      <th>people_vaccinated</th>\n",
       "      <th>people_fully_vaccinated</th>\n",
       "      <th>daily_vaccinations_raw</th>\n",
       "      <th>daily_vaccinations</th>\n",
       "      <th>total_vaccinations_per_hundred</th>\n",
       "      <th>people_vaccinated_per_hundred</th>\n",
       "      <th>people_fully_vaccinated_per_hundred</th>\n",
       "      <th>daily_vaccinations_per_million</th>\n",
       "    </tr>\n",
       "  </thead>\n",
       "  <tbody>\n",
       "    <tr>\n",
       "      <th>count</th>\n",
       "      <td>1.400000e+02</td>\n",
       "      <td>1.400000e+02</td>\n",
       "      <td>1.400000e+02</td>\n",
       "      <td>140.000000</td>\n",
       "      <td>140.000000</td>\n",
       "      <td>140.000000</td>\n",
       "      <td>140.000000</td>\n",
       "      <td>140.000000</td>\n",
       "      <td>140.000000</td>\n",
       "    </tr>\n",
       "    <tr>\n",
       "      <th>mean</th>\n",
       "      <td>2.185498e+05</td>\n",
       "      <td>1.370874e+05</td>\n",
       "      <td>8.146243e+04</td>\n",
       "      <td>394.328571</td>\n",
       "      <td>27664.778571</td>\n",
       "      <td>3.735714</td>\n",
       "      <td>2.343214</td>\n",
       "      <td>1.392429</td>\n",
       "      <td>4728.764286</td>\n",
       "    </tr>\n",
       "    <tr>\n",
       "      <th>std</th>\n",
       "      <td>7.158695e+05</td>\n",
       "      <td>4.276183e+05</td>\n",
       "      <td>2.913684e+05</td>\n",
       "      <td>3388.942830</td>\n",
       "      <td>15784.522019</td>\n",
       "      <td>12.236527</td>\n",
       "      <td>7.309190</td>\n",
       "      <td>4.980494</td>\n",
       "      <td>2698.020918</td>\n",
       "    </tr>\n",
       "    <tr>\n",
       "      <th>min</th>\n",
       "      <td>0.000000e+00</td>\n",
       "      <td>0.000000e+00</td>\n",
       "      <td>0.000000e+00</td>\n",
       "      <td>0.000000</td>\n",
       "      <td>0.000000</td>\n",
       "      <td>0.000000</td>\n",
       "      <td>0.000000</td>\n",
       "      <td>0.000000</td>\n",
       "      <td>0.000000</td>\n",
       "    </tr>\n",
       "    <tr>\n",
       "      <th>25%</th>\n",
       "      <td>0.000000e+00</td>\n",
       "      <td>0.000000e+00</td>\n",
       "      <td>0.000000e+00</td>\n",
       "      <td>0.000000</td>\n",
       "      <td>11834.500000</td>\n",
       "      <td>0.000000</td>\n",
       "      <td>0.000000</td>\n",
       "      <td>0.000000</td>\n",
       "      <td>2022.750000</td>\n",
       "    </tr>\n",
       "    <tr>\n",
       "      <th>50%</th>\n",
       "      <td>0.000000e+00</td>\n",
       "      <td>0.000000e+00</td>\n",
       "      <td>0.000000e+00</td>\n",
       "      <td>0.000000</td>\n",
       "      <td>34811.500000</td>\n",
       "      <td>0.000000</td>\n",
       "      <td>0.000000</td>\n",
       "      <td>0.000000</td>\n",
       "      <td>5950.000000</td>\n",
       "    </tr>\n",
       "    <tr>\n",
       "      <th>75%</th>\n",
       "      <td>0.000000e+00</td>\n",
       "      <td>0.000000e+00</td>\n",
       "      <td>0.000000e+00</td>\n",
       "      <td>0.000000</td>\n",
       "      <td>41975.000000</td>\n",
       "      <td>0.000000</td>\n",
       "      <td>0.000000</td>\n",
       "      <td>0.000000</td>\n",
       "      <td>7175.000000</td>\n",
       "    </tr>\n",
       "    <tr>\n",
       "      <th>max</th>\n",
       "      <td>4.000000e+06</td>\n",
       "      <td>2.300000e+06</td>\n",
       "      <td>1.700000e+06</td>\n",
       "      <td>37092.000000</td>\n",
       "      <td>49283.000000</td>\n",
       "      <td>68.370000</td>\n",
       "      <td>39.310000</td>\n",
       "      <td>29.060000</td>\n",
       "      <td>8424.000000</td>\n",
       "    </tr>\n",
       "  </tbody>\n",
       "</table>\n",
       "</div>"
      ],
      "text/plain": [
       "       total_vaccinations  people_vaccinated  people_fully_vaccinated  \\\n",
       "count        1.400000e+02       1.400000e+02             1.400000e+02   \n",
       "mean         2.185498e+05       1.370874e+05             8.146243e+04   \n",
       "std          7.158695e+05       4.276183e+05             2.913684e+05   \n",
       "min          0.000000e+00       0.000000e+00             0.000000e+00   \n",
       "25%          0.000000e+00       0.000000e+00             0.000000e+00   \n",
       "50%          0.000000e+00       0.000000e+00             0.000000e+00   \n",
       "75%          0.000000e+00       0.000000e+00             0.000000e+00   \n",
       "max          4.000000e+06       2.300000e+06             1.700000e+06   \n",
       "\n",
       "       daily_vaccinations_raw  daily_vaccinations  \\\n",
       "count              140.000000          140.000000   \n",
       "mean               394.328571        27664.778571   \n",
       "std               3388.942830        15784.522019   \n",
       "min                  0.000000            0.000000   \n",
       "25%                  0.000000        11834.500000   \n",
       "50%                  0.000000        34811.500000   \n",
       "75%                  0.000000        41975.000000   \n",
       "max              37092.000000        49283.000000   \n",
       "\n",
       "       total_vaccinations_per_hundred  people_vaccinated_per_hundred  \\\n",
       "count                      140.000000                     140.000000   \n",
       "mean                         3.735714                       2.343214   \n",
       "std                         12.236527                       7.309190   \n",
       "min                          0.000000                       0.000000   \n",
       "25%                          0.000000                       0.000000   \n",
       "50%                          0.000000                       0.000000   \n",
       "75%                          0.000000                       0.000000   \n",
       "max                         68.370000                      39.310000   \n",
       "\n",
       "       people_fully_vaccinated_per_hundred  daily_vaccinations_per_million  \n",
       "count                           140.000000                      140.000000  \n",
       "mean                              1.392429                     4728.764286  \n",
       "std                               4.980494                     2698.020918  \n",
       "min                               0.000000                        0.000000  \n",
       "25%                               0.000000                     2022.750000  \n",
       "50%                               0.000000                     5950.000000  \n",
       "75%                               0.000000                     7175.000000  \n",
       "max                              29.060000                     8424.000000  "
      ]
     },
     "execution_count": 25,
     "metadata": {},
     "output_type": "execute_result"
    }
   ],
   "source": [
    "#Singapore Overall Statistics\n",
    "sing.describe()"
   ]
  },
  {
   "cell_type": "markdown",
   "metadata": {},
   "source": [
    "<h2> Average percentage of people vaccinated (%) </h2>"
   ]
  },
  {
   "cell_type": "code",
   "execution_count": 26,
   "metadata": {},
   "outputs": [
    {
     "data": {
      "text/plain": [
       "6.2956338028169005"
      ]
     },
     "execution_count": 26,
     "metadata": {},
     "output_type": "execute_result"
    }
   ],
   "source": [
    "#Malaysia\n",
    "myr[\"people_vaccinated\"].max()/31950000*100"
   ]
  },
  {
   "cell_type": "code",
   "execution_count": 27,
   "metadata": {},
   "outputs": [
    {
     "data": {
      "text/plain": [
       "30.208742161564"
      ]
     },
     "execution_count": 27,
     "metadata": {},
     "output_type": "execute_result"
    }
   ],
   "source": [
    "#Norway\n",
    "nor[\"people_vaccinated\"].max()/5422000*100"
   ]
  },
  {
   "cell_type": "code",
   "execution_count": 28,
   "metadata": {},
   "outputs": [
    {
     "data": {
      "text/plain": [
       "59.54465201465201"
      ]
     },
     "execution_count": 28,
     "metadata": {},
     "output_type": "execute_result"
    }
   ],
   "source": [
    "#Scotland\n",
    "sco[\"people_vaccinated\"].max()/5460000*100"
   ]
  },
  {
   "cell_type": "code",
   "execution_count": 29,
   "metadata": {},
   "outputs": [
    {
     "data": {
      "text/plain": [
       "57.63169047619048"
      ]
     },
     "execution_count": 29,
     "metadata": {},
     "output_type": "execute_result"
    }
   ],
   "source": [
    "#Canada\n",
    "can[\"people_vaccinated\"].max()/37800000*100"
   ]
  },
  {
   "cell_type": "code",
   "execution_count": 30,
   "metadata": {
    "scrolled": true
   },
   "outputs": [
    {
     "data": {
      "text/plain": [
       "12.115296014492753"
      ]
     },
     "execution_count": 30,
     "metadata": {},
     "output_type": "execute_result"
    }
   ],
   "source": [
    "#India\n",
    "ind[\"people_vaccinated\"].max()/1380000000*100"
   ]
  },
  {
   "cell_type": "code",
   "execution_count": 31,
   "metadata": {},
   "outputs": [
    {
     "data": {
      "text/plain": [
       "6.074638045891932"
      ]
     },
     "execution_count": 31,
     "metadata": {},
     "output_type": "execute_result"
    }
   ],
   "source": [
    "#Indonesia\n",
    "ido[\"people_vaccinated\"].max()/270200000*100"
   ]
  },
  {
   "cell_type": "code",
   "execution_count": 32,
   "metadata": {},
   "outputs": [
    {
     "data": {
      "text/plain": [
       "40.421792618629176"
      ]
     },
     "execution_count": 32,
     "metadata": {},
     "output_type": "execute_result"
    }
   ],
   "source": [
    "#Singapore\n",
    "sing[\"people_vaccinated\"].max()/5690000*100"
   ]
  },
  {
   "cell_type": "markdown",
   "metadata": {},
   "source": [
    "<h2> Analysis </h2>"
   ]
  },
  {
   "cell_type": "markdown",
   "metadata": {},
   "source": [
    "As from what can be seen from the statistics above, starting with the average mean of the world and Malaysia, it can be seen that the average mean of vaccine deployment [people_vaccinated] in the world is about 2.132971e+06 while Malaysia has about 7.391293e+05 vaccinated. Of course, while taking into consideration of the 2 land's massive population gaps, it would be better to tak into consideration of the percentage of vaccinated over population.In the world, the percentage calculated is around 2.15% while Malaysia is about 6.29%. On an average scale, while it may seem like Malaysia is doing fine but since the comparison is between Malaysia and the global population, it can be said that Malaysia is doing alright in terms of vaccine deployment. By taking into consideration of individual countries, it can be seen that Norway, Scotland, Canada and Singapore are doing quite well in terms of vaccine deployment with about 30%, 59.5%, 57.6% and 40.4% respectively which shows thaat many developed countries are doing well in terms of vaccine deployment since they mostly have the resources to do so. In terms slightly developing countries, India beats Malaysia at double the margin with 12.1% despite having a much bigger population than Malaysia, this shows that although population is one factor that needs to be accounted for, if the country has good management of resources, then the country will be able to deal with vaccine deployment much better. By comparing Singapore, India and Malaysia together, it can almost be seen that population is a factor that would not matter.\n",
    "\n",
    "While on the topic of population, even Indonesia can be seen to have about the situation as Malaysia with about 6.07% vaccinated despite having a much larger population than Malaysia. This would now bring us to the question of whether or not population will be considered a factor that affects vaccine deployment. While the answer is still yes, it can be seen in a way that it would not have as much effect on vaccine deployment overall. If that is the case, then how is Malaysia at a much lower percentage of vaccinated people. Other factors will now be considered but for this project, vaccine hesitancy will be the prime subject of discussion. While other factors can be seen affecting vaccine deployment in Malaysia in large amounts such as management of resources/lack of resources, vaccine hesitancy will play a big role in the vaccine deployment of Malaysia. if people hesitate on the side effects of the vaccine, problems will start to occur and people will reject a certain type of vaccine which is why the subject of vaccine deployment due to vaccine hesitancy will be investigated throughly."
   ]
  },
  {
   "cell_type": "markdown",
   "metadata": {},
   "source": [
    "# Model Development"
   ]
  },
  {
   "cell_type": "markdown",
   "metadata": {},
   "source": [
    "<h2> Algorithm and Model Selection </h2>"
   ]
  },
  {
   "cell_type": "markdown",
   "metadata": {},
   "source": [
    "First, we need to ascertain whether the data is stationary. We can do this by plotting out the rolling statistics and performing the Dickey-Fuller test."
   ]
  },
  {
   "cell_type": "code",
   "execution_count": 33,
   "metadata": {},
   "outputs": [],
   "source": [
    "def test_stationarity(timeseries):\n",
    "    # Determing rolling statistics\n",
    "    rolmean = timeseries.rolling(10).mean()\n",
    "    rolstd = timeseries.rolling(10).std()\n",
    "\n",
    "    # Plot rolling statistics:\n",
    "    orig = plt.plot(timeseries, color='blue', label='Original')\n",
    "    mean = plt.plot(rolmean, color='red', label='Rolling Mean')\n",
    "    std = plt.plot(rolstd, color='black', label='Rolling Std')\n",
    "    plt.legend(loc='best')\n",
    "    plt.title('Rolling Mean & Standard Deviation')\n",
    "    plt.show(block=False)\n",
    "\n",
    "    # Perform Dickey-Fuller test:\n",
    "    print('Results of Dickey-Fuller Test:')\n",
    "    dftest = adfuller(timeseries, autolag='AIC')\n",
    "    dfoutput = pd.Series(dftest[0:4], index=['Test Statistic', 'p-value', '#Lags Used', 'Number of Observations Used'])\n",
    "    for key, value in dftest[4].items():\n",
    "        dfoutput['Critical Value (%s)' % key] = value\n",
    "    print(dfoutput)"
   ]
  },
  {
   "cell_type": "code",
   "execution_count": 34,
   "metadata": {},
   "outputs": [
    {
     "data": {
      "image/png": "[encoded data removed]",
      "text/plain": [
       "<Figure size 432x288 with 1 Axes>"
      ]
     },
     "metadata": {
      "needs_background": "light"
     },
     "output_type": "display_data"
    },
    {
     "name": "stdout",
     "output_type": "stream",
     "text": [
      "Results of Dickey-Fuller Test:\n",
      "Test Statistic                  1.446821\n",
      "p-value                         0.997317\n",
      "#Lags Used                     10.000000\n",
      "Number of Observations Used    87.000000\n",
      "Critical Value (1%)            -3.507853\n",
      "Critical Value (5%)            -2.895382\n",
      "Critical Value (10%)           -2.584824\n",
      "dtype: float64\n"
     ]
    }
   ],
   "source": [
    "test_stationarity(data)"
   ]
  },
  {
   "cell_type": "markdown",
   "metadata": {},
   "source": [
    "As can be seen here, our data is not stationary. \n",
    "<li> Both the rolling mean and rolling standard deviation is increasing over time. </li>\n",
    "<li> The p-value is > 0.05. </li>\n",
    "\n",
    "<p1> Hence, the data is non-stationary </p1>\n",
    "\n",
    "<p1> Transforming the dataset by log transforming and differencing can convert it to stationary data fit for modelling. </p1>"
   ]
  },
  {
   "cell_type": "code",
   "execution_count": 35,
   "metadata": {
    "scrolled": true
   },
   "outputs": [
    {
     "data": {
      "image/png": "[encoded data removed]",
      "text/plain": [
       "<Figure size 432x288 with 1 Axes>"
      ]
     },
     "metadata": {
      "needs_background": "light"
     },
     "output_type": "display_data"
    },
    {
     "name": "stdout",
     "output_type": "stream",
     "text": [
      "Results of Dickey-Fuller Test:\n",
      "Test Statistic                 -3.802771\n",
      "p-value                         0.002879\n",
      "#Lags Used                      8.000000\n",
      "Number of Observations Used    83.000000\n",
      "Critical Value (1%)            -3.511712\n",
      "Critical Value (5%)            -2.897048\n",
      "Critical Value (10%)           -2.585713\n",
      "dtype: float64\n"
     ]
    }
   ],
   "source": [
    "# transforming data\n",
    "ts_log = np.log1p(train_array)\n",
    "ts_diff = ts_log.diff().dropna()\n",
    "test_stationarity(ts_diff)"
   ]
  },
  {
   "cell_type": "markdown",
   "metadata": {},
   "source": [
    "After differencing, it can be seen that:\n",
    "<li> The rolling mean and standard deviation are more stable </li>\n",
    "<li> The p-value is &lt; 0.05 </li>\n",
    "\n",
    "<p1> Hence, the data can now be considered stationary </p1>"
   ]
  },
  {
   "cell_type": "markdown",
   "metadata": {},
   "source": [
    "In order to select a suitable model, we need to determine whether the data has a trend or seasonality."
   ]
  },
  {
   "cell_type": "code",
   "execution_count": 36,
   "metadata": {
    "scrolled": false
   },
   "outputs": [
    {
     "data": {
      "image/png": "[encoded data removed]",
      "text/plain": [
       "<Figure size 432x288 with 4 Axes>"
      ]
     },
     "metadata": {
      "needs_background": "light"
     },
     "output_type": "display_data"
    }
   ],
   "source": [
    "from statsmodels.tsa.seasonal import seasonal_decompose\n",
    "\n",
    "result = seasonal_decompose(myr['daily_vaccinations'])\n",
    "\n",
    "result.plot()\n",
    "plt.show()"
   ]
  },
  {
   "cell_type": "markdown",
   "metadata": {},
   "source": [
    "From this breakdown, we can clearly see there is a trend and seasonality to our data."
   ]
  },
  {
   "cell_type": "markdown",
   "metadata": {},
   "source": [
    "Therefore, the model we have selected is the SARIMA model. This is because SARIMA is an extension of ARIMA that supports time series data with seasonal components."
   ]
  },
  {
   "cell_type": "markdown",
   "metadata": {},
   "source": [
    "<h2> Model Fitting </h2>"
   ]
  },
  {
   "cell_type": "markdown",
   "metadata": {},
   "source": [
    "We can use the auto ARIMA function to perform a stepwise search for the order that results in the best fit model."
   ]
  },
  {
   "cell_type": "code",
   "execution_count": 37,
   "metadata": {
    "scrolled": false
   },
   "outputs": [
    {
     "name": "stdout",
     "output_type": "stream",
     "text": [
      "Requirement already satisfied: pmdarima in c:\\users\\user\\anaconda3\\lib\\site-packages (1.8.2)\n",
      "Requirement already satisfied: statsmodels!=0.12.0,>=0.11 in c:\\users\\user\\anaconda3\\lib\\site-packages (from pmdarima) (0.11.0)\n",
      "Requirement already satisfied: numpy~=1.19.0 in c:\\users\\user\\anaconda3\\lib\\site-packages (from pmdarima) (1.19.5)\n",
      "Requirement already satisfied: scipy>=1.3.2 in c:\\users\\user\\anaconda3\\lib\\site-packages (from pmdarima) (1.4.1)\n",
      "Requirement already satisfied: scikit-learn>=0.22 in c:\\users\\user\\anaconda3\\lib\\site-packages (from pmdarima) (0.22.1)\n",
      "Requirement already satisfied: joblib>=0.11 in c:\\users\\user\\anaconda3\\lib\\site-packages (from pmdarima) (0.14.1)\n",
      "Requirement already satisfied: Cython!=0.29.18,>=0.29 in c:\\users\\user\\anaconda3\\lib\\site-packages (from pmdarima) (0.29.15)\n",
      "Requirement already satisfied: setuptools!=50.0.0,>=38.6.0 in c:\\users\\user\\anaconda3\\lib\\site-packages (from pmdarima) (45.2.0.post20200210)\n",
      "Requirement already satisfied: pandas>=0.19 in c:\\users\\user\\anaconda3\\lib\\site-packages (from pmdarima) (1.0.1)\n",
      "Requirement already satisfied: urllib3 in c:\\users\\user\\anaconda3\\lib\\site-packages (from pmdarima) (1.25.8)\n",
      "Requirement already satisfied: patsy>=0.5 in c:\\users\\user\\anaconda3\\lib\\site-packages (from statsmodels!=0.12.0,>=0.11->pmdarima) (0.5.1)\n",
      "Requirement already satisfied: python-dateutil>=2.6.1 in c:\\users\\user\\anaconda3\\lib\\site-packages (from pandas>=0.19->pmdarima) (2.8.1)\n",
      "Requirement already satisfied: pytz>=2017.2 in c:\\users\\user\\anaconda3\\lib\\site-packages (from pandas>=0.19->pmdarima) (2019.3)\n",
      "Requirement already satisfied: six in c:\\users\\user\\anaconda3\\lib\\site-packages (from patsy>=0.5->statsmodels!=0.12.0,>=0.11->pmdarima) (1.14.0)\n",
      "Performing stepwise search to minimize aic\n",
      " ARIMA(1,2,1)(1,1,1)[12]             : AIC=inf, Time=7.70 sec\n",
      " ARIMA(0,2,0)(0,1,0)[12]             : AIC=1608.917, Time=0.07 sec\n",
      " ARIMA(1,2,0)(1,1,0)[12]             : AIC=1598.691, Time=0.43 sec\n",
      " ARIMA(0,2,1)(0,1,1)[12]             : AIC=1591.227, Time=2.30 sec\n",
      " ARIMA(0,2,1)(0,1,0)[12]             : AIC=inf, Time=0.36 sec\n",
      " ARIMA(0,2,1)(1,1,1)[12]             : AIC=inf, Time=2.61 sec\n",
      " ARIMA(0,2,1)(0,1,2)[12]             : AIC=inf, Time=2.98 sec\n",
      " ARIMA(0,2,1)(1,1,0)[12]             : AIC=inf, Time=0.91 sec\n",
      " ARIMA(0,2,1)(1,1,2)[12]             : AIC=1596.333, Time=2.57 sec\n",
      " ARIMA(0,2,0)(0,1,1)[12]             : AIC=1602.502, Time=0.70 sec\n",
      " ARIMA(1,2,1)(0,1,1)[12]             : AIC=inf, Time=1.84 sec\n",
      " ARIMA(0,2,2)(0,1,1)[12]             : AIC=inf, Time=1.77 sec\n",
      " ARIMA(1,2,0)(0,1,1)[12]             : AIC=1597.248, Time=0.38 sec\n",
      " ARIMA(1,2,2)(0,1,1)[12]             : AIC=1594.446, Time=3.05 sec\n",
      " ARIMA(0,2,1)(0,1,1)[12] intercept   : AIC=inf, Time=2.66 sec\n",
      "\n",
      "Best model:  ARIMA(0,2,1)(0,1,1)[12]          \n",
      "Total fit time: 30.377 seconds\n"
     ]
    }
   ],
   "source": [
    "!pip install pmdarima\n",
    "import pmdarima as pm\n",
    "\n",
    "# stepwise model\n",
    "def arimamodel(timeseries):\n",
    "    autoarima_model = pm.auto_arima(timeseries,\n",
    "                                    start_p=1,\n",
    "                                    start_q=1,\n",
    "                                    d=2,\n",
    "                                    m=12,\n",
    "                                    trace=True,\n",
    "                                    seasonal=True,\n",
    "                                    stepwise=True)\n",
    "    return autoarima_model\n",
    "\n",
    "\n",
    "model = arimamodel(train_array)\n",
    "model = model.fit(train_array)"
   ]
  },
  {
   "cell_type": "code",
   "execution_count": 38,
   "metadata": {},
   "outputs": [
    {
     "data": {
      "text/html": [
       "<table class=\"simpletable\">\n",
       "<caption>SARIMAX Results</caption>\n",
       "<tr>\n",
       "  <th>Dep. Variable:</th>                  <td>y</td>               <th>  No. Observations:  </th>    <td>93</td>   \n",
       "</tr>\n",
       "<tr>\n",
       "  <th>Model:</th>           <td>SARIMAX(0, 2, 1)x(0, 1, 1, 12)</td> <th>  Log Likelihood     </th> <td>-792.613</td>\n",
       "</tr>\n",
       "<tr>\n",
       "  <th>Date:</th>                   <td>Sun, 27 Jun 2021</td>        <th>  AIC                </th> <td>1591.227</td>\n",
       "</tr>\n",
       "<tr>\n",
       "  <th>Time:</th>                       <td>14:54:02</td>            <th>  BIC                </th> <td>1598.335</td>\n",
       "</tr>\n",
       "<tr>\n",
       "  <th>Sample:</th>                         <td>0</td>               <th>  HQIC               </th> <td>1594.074</td>\n",
       "</tr>\n",
       "<tr>\n",
       "  <th></th>                              <td> - 93</td>             <th>                     </th>     <td> </td>   \n",
       "</tr>\n",
       "<tr>\n",
       "  <th>Covariance Type:</th>               <td>opg</td>              <th>                     </th>     <td> </td>   \n",
       "</tr>\n",
       "</table>\n",
       "<table class=\"simpletable\">\n",
       "<tr>\n",
       "      <td></td>        <th>coef</th>     <th>std err</th>      <th>z</th>      <th>P>|z|</th>  <th>[0.025</th>    <th>0.975]</th>  \n",
       "</tr>\n",
       "<tr>\n",
       "  <th>ma.L1</th>    <td>   -0.9711</td> <td>    0.051</td> <td>  -19.224</td> <td> 0.000</td> <td>   -1.070</td> <td>   -0.872</td>\n",
       "</tr>\n",
       "<tr>\n",
       "  <th>ma.S.L12</th> <td>   -0.1398</td> <td>    0.387</td> <td>   -0.361</td> <td> 0.718</td> <td>   -0.898</td> <td>    0.618</td>\n",
       "</tr>\n",
       "<tr>\n",
       "  <th>sigma2</th>   <td> 2.997e+07</td> <td> 2.19e-08</td> <td> 1.37e+15</td> <td> 0.000</td> <td>    3e+07</td> <td>    3e+07</td>\n",
       "</tr>\n",
       "</table>\n",
       "<table class=\"simpletable\">\n",
       "<tr>\n",
       "  <th>Ljung-Box (Q):</th>          <td>38.44</td> <th>  Jarque-Bera (JB):  </th> <td>884.38</td>\n",
       "</tr>\n",
       "<tr>\n",
       "  <th>Prob(Q):</th>                <td>0.54</td>  <th>  Prob(JB):          </th>  <td>0.00</td> \n",
       "</tr>\n",
       "<tr>\n",
       "  <th>Heteroskedasticity (H):</th> <td>19.43</td> <th>  Skew:              </th>  <td>1.06</td> \n",
       "</tr>\n",
       "<tr>\n",
       "  <th>Prob(H) (two-sided):</th>    <td>0.00</td>  <th>  Kurtosis:          </th>  <td>19.25</td>\n",
       "</tr>\n",
       "</table><br/><br/>Warnings:<br/>[1] Covariance matrix calculated using the outer product of gradients (complex-step).<br/>[2] Covariance matrix is singular or near-singular, with condition number 8.18e+29. Standard errors may be unstable."
      ],
      "text/plain": [
       "<class 'statsmodels.iolib.summary.Summary'>\n",
       "\"\"\"\n",
       "                                     SARIMAX Results                                      \n",
       "==========================================================================================\n",
       "Dep. Variable:                                  y   No. Observations:                   93\n",
       "Model:             SARIMAX(0, 2, 1)x(0, 1, 1, 12)   Log Likelihood                -792.613\n",
       "Date:                            Sun, 27 Jun 2021   AIC                           1591.227\n",
       "Time:                                    14:54:02   BIC                           1598.335\n",
       "Sample:                                         0   HQIC                          1594.074\n",
       "                                             - 93                                         \n",
       "Covariance Type:                              opg                                         \n",
       "==============================================================================\n",
       "                 coef    std err          z      P>|z|      [0.025      0.975]\n",
       "------------------------------------------------------------------------------\n",
       "ma.L1         -0.9711      0.051    -19.224      0.000      -1.070      -0.872\n",
       "ma.S.L12      -0.1398      0.387     -0.361      0.718      -0.898       0.618\n",
       "sigma2      2.997e+07   2.19e-08   1.37e+15      0.000       3e+07       3e+07\n",
       "===================================================================================\n",
       "Ljung-Box (Q):                       38.44   Jarque-Bera (JB):               884.38\n",
       "Prob(Q):                              0.54   Prob(JB):                         0.00\n",
       "Heteroskedasticity (H):              19.43   Skew:                             1.06\n",
       "Prob(H) (two-sided):                  0.00   Kurtosis:                        19.25\n",
       "===================================================================================\n",
       "\n",
       "Warnings:\n",
       "[1] Covariance matrix calculated using the outer product of gradients (complex-step).\n",
       "[2] Covariance matrix is singular or near-singular, with condition number 8.18e+29. Standard errors may be unstable.\n",
       "\"\"\""
      ]
     },
     "execution_count": 38,
     "metadata": {},
     "output_type": "execute_result"
    }
   ],
   "source": [
    "model.summary()"
   ]
  },
  {
   "cell_type": "markdown",
   "metadata": {},
   "source": [
    "With this, the model with the smallest AIC is found. Using this model, we can compare the model predictions on the training data with the actual data."
   ]
  },
  {
   "cell_type": "code",
   "execution_count": 39,
   "metadata": {
    "scrolled": true
   },
   "outputs": [
    {
     "data": {
      "image/png": "[encoded data removed]",
      "text/plain": [
       "<Figure size 432x288 with 1 Axes>"
      ]
     },
     "metadata": {
      "needs_background": "light"
     },
     "output_type": "display_data"
    }
   ],
   "source": [
    "predictions_in_sample = model.predict_in_sample()\n",
    "predictions_in_sample = pd.DataFrame({'predictions': predictions_in_sample}).set_index(train.index)\n",
    "\n",
    "# shows model vs data\n",
    "pd.concat([train.daily_vaccinations, predictions_in_sample], axis=1).plot()\n",
    "plt.legend(['daily_vaccinations', 'training_model'])\n",
    "plt.title(\"Training Model vs Data\")\n",
    "plt.show()"
   ]
  },
  {
   "cell_type": "code",
   "execution_count": 40,
   "metadata": {},
   "outputs": [
    {
     "data": {
      "text/html": [
       "<div>\n",
       "<style scoped>\n",
       "    .dataframe tbody tr th:only-of-type {\n",
       "        vertical-align: middle;\n",
       "    }\n",
       "\n",
       "    .dataframe tbody tr th {\n",
       "        vertical-align: top;\n",
       "    }\n",
       "\n",
       "    .dataframe thead th {\n",
       "        text-align: right;\n",
       "    }\n",
       "</style>\n",
       "<table border=\"1\" class=\"dataframe\">\n",
       "  <thead>\n",
       "    <tr style=\"text-align: right;\">\n",
       "      <th></th>\n",
       "      <th>daily_vaccinations</th>\n",
       "      <th>model_predictions</th>\n",
       "    </tr>\n",
       "    <tr>\n",
       "      <th>date</th>\n",
       "      <th></th>\n",
       "      <th></th>\n",
       "    </tr>\n",
       "  </thead>\n",
       "  <tbody>\n",
       "    <tr>\n",
       "      <th>2021-02-23</th>\n",
       "      <td>0.0</td>\n",
       "      <td>0.000000</td>\n",
       "    </tr>\n",
       "    <tr>\n",
       "      <th>2021-02-24</th>\n",
       "      <td>895.0</td>\n",
       "      <td>0.000000</td>\n",
       "    </tr>\n",
       "    <tr>\n",
       "      <th>2021-02-25</th>\n",
       "      <td>895.0</td>\n",
       "      <td>1216.247029</td>\n",
       "    </tr>\n",
       "    <tr>\n",
       "      <th>2021-02-26</th>\n",
       "      <td>895.0</td>\n",
       "      <td>1125.533699</td>\n",
       "    </tr>\n",
       "    <tr>\n",
       "      <th>2021-02-27</th>\n",
       "      <td>895.0</td>\n",
       "      <td>1070.053047</td>\n",
       "    </tr>\n",
       "  </tbody>\n",
       "</table>\n",
       "</div>"
      ],
      "text/plain": [
       "            daily_vaccinations  model_predictions\n",
       "date                                             \n",
       "2021-02-23                 0.0           0.000000\n",
       "2021-02-24               895.0           0.000000\n",
       "2021-02-25               895.0        1216.247029\n",
       "2021-02-26               895.0        1125.533699\n",
       "2021-02-27               895.0        1070.053047"
      ]
     },
     "execution_count": 40,
     "metadata": {},
     "output_type": "execute_result"
    }
   ],
   "source": [
    "train['model_predictions'] = predictions_in_sample\n",
    "train.head()"
   ]
  },
  {
   "cell_type": "markdown",
   "metadata": {},
   "source": [
    "Forecasting 20 days in the future with the model"
   ]
  },
  {
   "cell_type": "code",
   "execution_count": 41,
   "metadata": {},
   "outputs": [
    {
     "data": {
      "text/html": [
       "<div>\n",
       "<style scoped>\n",
       "    .dataframe tbody tr th:only-of-type {\n",
       "        vertical-align: middle;\n",
       "    }\n",
       "\n",
       "    .dataframe tbody tr th {\n",
       "        vertical-align: top;\n",
       "    }\n",
       "\n",
       "    .dataframe thead th {\n",
       "        text-align: right;\n",
       "    }\n",
       "</style>\n",
       "<table border=\"1\" class=\"dataframe\">\n",
       "  <thead>\n",
       "    <tr style=\"text-align: right;\">\n",
       "      <th></th>\n",
       "      <th>Forecast</th>\n",
       "    </tr>\n",
       "  </thead>\n",
       "  <tbody>\n",
       "    <tr>\n",
       "      <th>2021-05-27</th>\n",
       "      <td>69172.018666</td>\n",
       "    </tr>\n",
       "    <tr>\n",
       "      <th>2021-05-28</th>\n",
       "      <td>67999.298648</td>\n",
       "    </tr>\n",
       "    <tr>\n",
       "      <th>2021-05-29</th>\n",
       "      <td>69839.739511</td>\n",
       "    </tr>\n",
       "    <tr>\n",
       "      <th>2021-05-30</th>\n",
       "      <td>74165.069952</td>\n",
       "    </tr>\n",
       "    <tr>\n",
       "      <th>2021-05-31</th>\n",
       "      <td>104091.415251</td>\n",
       "    </tr>\n",
       "    <tr>\n",
       "      <th>2021-06-01</th>\n",
       "      <td>115260.649914</td>\n",
       "    </tr>\n",
       "    <tr>\n",
       "      <th>2021-06-02</th>\n",
       "      <td>123591.572078</td>\n",
       "    </tr>\n",
       "    <tr>\n",
       "      <th>2021-06-03</th>\n",
       "      <td>129205.515825</td>\n",
       "    </tr>\n",
       "    <tr>\n",
       "      <th>2021-06-04</th>\n",
       "      <td>134228.640825</td>\n",
       "    </tr>\n",
       "    <tr>\n",
       "      <th>2021-06-05</th>\n",
       "      <td>138762.731155</td>\n",
       "    </tr>\n",
       "    <tr>\n",
       "      <th>2021-06-06</th>\n",
       "      <td>141552.377063</td>\n",
       "    </tr>\n",
       "    <tr>\n",
       "      <th>2021-06-07</th>\n",
       "      <td>119159.995225</td>\n",
       "    </tr>\n",
       "    <tr>\n",
       "      <th>2021-06-08</th>\n",
       "      <td>118898.748940</td>\n",
       "    </tr>\n",
       "    <tr>\n",
       "      <th>2021-06-09</th>\n",
       "      <td>118523.763971</td>\n",
       "    </tr>\n",
       "    <tr>\n",
       "      <th>2021-06-10</th>\n",
       "      <td>121161.939884</td>\n",
       "    </tr>\n",
       "    <tr>\n",
       "      <th>2021-06-11</th>\n",
       "      <td>126285.005374</td>\n",
       "    </tr>\n",
       "    <tr>\n",
       "      <th>2021-06-12</th>\n",
       "      <td>157009.085722</td>\n",
       "    </tr>\n",
       "    <tr>\n",
       "      <th>2021-06-13</th>\n",
       "      <td>168976.055434</td>\n",
       "    </tr>\n",
       "    <tr>\n",
       "      <th>2021-06-14</th>\n",
       "      <td>178104.712648</td>\n",
       "    </tr>\n",
       "    <tr>\n",
       "      <th>2021-06-15</th>\n",
       "      <td>184516.391444</td>\n",
       "    </tr>\n",
       "  </tbody>\n",
       "</table>\n",
       "</div>"
      ],
      "text/plain": [
       "                 Forecast\n",
       "2021-05-27   69172.018666\n",
       "2021-05-28   67999.298648\n",
       "2021-05-29   69839.739511\n",
       "2021-05-30   74165.069952\n",
       "2021-05-31  104091.415251\n",
       "2021-06-01  115260.649914\n",
       "2021-06-02  123591.572078\n",
       "2021-06-03  129205.515825\n",
       "2021-06-04  134228.640825\n",
       "2021-06-05  138762.731155\n",
       "2021-06-06  141552.377063\n",
       "2021-06-07  119159.995225\n",
       "2021-06-08  118898.748940\n",
       "2021-06-09  118523.763971\n",
       "2021-06-10  121161.939884\n",
       "2021-06-11  126285.005374\n",
       "2021-06-12  157009.085722\n",
       "2021-06-13  168976.055434\n",
       "2021-06-14  178104.712648\n",
       "2021-06-15  184516.391444"
      ]
     },
     "execution_count": 41,
     "metadata": {},
     "output_type": "execute_result"
    }
   ],
   "source": [
    "import datetime\n",
    "\n",
    "forecast = model.predict(n_periods=20)\n",
    "\n",
    "end_date = data.index[-1] + datetime.timedelta(days=15)\n",
    "start_date = data.index[-5]\n",
    "\n",
    "forecast_index = pd.date_range(start_date, end_date, freq='d')\n",
    "future_forecast = pd.DataFrame({'Forecast': forecast}).set_index(forecast_index)\n",
    "\n",
    "future_forecast"
   ]
  },
  {
   "cell_type": "code",
   "execution_count": 42,
   "metadata": {},
   "outputs": [
    {
     "data": {
      "image/png": "[encoded data removed]",
      "text/plain": [
       "<Figure size 432x288 with 1 Axes>"
      ]
     },
     "metadata": {
      "needs_background": "light"
     },
     "output_type": "display_data"
    }
   ],
   "source": [
    "# whole data with forecast\n",
    "pd.concat([data, future_forecast], axis=1).plot()\n",
    "plt.title(\"20 Days Forecast\")\n",
    "plt.show()"
   ]
  },
  {
   "cell_type": "markdown",
   "metadata": {},
   "source": [
    "<h2> Model validation </h2>"
   ]
  },
  {
   "cell_type": "markdown",
   "metadata": {},
   "source": [
    "We'll be using Mean Absolute Percentage Error (MAPE) and Root Mean Square Error (RMSE) to estimate the accuracy of our model in terms of the differences between the actual and estimated values."
   ]
  },
  {
   "cell_type": "code",
   "execution_count": 43,
   "metadata": {},
   "outputs": [],
   "source": [
    "# evaluate model\n",
    "def mean_absolute_percentage_error(y_actual, y_pred):\n",
    "    y_true, y_pred = np.array(y_actual), np.array(y_pred)\n",
    "    return np.mean(np.abs((y_actual - y_pred) / y_true)) * 100"
   ]
  },
  {
   "cell_type": "code",
   "execution_count": 44,
   "metadata": {
    "scrolled": true
   },
   "outputs": [
    {
     "name": "stdout",
     "output_type": "stream",
     "text": [
      "TRAINING MAPE: 10.811981755440394\n",
      "TRAINING RMSE: 5068.030103208825\n"
     ]
    }
   ],
   "source": [
    "# training model evaluation\n",
    "training_mape1 = mean_absolute_percentage_error(train_array, predictions_in_sample.predictions)\n",
    "training_rmse1 = rmse(train_array, predictions_in_sample.predictions)\n",
    "\n",
    "print(\"TRAINING MAPE: \" + str(training_mape1))\n",
    "print(\"TRAINING RMSE: \" + str(training_rmse1))"
   ]
  },
  {
   "cell_type": "markdown",
   "metadata": {},
   "source": [
    "As can be seen, the average difference between the predicted values and the actual values of the training model is 10.8%."
   ]
  },
  {
   "cell_type": "code",
   "execution_count": 45,
   "metadata": {},
   "outputs": [
    {
     "name": "stdout",
     "output_type": "stream",
     "text": [
      "TESTING MAPE: 9.628531653829295\n",
      "TESTING RMSE: 13060.74279085732\n"
     ]
    }
   ],
   "source": [
    "# forecast values evaluation\n",
    "testing_mape1 = mean_absolute_percentage_error(test_array, forecast[:5])\n",
    "testing_rmse1 = rmse(test_array, forecast[:5])\n",
    "\n",
    "print(\"TESTING MAPE: \" + str(testing_mape1))\n",
    "print(\"TESTING RMSE: \" + str(testing_rmse1))"
   ]
  },
  {
   "cell_type": "markdown",
   "metadata": {},
   "source": [
    "And the average difference between the partial forecasted values and the test values is 9.6%, better than the results from the training model. However, the rmse is larger, and this is one of the limitations that will be explained below."
   ]
  },
  {
   "cell_type": "markdown",
   "metadata": {},
   "source": [
    "# Visualisation and Communication"
   ]
  },
  {
   "cell_type": "markdown",
   "metadata": {},
   "source": [
    "In this section, Malaysia's vaccination progress will be analysed using line graphs. This will clearly show the number of vaccinations deployed against time. Then, based on the model, methods, and graphs in this section and in previous sections, a summary will be made to determine the most suitable graphs used to convey the results of this study. "
   ]
  },
  {
   "cell_type": "markdown",
   "metadata": {},
   "source": [
    "Firstly, an analysis on Malaysia's vaccination deployment will first be carried out, which will then be evaluated and elaborated. "
   ]
  },
  {
   "cell_type": "code",
   "execution_count": 46,
   "metadata": {},
   "outputs": [],
   "source": [
    "# look for NULL values\n",
    "df.isnull().sum(axis=0)\n",
    "\n",
    "\n",
    "# replace NULL values with zeros\n",
    "df['total_vaccinations'] = df['total_vaccinations'].fillna(0)\n",
    "df['people_vaccinated'] = df['people_vaccinated'].fillna(0)\n",
    "df['people_fully_vaccinated'] = df['people_fully_vaccinated'].fillna(0)\n",
    "df['daily_vaccinations'] = df['daily_vaccinations'].fillna(0)"
   ]
  },
  {
   "cell_type": "markdown",
   "metadata": {},
   "source": [
    "The data types of each column in the dataset is then identified."
   ]
  },
  {
   "cell_type": "code",
   "execution_count": 47,
   "metadata": {},
   "outputs": [],
   "source": [
    "# read datset\n",
    "df = pd.read_csv(\"dataset2/country_vaccinations (2).csv\")"
   ]
  },
  {
   "cell_type": "code",
   "execution_count": 48,
   "metadata": {},
   "outputs": [
    {
     "data": {
      "text/plain": [
       "country                                 object\n",
       "iso_code                                object\n",
       "date                                    object\n",
       "total_vaccinations                     float64\n",
       "people_vaccinated                      float64\n",
       "people_fully_vaccinated                float64\n",
       "daily_vaccinations_raw                 float64\n",
       "daily_vaccinations                     float64\n",
       "total_vaccinations_per_hundred         float64\n",
       "people_vaccinated_per_hundred          float64\n",
       "people_fully_vaccinated_per_hundred    float64\n",
       "daily_vaccinations_per_million         float64\n",
       "vaccines                                object\n",
       "source_name                             object\n",
       "source_website                          object\n",
       "dtype: object"
      ]
     },
     "execution_count": 48,
     "metadata": {},
     "output_type": "execute_result"
    }
   ],
   "source": [
    "# check data types \n",
    "df.dtypes"
   ]
  },
  {
   "cell_type": "markdown",
   "metadata": {},
   "source": [
    "Before progressing any further, the 'date' column that is an object data type has to be changed into a date format. This is so that graphs can be plotted against 'date'."
   ]
  },
  {
   "cell_type": "code",
   "execution_count": 49,
   "metadata": {},
   "outputs": [],
   "source": [
    "# convert 'date' to date format\n",
    "df['date'] = pd.to_datetime(df['date'])"
   ]
  },
  {
   "cell_type": "code",
   "execution_count": 50,
   "metadata": {},
   "outputs": [
    {
     "data": {
      "text/plain": [
       "(21628, 15)"
      ]
     },
     "execution_count": 50,
     "metadata": {},
     "output_type": "execute_result"
    }
   ],
   "source": [
    "# check whole dataset size\n",
    "df.shape"
   ]
  },
  {
   "cell_type": "markdown",
   "metadata": {},
   "source": [
    "Finally, Malaysia's data is extracted from the dataset and displayed."
   ]
  },
  {
   "cell_type": "code",
   "execution_count": 51,
   "metadata": {},
   "outputs": [
    {
     "data": {
      "text/html": [
       "<div>\n",
       "<style scoped>\n",
       "    .dataframe tbody tr th:only-of-type {\n",
       "        vertical-align: middle;\n",
       "    }\n",
       "\n",
       "    .dataframe tbody tr th {\n",
       "        vertical-align: top;\n",
       "    }\n",
       "\n",
       "    .dataframe thead th {\n",
       "        text-align: right;\n",
       "    }\n",
       "</style>\n",
       "<table border=\"1\" class=\"dataframe\">\n",
       "  <thead>\n",
       "    <tr style=\"text-align: right;\">\n",
       "      <th></th>\n",
       "      <th>country</th>\n",
       "      <th>iso_code</th>\n",
       "      <th>date</th>\n",
       "      <th>total_vaccinations</th>\n",
       "      <th>people_vaccinated</th>\n",
       "      <th>people_fully_vaccinated</th>\n",
       "      <th>daily_vaccinations_raw</th>\n",
       "      <th>daily_vaccinations</th>\n",
       "      <th>total_vaccinations_per_hundred</th>\n",
       "      <th>people_vaccinated_per_hundred</th>\n",
       "      <th>people_fully_vaccinated_per_hundred</th>\n",
       "      <th>daily_vaccinations_per_million</th>\n",
       "      <th>vaccines</th>\n",
       "      <th>source_name</th>\n",
       "      <th>source_website</th>\n",
       "    </tr>\n",
       "  </thead>\n",
       "  <tbody>\n",
       "    <tr>\n",
       "      <th>11809</th>\n",
       "      <td>Malaysia</td>\n",
       "      <td>MYS</td>\n",
       "      <td>2021-02-23</td>\n",
       "      <td>0.0</td>\n",
       "      <td>0.0</td>\n",
       "      <td>NaN</td>\n",
       "      <td>NaN</td>\n",
       "      <td>NaN</td>\n",
       "      <td>0.00</td>\n",
       "      <td>0.00</td>\n",
       "      <td>NaN</td>\n",
       "      <td>NaN</td>\n",
       "      <td>Oxford/AstraZeneca, Pfizer/BioNTech, Sinovac</td>\n",
       "      <td>Government of Malaysia</td>\n",
       "      <td>https://www.vaksincovid.gov.my/statistik/</td>\n",
       "    </tr>\n",
       "    <tr>\n",
       "      <th>11810</th>\n",
       "      <td>Malaysia</td>\n",
       "      <td>MYS</td>\n",
       "      <td>2021-02-24</td>\n",
       "      <td>NaN</td>\n",
       "      <td>NaN</td>\n",
       "      <td>NaN</td>\n",
       "      <td>NaN</td>\n",
       "      <td>895.0</td>\n",
       "      <td>NaN</td>\n",
       "      <td>NaN</td>\n",
       "      <td>NaN</td>\n",
       "      <td>28.0</td>\n",
       "      <td>Oxford/AstraZeneca, Pfizer/BioNTech, Sinovac</td>\n",
       "      <td>Government of Malaysia</td>\n",
       "      <td>https://www.vaksincovid.gov.my/statistik/</td>\n",
       "    </tr>\n",
       "    <tr>\n",
       "      <th>11811</th>\n",
       "      <td>Malaysia</td>\n",
       "      <td>MYS</td>\n",
       "      <td>2021-02-25</td>\n",
       "      <td>NaN</td>\n",
       "      <td>NaN</td>\n",
       "      <td>NaN</td>\n",
       "      <td>NaN</td>\n",
       "      <td>895.0</td>\n",
       "      <td>NaN</td>\n",
       "      <td>NaN</td>\n",
       "      <td>NaN</td>\n",
       "      <td>28.0</td>\n",
       "      <td>Oxford/AstraZeneca, Pfizer/BioNTech, Sinovac</td>\n",
       "      <td>Government of Malaysia</td>\n",
       "      <td>https://www.vaksincovid.gov.my/statistik/</td>\n",
       "    </tr>\n",
       "    <tr>\n",
       "      <th>11812</th>\n",
       "      <td>Malaysia</td>\n",
       "      <td>MYS</td>\n",
       "      <td>2021-02-26</td>\n",
       "      <td>NaN</td>\n",
       "      <td>NaN</td>\n",
       "      <td>NaN</td>\n",
       "      <td>NaN</td>\n",
       "      <td>895.0</td>\n",
       "      <td>NaN</td>\n",
       "      <td>NaN</td>\n",
       "      <td>NaN</td>\n",
       "      <td>28.0</td>\n",
       "      <td>Oxford/AstraZeneca, Pfizer/BioNTech, Sinovac</td>\n",
       "      <td>Government of Malaysia</td>\n",
       "      <td>https://www.vaksincovid.gov.my/statistik/</td>\n",
       "    </tr>\n",
       "    <tr>\n",
       "      <th>11813</th>\n",
       "      <td>Malaysia</td>\n",
       "      <td>MYS</td>\n",
       "      <td>2021-02-27</td>\n",
       "      <td>3580.0</td>\n",
       "      <td>3580.0</td>\n",
       "      <td>NaN</td>\n",
       "      <td>NaN</td>\n",
       "      <td>895.0</td>\n",
       "      <td>0.01</td>\n",
       "      <td>0.01</td>\n",
       "      <td>NaN</td>\n",
       "      <td>28.0</td>\n",
       "      <td>Oxford/AstraZeneca, Pfizer/BioNTech, Sinovac</td>\n",
       "      <td>Government of Malaysia</td>\n",
       "      <td>https://www.vaksincovid.gov.my/statistik/</td>\n",
       "    </tr>\n",
       "    <tr>\n",
       "      <th>...</th>\n",
       "      <td>...</td>\n",
       "      <td>...</td>\n",
       "      <td>...</td>\n",
       "      <td>...</td>\n",
       "      <td>...</td>\n",
       "      <td>...</td>\n",
       "      <td>...</td>\n",
       "      <td>...</td>\n",
       "      <td>...</td>\n",
       "      <td>...</td>\n",
       "      <td>...</td>\n",
       "      <td>...</td>\n",
       "      <td>...</td>\n",
       "      <td>...</td>\n",
       "      <td>...</td>\n",
       "    </tr>\n",
       "    <tr>\n",
       "      <th>11902</th>\n",
       "      <td>Malaysia</td>\n",
       "      <td>MYS</td>\n",
       "      <td>2021-05-27</td>\n",
       "      <td>2859864.0</td>\n",
       "      <td>1809412.0</td>\n",
       "      <td>1050452.0</td>\n",
       "      <td>NaN</td>\n",
       "      <td>67954.0</td>\n",
       "      <td>8.84</td>\n",
       "      <td>5.59</td>\n",
       "      <td>3.25</td>\n",
       "      <td>2100.0</td>\n",
       "      <td>Oxford/AstraZeneca, Pfizer/BioNTech, Sinovac</td>\n",
       "      <td>Government of Malaysia</td>\n",
       "      <td>https://www.vaksincovid.gov.my/statistik/</td>\n",
       "    </tr>\n",
       "    <tr>\n",
       "      <th>11903</th>\n",
       "      <td>Malaysia</td>\n",
       "      <td>MYS</td>\n",
       "      <td>2021-05-28</td>\n",
       "      <td>2933640.0</td>\n",
       "      <td>1855858.0</td>\n",
       "      <td>1077782.0</td>\n",
       "      <td>73776.0</td>\n",
       "      <td>69837.0</td>\n",
       "      <td>9.06</td>\n",
       "      <td>5.73</td>\n",
       "      <td>3.33</td>\n",
       "      <td>2158.0</td>\n",
       "      <td>Oxford/AstraZeneca, Pfizer/BioNTech, Sinovac</td>\n",
       "      <td>Government of Malaysia</td>\n",
       "      <td>https://www.vaksincovid.gov.my/statistik/</td>\n",
       "    </tr>\n",
       "    <tr>\n",
       "      <th>11904</th>\n",
       "      <td>Malaysia</td>\n",
       "      <td>MYS</td>\n",
       "      <td>2021-05-29</td>\n",
       "      <td>2999036.0</td>\n",
       "      <td>1906388.0</td>\n",
       "      <td>1092648.0</td>\n",
       "      <td>65396.0</td>\n",
       "      <td>72721.0</td>\n",
       "      <td>9.27</td>\n",
       "      <td>5.89</td>\n",
       "      <td>3.38</td>\n",
       "      <td>2247.0</td>\n",
       "      <td>Oxford/AstraZeneca, Pfizer/BioNTech, Sinovac</td>\n",
       "      <td>Government of Malaysia</td>\n",
       "      <td>https://www.vaksincovid.gov.my/statistik/</td>\n",
       "    </tr>\n",
       "    <tr>\n",
       "      <th>11905</th>\n",
       "      <td>Malaysia</td>\n",
       "      <td>MYS</td>\n",
       "      <td>2021-05-30</td>\n",
       "      <td>3061452.0</td>\n",
       "      <td>1944458.0</td>\n",
       "      <td>1116994.0</td>\n",
       "      <td>62416.0</td>\n",
       "      <td>75068.0</td>\n",
       "      <td>9.46</td>\n",
       "      <td>6.01</td>\n",
       "      <td>3.45</td>\n",
       "      <td>2319.0</td>\n",
       "      <td>Oxford/AstraZeneca, Pfizer/BioNTech, Sinovac</td>\n",
       "      <td>Government of Malaysia</td>\n",
       "      <td>https://www.vaksincovid.gov.my/statistik/</td>\n",
       "    </tr>\n",
       "    <tr>\n",
       "      <th>11906</th>\n",
       "      <td>Malaysia</td>\n",
       "      <td>MYS</td>\n",
       "      <td>2021-05-31</td>\n",
       "      <td>3156872.0</td>\n",
       "      <td>2011455.0</td>\n",
       "      <td>1145417.0</td>\n",
       "      <td>95420.0</td>\n",
       "      <td>75127.0</td>\n",
       "      <td>9.75</td>\n",
       "      <td>6.21</td>\n",
       "      <td>3.54</td>\n",
       "      <td>2321.0</td>\n",
       "      <td>Oxford/AstraZeneca, Pfizer/BioNTech, Sinovac</td>\n",
       "      <td>Government of Malaysia</td>\n",
       "      <td>https://www.vaksincovid.gov.my/statistik/</td>\n",
       "    </tr>\n",
       "  </tbody>\n",
       "</table>\n",
       "<p>98 rows × 15 columns</p>\n",
       "</div>"
      ],
      "text/plain": [
       "        country iso_code       date  total_vaccinations  people_vaccinated  \\\n",
       "11809  Malaysia      MYS 2021-02-23                 0.0                0.0   \n",
       "11810  Malaysia      MYS 2021-02-24                 NaN                NaN   \n",
       "11811  Malaysia      MYS 2021-02-25                 NaN                NaN   \n",
       "11812  Malaysia      MYS 2021-02-26                 NaN                NaN   \n",
       "11813  Malaysia      MYS 2021-02-27              3580.0             3580.0   \n",
       "...         ...      ...        ...                 ...                ...   \n",
       "11902  Malaysia      MYS 2021-05-27           2859864.0          1809412.0   \n",
       "11903  Malaysia      MYS 2021-05-28           2933640.0          1855858.0   \n",
       "11904  Malaysia      MYS 2021-05-29           2999036.0          1906388.0   \n",
       "11905  Malaysia      MYS 2021-05-30           3061452.0          1944458.0   \n",
       "11906  Malaysia      MYS 2021-05-31           3156872.0          2011455.0   \n",
       "\n",
       "       people_fully_vaccinated  daily_vaccinations_raw  daily_vaccinations  \\\n",
       "11809                      NaN                     NaN                 NaN   \n",
       "11810                      NaN                     NaN               895.0   \n",
       "11811                      NaN                     NaN               895.0   \n",
       "11812                      NaN                     NaN               895.0   \n",
       "11813                      NaN                     NaN               895.0   \n",
       "...                        ...                     ...                 ...   \n",
       "11902                1050452.0                     NaN             67954.0   \n",
       "11903                1077782.0                 73776.0             69837.0   \n",
       "11904                1092648.0                 65396.0             72721.0   \n",
       "11905                1116994.0                 62416.0             75068.0   \n",
       "11906                1145417.0                 95420.0             75127.0   \n",
       "\n",
       "       total_vaccinations_per_hundred  people_vaccinated_per_hundred  \\\n",
       "11809                            0.00                           0.00   \n",
       "11810                             NaN                            NaN   \n",
       "11811                             NaN                            NaN   \n",
       "11812                             NaN                            NaN   \n",
       "11813                            0.01                           0.01   \n",
       "...                               ...                            ...   \n",
       "11902                            8.84                           5.59   \n",
       "11903                            9.06                           5.73   \n",
       "11904                            9.27                           5.89   \n",
       "11905                            9.46                           6.01   \n",
       "11906                            9.75                           6.21   \n",
       "\n",
       "       people_fully_vaccinated_per_hundred  daily_vaccinations_per_million  \\\n",
       "11809                                  NaN                             NaN   \n",
       "11810                                  NaN                            28.0   \n",
       "11811                                  NaN                            28.0   \n",
       "11812                                  NaN                            28.0   \n",
       "11813                                  NaN                            28.0   \n",
       "...                                    ...                             ...   \n",
       "11902                                 3.25                          2100.0   \n",
       "11903                                 3.33                          2158.0   \n",
       "11904                                 3.38                          2247.0   \n",
       "11905                                 3.45                          2319.0   \n",
       "11906                                 3.54                          2321.0   \n",
       "\n",
       "                                           vaccines             source_name  \\\n",
       "11809  Oxford/AstraZeneca, Pfizer/BioNTech, Sinovac  Government of Malaysia   \n",
       "11810  Oxford/AstraZeneca, Pfizer/BioNTech, Sinovac  Government of Malaysia   \n",
       "11811  Oxford/AstraZeneca, Pfizer/BioNTech, Sinovac  Government of Malaysia   \n",
       "11812  Oxford/AstraZeneca, Pfizer/BioNTech, Sinovac  Government of Malaysia   \n",
       "11813  Oxford/AstraZeneca, Pfizer/BioNTech, Sinovac  Government of Malaysia   \n",
       "...                                             ...                     ...   \n",
       "11902  Oxford/AstraZeneca, Pfizer/BioNTech, Sinovac  Government of Malaysia   \n",
       "11903  Oxford/AstraZeneca, Pfizer/BioNTech, Sinovac  Government of Malaysia   \n",
       "11904  Oxford/AstraZeneca, Pfizer/BioNTech, Sinovac  Government of Malaysia   \n",
       "11905  Oxford/AstraZeneca, Pfizer/BioNTech, Sinovac  Government of Malaysia   \n",
       "11906  Oxford/AstraZeneca, Pfizer/BioNTech, Sinovac  Government of Malaysia   \n",
       "\n",
       "                                  source_website  \n",
       "11809  https://www.vaksincovid.gov.my/statistik/  \n",
       "11810  https://www.vaksincovid.gov.my/statistik/  \n",
       "11811  https://www.vaksincovid.gov.my/statistik/  \n",
       "11812  https://www.vaksincovid.gov.my/statistik/  \n",
       "11813  https://www.vaksincovid.gov.my/statistik/  \n",
       "...                                          ...  \n",
       "11902  https://www.vaksincovid.gov.my/statistik/  \n",
       "11903  https://www.vaksincovid.gov.my/statistik/  \n",
       "11904  https://www.vaksincovid.gov.my/statistik/  \n",
       "11905  https://www.vaksincovid.gov.my/statistik/  \n",
       "11906  https://www.vaksincovid.gov.my/statistik/  \n",
       "\n",
       "[98 rows x 15 columns]"
      ]
     },
     "execution_count": 51,
     "metadata": {},
     "output_type": "execute_result"
    }
   ],
   "source": [
    "# display Malaysia data\n",
    "country='Malaysia'\n",
    "df = df.loc[df['country']==country]\n",
    "df"
   ]
  },
  {
   "cell_type": "code",
   "execution_count": 52,
   "metadata": {},
   "outputs": [
    {
     "data": {
      "text/html": [
       "<div>\n",
       "<style scoped>\n",
       "    .dataframe tbody tr th:only-of-type {\n",
       "        vertical-align: middle;\n",
       "    }\n",
       "\n",
       "    .dataframe tbody tr th {\n",
       "        vertical-align: top;\n",
       "    }\n",
       "\n",
       "    .dataframe thead th {\n",
       "        text-align: right;\n",
       "    }\n",
       "</style>\n",
       "<table border=\"1\" class=\"dataframe\">\n",
       "  <thead>\n",
       "    <tr style=\"text-align: right;\">\n",
       "      <th></th>\n",
       "      <th>date</th>\n",
       "      <th>total_vaccinations</th>\n",
       "      <th>people_vaccinated</th>\n",
       "      <th>people_fully_vaccinated</th>\n",
       "      <th>daily_vaccinations</th>\n",
       "    </tr>\n",
       "  </thead>\n",
       "  <tbody>\n",
       "    <tr>\n",
       "      <th>11809</th>\n",
       "      <td>2021-02-23</td>\n",
       "      <td>0.0</td>\n",
       "      <td>0.0</td>\n",
       "      <td>NaN</td>\n",
       "      <td>NaN</td>\n",
       "    </tr>\n",
       "    <tr>\n",
       "      <th>11810</th>\n",
       "      <td>2021-02-24</td>\n",
       "      <td>NaN</td>\n",
       "      <td>NaN</td>\n",
       "      <td>NaN</td>\n",
       "      <td>895.0</td>\n",
       "    </tr>\n",
       "    <tr>\n",
       "      <th>11811</th>\n",
       "      <td>2021-02-25</td>\n",
       "      <td>NaN</td>\n",
       "      <td>NaN</td>\n",
       "      <td>NaN</td>\n",
       "      <td>895.0</td>\n",
       "    </tr>\n",
       "    <tr>\n",
       "      <th>11812</th>\n",
       "      <td>2021-02-26</td>\n",
       "      <td>NaN</td>\n",
       "      <td>NaN</td>\n",
       "      <td>NaN</td>\n",
       "      <td>895.0</td>\n",
       "    </tr>\n",
       "    <tr>\n",
       "      <th>11813</th>\n",
       "      <td>2021-02-27</td>\n",
       "      <td>3580.0</td>\n",
       "      <td>3580.0</td>\n",
       "      <td>NaN</td>\n",
       "      <td>895.0</td>\n",
       "    </tr>\n",
       "    <tr>\n",
       "      <th>...</th>\n",
       "      <td>...</td>\n",
       "      <td>...</td>\n",
       "      <td>...</td>\n",
       "      <td>...</td>\n",
       "      <td>...</td>\n",
       "    </tr>\n",
       "    <tr>\n",
       "      <th>11902</th>\n",
       "      <td>2021-05-27</td>\n",
       "      <td>2859864.0</td>\n",
       "      <td>1809412.0</td>\n",
       "      <td>1050452.0</td>\n",
       "      <td>67954.0</td>\n",
       "    </tr>\n",
       "    <tr>\n",
       "      <th>11903</th>\n",
       "      <td>2021-05-28</td>\n",
       "      <td>2933640.0</td>\n",
       "      <td>1855858.0</td>\n",
       "      <td>1077782.0</td>\n",
       "      <td>69837.0</td>\n",
       "    </tr>\n",
       "    <tr>\n",
       "      <th>11904</th>\n",
       "      <td>2021-05-29</td>\n",
       "      <td>2999036.0</td>\n",
       "      <td>1906388.0</td>\n",
       "      <td>1092648.0</td>\n",
       "      <td>72721.0</td>\n",
       "    </tr>\n",
       "    <tr>\n",
       "      <th>11905</th>\n",
       "      <td>2021-05-30</td>\n",
       "      <td>3061452.0</td>\n",
       "      <td>1944458.0</td>\n",
       "      <td>1116994.0</td>\n",
       "      <td>75068.0</td>\n",
       "    </tr>\n",
       "    <tr>\n",
       "      <th>11906</th>\n",
       "      <td>2021-05-31</td>\n",
       "      <td>3156872.0</td>\n",
       "      <td>2011455.0</td>\n",
       "      <td>1145417.0</td>\n",
       "      <td>75127.0</td>\n",
       "    </tr>\n",
       "  </tbody>\n",
       "</table>\n",
       "<p>98 rows × 5 columns</p>\n",
       "</div>"
      ],
      "text/plain": [
       "            date  total_vaccinations  people_vaccinated  \\\n",
       "11809 2021-02-23                 0.0                0.0   \n",
       "11810 2021-02-24                 NaN                NaN   \n",
       "11811 2021-02-25                 NaN                NaN   \n",
       "11812 2021-02-26                 NaN                NaN   \n",
       "11813 2021-02-27              3580.0             3580.0   \n",
       "...          ...                 ...                ...   \n",
       "11902 2021-05-27           2859864.0          1809412.0   \n",
       "11903 2021-05-28           2933640.0          1855858.0   \n",
       "11904 2021-05-29           2999036.0          1906388.0   \n",
       "11905 2021-05-30           3061452.0          1944458.0   \n",
       "11906 2021-05-31           3156872.0          2011455.0   \n",
       "\n",
       "       people_fully_vaccinated  daily_vaccinations  \n",
       "11809                      NaN                 NaN  \n",
       "11810                      NaN               895.0  \n",
       "11811                      NaN               895.0  \n",
       "11812                      NaN               895.0  \n",
       "11813                      NaN               895.0  \n",
       "...                        ...                 ...  \n",
       "11902                1050452.0             67954.0  \n",
       "11903                1077782.0             69837.0  \n",
       "11904                1092648.0             72721.0  \n",
       "11905                1116994.0             75068.0  \n",
       "11906                1145417.0             75127.0  \n",
       "\n",
       "[98 rows x 5 columns]"
      ]
     },
     "execution_count": 52,
     "metadata": {},
     "output_type": "execute_result"
    }
   ],
   "source": [
    "# copy date, total_vaccinated, people_vaccinated, people_fully_vaccinated\n",
    "df = df[['date','total_vaccinations','people_vaccinated','people_fully_vaccinated','daily_vaccinations']].copy()\n",
    "\n",
    "df.tail(98)"
   ]
  },
  {
   "cell_type": "markdown",
   "metadata": {},
   "source": [
    "From this, it is evident that Malaysia has 98 enteries of data in this dataset that will be used to carry out relevant analysis."
   ]
  },
  {
   "cell_type": "markdown",
   "metadata": {},
   "source": [
    "<h2> Line Graphs </h2>"
   ]
  },
  {
   "cell_type": "markdown",
   "metadata": {},
   "source": [
    "To distinctly view Malaysia's vaccination progress, the below line graphs are made to show the total number of vaccines deployed within three months, as well as the number daily vaccinations deployed against dates in the time frame of a month."
   ]
  },
  {
   "cell_type": "markdown",
   "metadata": {},
   "source": [
    " <h3>Total Number of Vaccinations Administered in Malaysia</h3>"
   ]
  },
  {
   "cell_type": "code",
   "execution_count": 53,
   "metadata": {},
   "outputs": [
    {
     "data": {
      "text/plain": [
       "Text(0, 0.5, 'Total Vaccinations')"
      ]
     },
     "execution_count": 53,
     "metadata": {},
     "output_type": "execute_result"
    },
    {
     "data": {
      "image/png": "[encoded data removed]",
      "text/plain": [
       "<Figure size 2160x360 with 1 Axes>"
      ]
     },
     "metadata": {
      "needs_background": "light"
     },
     "output_type": "display_data"
    }
   ],
   "source": [
    "#total vaccinations\n",
    "plt.figure(figsize=(30,5))\n",
    "sns.lineplot(x='date', y='daily_vaccinations', data=df)\n",
    "plt.title('Daily Vacinations in Malaysia')\n",
    "plt.xlabel('Date')\n",
    "plt.ylabel('Total Vaccinations')"
   ]
  },
  {
   "cell_type": "markdown",
   "metadata": {},
   "source": [
    "To begin, the following graph depicts the total number of vaccinations deployed in Malaysia from late February to late May. It can be observed that, while vaccine deployment in Malaysia began slowly, it began to pick up speed in the middle of May."
   ]
  },
  {
   "cell_type": "markdown",
   "metadata": {},
   "source": [
    "<h3>Total Number of Vaccinations Administered in Malaysia for the month of March</h3>"
   ]
  },
  {
   "cell_type": "code",
   "execution_count": 54,
   "metadata": {},
   "outputs": [
    {
     "data": {
      "text/plain": [
       "Text(0, 0.5, 'Total Vaccinations')"
      ]
     },
     "execution_count": 54,
     "metadata": {},
     "output_type": "execute_result"
    },
    {
     "data": {
      "image/png": "[encoded data removed]",
      "text/plain": [
       "<Figure size 2160x360 with 1 Axes>"
      ]
     },
     "metadata": {
      "needs_background": "light"
     },
     "output_type": "display_data"
    }
   ],
   "source": [
    "#month of march\n",
    "plt.figure(figsize=(30,5))\n",
    "sns.lineplot(x='date', y='daily_vaccinations', data=df.head(37))\n",
    "plt.title('Daily Vacinations in Malaysia (March)')\n",
    "plt.xlabel('Date')\n",
    "plt.ylabel('Total Vaccinations')"
   ]
  },
  {
   "cell_type": "markdown",
   "metadata": {},
   "source": [
    "From the graph, it can be seen that Malaysia's vaccination deployment started towards the end of February. From there, there is a surge in vaccine deployment until the 13th of March. The vaccine deployment progressed slowly until the 21st of March, and then peaked again until the end of the month of March."
   ]
  },
  {
   "cell_type": "markdown",
   "metadata": {},
   "source": [
    "<h3> Total Number of Vaccinations Administered in Malaysia for the month of May </h3>"
   ]
  },
  {
   "cell_type": "code",
   "execution_count": 55,
   "metadata": {},
   "outputs": [
    {
     "data": {
      "text/plain": [
       "Text(0, 0.5, 'Number of vaccinations')"
      ]
     },
     "execution_count": 55,
     "metadata": {},
     "output_type": "execute_result"
    },
    {
     "data": {
      "image/png": "[encoded data removed]",
      "text/plain": [
       "<Figure size 2160x360 with 1 Axes>"
      ]
     },
     "metadata": {
      "needs_background": "light"
     },
     "output_type": "display_data"
    }
   ],
   "source": [
    "#month of may\n",
    "plt.figure(figsize=(30,5))\n",
    "sns.lineplot(x='date', y='daily_vaccinations', data=df.tail(31))\n",
    "plt.title('Daily Vacinations in Malaysia (May)')\n",
    "plt.xlabel('Date')\n",
    "plt.ylabel('Number of vaccinations')"
   ]
  },
  {
   "cell_type": "markdown",
   "metadata": {},
   "source": [
    "The month of May had the most daily vaccinations, with a surge in vaccine deployment at the end of the month."
   ]
  },
  {
   "cell_type": "markdown",
   "metadata": {},
   "source": [
    "<h3>Total Number of Vaccinations Administered in Malaysia for the month of April</h3>"
   ]
  },
  {
   "cell_type": "markdown",
   "metadata": {},
   "source": [
    "For the month of April, a new dataset that only comprised of April's data was made and read."
   ]
  },
  {
   "cell_type": "code",
   "execution_count": 56,
   "metadata": {},
   "outputs": [],
   "source": [
    "df2 = (df.loc[(df['date'] >= '2021-04-01') & (df['date'] <= '2021-04-30')])"
   ]
  },
  {
   "cell_type": "code",
   "execution_count": 57,
   "metadata": {},
   "outputs": [
    {
     "data": {
      "text/plain": [
       "Text(0, 0.5, 'Total Vaccinations')"
      ]
     },
     "execution_count": 57,
     "metadata": {},
     "output_type": "execute_result"
    },
    {
     "data": {
      "image/png": "[encoded data removed]",
      "text/plain": [
       "<Figure size 2160x360 with 1 Axes>"
      ]
     },
     "metadata": {
      "needs_background": "light"
     },
     "output_type": "display_data"
    }
   ],
   "source": [
    "#month of april\n",
    "plt.figure(figsize=(30,5))\n",
    "sns.lineplot(x='date', y='daily_vaccinations', data=df2)\n",
    "plt.title('Daily Vacinations in Malaysia (April)')\n",
    "plt.xlabel('Date')\n",
    "plt.ylabel('Total Vaccinations')"
   ]
  },
  {
   "cell_type": "markdown",
   "metadata": {},
   "source": [
    "In comparison to March and May, April had the lowest daily vaccination rate, particularly from the middle to the end of the month. This might be because the holy month of Ramadan began in the middle of April, reducing the number of vaccinations deployed on a daily basis."
   ]
  },
  {
   "cell_type": "markdown",
   "metadata": {},
   "source": [
    "<h2> Summary of Visualisation and Communication </h2>"
   ]
  },
  {
   "cell_type": "markdown",
   "metadata": {},
   "source": [
    "According to the graphs above, Malaysia's vaccine deployment is growing month by month. Malaysia's vaccination deployment follows the introduction of its 'National Covid-19 Immunisation Programme,' which divided its vaccination deployment into three phases: phase one for frontliners from March to April 2021, phase two for senior citizens and high-risk individuals from April to August 2021, and phase three for anyone over the age of eighteen to begin from April to August 2021. As of May 31, 2021, 3,156,872 individuals have been vaccinated, with 1,145,417 having been completely immunised or receiving both doses of the vaccine. "
   ]
  },
  {
   "cell_type": "markdown",
   "metadata": {},
   "source": [
    "Malaysia's vaccine deployment may be analysed and forecasted using tools such as graphs and SARIMA models. While the preceding line graphs simply analysed certain columns from the dataset, such as date and daily vaccinations to create graphs for Malaysia's actual vaccination deployment, the SARIMA model may prove to be more effective in forecasting Malaysia's future vaccine deployment. When compared to the training model, the SARIMA prediction model produced nearly-accurate daily vaccination predictions. This model may be used to predict Malaysia's future daily vaccinations in order to ensure the National Covid-19 Immunisation Programme remains on schedule."
   ]
  },
  {
   "cell_type": "markdown",
   "metadata": {},
   "source": [
    "# Deploy and Maintain"
   ]
  },
  {
   "cell_type": "markdown",
   "metadata": {},
   "source": [
    "<h2> Testing </h2>"
   ]
  },
  {
   "cell_type": "markdown",
   "metadata": {},
   "source": [
    "Comparing the results given by the current model (using version 121 of the dataset) to the actual data of the updated dataset (version 122)"
   ]
  },
  {
   "cell_type": "code",
   "execution_count": 58,
   "metadata": {},
   "outputs": [],
   "source": [
    "# based on version 122 of the available dataset\n",
    "df_updated = pd.read_csv(\"dataset2/updated/country_vaccinations.csv\", index_col='date', parse_dates=True)\n",
    "df_updated.fillna(0, inplace=True)\n",
    "\n",
    "# extracts malaysia data only\n",
    "myr_updated = df_updated.loc[df_updated[\"country\"] == \"Malaysia\"]\n",
    "# extracts only date and daily_vaccinations for malaysia\n",
    "data_updated = pd.DataFrame({'daily_vaccinations': myr_updated['daily_vaccinations']})"
   ]
  },
  {
   "cell_type": "code",
   "execution_count": 59,
   "metadata": {
    "scrolled": true
   },
   "outputs": [
    {
     "data": {
      "text/html": [
       "<div>\n",
       "<style scoped>\n",
       "    .dataframe tbody tr th:only-of-type {\n",
       "        vertical-align: middle;\n",
       "    }\n",
       "\n",
       "    .dataframe tbody tr th {\n",
       "        vertical-align: top;\n",
       "    }\n",
       "\n",
       "    .dataframe thead th {\n",
       "        text-align: right;\n",
       "    }\n",
       "</style>\n",
       "<table border=\"1\" class=\"dataframe\">\n",
       "  <thead>\n",
       "    <tr style=\"text-align: right;\">\n",
       "      <th></th>\n",
       "      <th>Forecast</th>\n",
       "      <th>actual_data</th>\n",
       "    </tr>\n",
       "  </thead>\n",
       "  <tbody>\n",
       "    <tr>\n",
       "      <th>2021-05-27</th>\n",
       "      <td>69172.018666</td>\n",
       "      <td>67954.0</td>\n",
       "    </tr>\n",
       "    <tr>\n",
       "      <th>2021-05-28</th>\n",
       "      <td>67999.298648</td>\n",
       "      <td>69837.0</td>\n",
       "    </tr>\n",
       "    <tr>\n",
       "      <th>2021-05-29</th>\n",
       "      <td>69839.739511</td>\n",
       "      <td>72721.0</td>\n",
       "    </tr>\n",
       "    <tr>\n",
       "      <th>2021-05-30</th>\n",
       "      <td>74165.069952</td>\n",
       "      <td>76192.0</td>\n",
       "    </tr>\n",
       "    <tr>\n",
       "      <th>2021-05-31</th>\n",
       "      <td>104091.415251</td>\n",
       "      <td>72659.0</td>\n",
       "    </tr>\n",
       "    <tr>\n",
       "      <th>2021-06-01</th>\n",
       "      <td>115260.649914</td>\n",
       "      <td>68477.0</td>\n",
       "    </tr>\n",
       "    <tr>\n",
       "      <th>2021-06-02</th>\n",
       "      <td>123591.572078</td>\n",
       "      <td>69279.0</td>\n",
       "    </tr>\n",
       "    <tr>\n",
       "      <th>2021-06-03</th>\n",
       "      <td>129205.515825</td>\n",
       "      <td>70081.0</td>\n",
       "    </tr>\n",
       "    <tr>\n",
       "      <th>2021-06-04</th>\n",
       "      <td>134228.640825</td>\n",
       "      <td>69582.0</td>\n",
       "    </tr>\n",
       "    <tr>\n",
       "      <th>2021-06-05</th>\n",
       "      <td>138762.731155</td>\n",
       "      <td>70594.0</td>\n",
       "    </tr>\n",
       "    <tr>\n",
       "      <th>2021-06-06</th>\n",
       "      <td>141552.377063</td>\n",
       "      <td>72152.0</td>\n",
       "    </tr>\n",
       "    <tr>\n",
       "      <th>2021-06-07</th>\n",
       "      <td>119159.995225</td>\n",
       "      <td>71317.0</td>\n",
       "    </tr>\n",
       "    <tr>\n",
       "      <th>2021-06-08</th>\n",
       "      <td>118898.748940</td>\n",
       "      <td>82892.0</td>\n",
       "    </tr>\n",
       "    <tr>\n",
       "      <th>2021-06-09</th>\n",
       "      <td>118523.763971</td>\n",
       "      <td>NaN</td>\n",
       "    </tr>\n",
       "    <tr>\n",
       "      <th>2021-06-10</th>\n",
       "      <td>121161.939884</td>\n",
       "      <td>NaN</td>\n",
       "    </tr>\n",
       "    <tr>\n",
       "      <th>2021-06-11</th>\n",
       "      <td>126285.005374</td>\n",
       "      <td>NaN</td>\n",
       "    </tr>\n",
       "    <tr>\n",
       "      <th>2021-06-12</th>\n",
       "      <td>157009.085722</td>\n",
       "      <td>NaN</td>\n",
       "    </tr>\n",
       "    <tr>\n",
       "      <th>2021-06-13</th>\n",
       "      <td>168976.055434</td>\n",
       "      <td>NaN</td>\n",
       "    </tr>\n",
       "    <tr>\n",
       "      <th>2021-06-14</th>\n",
       "      <td>178104.712648</td>\n",
       "      <td>NaN</td>\n",
       "    </tr>\n",
       "    <tr>\n",
       "      <th>2021-06-15</th>\n",
       "      <td>184516.391444</td>\n",
       "      <td>NaN</td>\n",
       "    </tr>\n",
       "  </tbody>\n",
       "</table>\n",
       "</div>"
      ],
      "text/plain": [
       "                 Forecast  actual_data\n",
       "2021-05-27   69172.018666      67954.0\n",
       "2021-05-28   67999.298648      69837.0\n",
       "2021-05-29   69839.739511      72721.0\n",
       "2021-05-30   74165.069952      76192.0\n",
       "2021-05-31  104091.415251      72659.0\n",
       "2021-06-01  115260.649914      68477.0\n",
       "2021-06-02  123591.572078      69279.0\n",
       "2021-06-03  129205.515825      70081.0\n",
       "2021-06-04  134228.640825      69582.0\n",
       "2021-06-05  138762.731155      70594.0\n",
       "2021-06-06  141552.377063      72152.0\n",
       "2021-06-07  119159.995225      71317.0\n",
       "2021-06-08  118898.748940      82892.0\n",
       "2021-06-09  118523.763971          NaN\n",
       "2021-06-10  121161.939884          NaN\n",
       "2021-06-11  126285.005374          NaN\n",
       "2021-06-12  157009.085722          NaN\n",
       "2021-06-13  168976.055434          NaN\n",
       "2021-06-14  178104.712648          NaN\n",
       "2021-06-15  184516.391444          NaN"
      ]
     },
     "execution_count": 59,
     "metadata": {},
     "output_type": "execute_result"
    }
   ],
   "source": [
    "future_forecast['actual_data'] = data_updated.loc[start_date:]\n",
    "\n",
    "future_forecast"
   ]
  },
  {
   "cell_type": "code",
   "execution_count": 60,
   "metadata": {},
   "outputs": [
    {
     "name": "stdout",
     "output_type": "stream",
     "text": [
      "TESTING MAPE: 29.856626074676274\n",
      "TESTING RMSE: 46161.91604383183\n"
     ]
    }
   ],
   "source": [
    "testing_mape_updated = mean_absolute_percentage_error(future_forecast.Forecast[:12], future_forecast.actual_data[:12])\n",
    "testing_rmse_updated = rmse(future_forecast.Forecast[:12], future_forecast.actual_data[:12])\n",
    "\n",
    "print(\"TESTING MAPE: \" + str(testing_mape_updated))\n",
    "print(\"TESTING RMSE: \" + str(testing_rmse_updated))"
   ]
  },
  {
   "cell_type": "markdown",
   "metadata": {},
   "source": [
    "<h2> Improvement </h2>"
   ]
  },
  {
   "cell_type": "markdown",
   "metadata": {},
   "source": [
    "Refitting the model to the updated dataset."
   ]
  },
  {
   "cell_type": "code",
   "execution_count": 61,
   "metadata": {},
   "outputs": [],
   "source": [
    "train_updated = data_updated.iloc[:-5]\n",
    "test_updated = data_updated.tail(5)\n",
    "\n",
    "train_array_updated = train_updated['daily_vaccinations']\n",
    "test_array_updated = test_updated['daily_vaccinations']"
   ]
  },
  {
   "cell_type": "code",
   "execution_count": 62,
   "metadata": {
    "scrolled": true
   },
   "outputs": [
    {
     "name": "stdout",
     "output_type": "stream",
     "text": [
      "Performing stepwise search to minimize aic\n",
      " ARIMA(1,2,1)(1,0,1)[12]             : AIC=inf, Time=1.69 sec\n",
      " ARIMA(0,2,0)(0,0,0)[12]             : AIC=1997.155, Time=0.01 sec\n",
      " ARIMA(1,2,0)(1,0,0)[12]             : AIC=1986.476, Time=0.13 sec\n",
      " ARIMA(0,2,1)(0,0,1)[12]             : AIC=1980.163, Time=0.27 sec\n",
      " ARIMA(0,2,1)(0,0,0)[12]             : AIC=inf, Time=0.08 sec\n",
      " ARIMA(0,2,1)(1,0,1)[12]             : AIC=1982.155, Time=0.44 sec\n",
      " ARIMA(0,2,1)(0,0,2)[12]             : AIC=1982.142, Time=0.51 sec\n",
      " ARIMA(0,2,1)(1,0,0)[12]             : AIC=1980.164, Time=0.16 sec\n",
      " ARIMA(0,2,1)(1,0,2)[12]             : AIC=1984.141, Time=1.39 sec\n",
      " ARIMA(0,2,0)(0,0,1)[12]             : AIC=2004.046, Time=0.13 sec\n",
      " ARIMA(1,2,1)(0,0,1)[12]             : AIC=inf, Time=0.59 sec\n",
      " ARIMA(0,2,2)(0,0,1)[12]             : AIC=inf, Time=0.94 sec\n",
      " ARIMA(1,2,0)(0,0,1)[12]             : AIC=1986.410, Time=0.26 sec\n",
      " ARIMA(1,2,2)(0,0,1)[12]             : AIC=inf, Time=0.77 sec\n",
      " ARIMA(0,2,1)(0,0,1)[12] intercept   : AIC=1982.163, Time=0.26 sec\n",
      "\n",
      "Best model:  ARIMA(0,2,1)(0,0,1)[12]          \n",
      "Total fit time: 7.693 seconds\n"
     ]
    },
    {
     "data": {
      "text/html": [
       "<table class=\"simpletable\">\n",
       "<caption>SARIMAX Results</caption>\n",
       "<tr>\n",
       "  <th>Dep. Variable:</th>                  <td>y</td>               <th>  No. Observations:  </th>    <td>101</td>  \n",
       "</tr>\n",
       "<tr>\n",
       "  <th>Model:</th>           <td>SARIMAX(0, 2, 1)x(0, 1, 1, 12)</td> <th>  Log Likelihood     </th> <td>-876.080</td>\n",
       "</tr>\n",
       "<tr>\n",
       "  <th>Date:</th>                   <td>Sun, 27 Jun 2021</td>        <th>  AIC                </th> <td>1758.160</td>\n",
       "</tr>\n",
       "<tr>\n",
       "  <th>Time:</th>                       <td>14:54:16</td>            <th>  BIC                </th> <td>1765.558</td>\n",
       "</tr>\n",
       "<tr>\n",
       "  <th>Sample:</th>                         <td>0</td>               <th>  HQIC               </th> <td>1761.139</td>\n",
       "</tr>\n",
       "<tr>\n",
       "  <th></th>                             <td> - 101</td>             <th>                     </th>     <td> </td>   \n",
       "</tr>\n",
       "<tr>\n",
       "  <th>Covariance Type:</th>               <td>opg</td>              <th>                     </th>     <td> </td>   \n",
       "</tr>\n",
       "</table>\n",
       "<table class=\"simpletable\">\n",
       "<tr>\n",
       "      <td></td>        <th>coef</th>     <th>std err</th>      <th>z</th>      <th>P>|z|</th>  <th>[0.025</th>    <th>0.975]</th>  \n",
       "</tr>\n",
       "<tr>\n",
       "  <th>ma.L1</th>    <td>   -0.9973</td> <td>    0.045</td> <td>  -22.096</td> <td> 0.000</td> <td>   -1.086</td> <td>   -0.909</td>\n",
       "</tr>\n",
       "<tr>\n",
       "  <th>ma.S.L12</th> <td>   -0.8125</td> <td>    0.086</td> <td>   -9.451</td> <td> 0.000</td> <td>   -0.981</td> <td>   -0.644</td>\n",
       "</tr>\n",
       "<tr>\n",
       "  <th>sigma2</th>   <td> 2.905e+07</td> <td> 1.45e-09</td> <td> 2.01e+16</td> <td> 0.000</td> <td>  2.9e+07</td> <td>  2.9e+07</td>\n",
       "</tr>\n",
       "</table>\n",
       "<table class=\"simpletable\">\n",
       "<tr>\n",
       "  <th>Ljung-Box (Q):</th>          <td>49.96</td> <th>  Jarque-Bera (JB):  </th> <td>1380.06</td>\n",
       "</tr>\n",
       "<tr>\n",
       "  <th>Prob(Q):</th>                <td>0.13</td>  <th>  Prob(JB):          </th>  <td>0.00</td>  \n",
       "</tr>\n",
       "<tr>\n",
       "  <th>Heteroskedasticity (H):</th> <td>34.87</td> <th>  Skew:              </th>  <td>0.86</td>  \n",
       "</tr>\n",
       "<tr>\n",
       "  <th>Prob(H) (two-sided):</th>    <td>0.00</td>  <th>  Kurtosis:          </th>  <td>22.44</td> \n",
       "</tr>\n",
       "</table><br/><br/>Warnings:<br/>[1] Covariance matrix calculated using the outer product of gradients (complex-step).<br/>[2] Covariance matrix is singular or near-singular, with condition number 1.94e+31. Standard errors may be unstable."
      ],
      "text/plain": [
       "<class 'statsmodels.iolib.summary.Summary'>\n",
       "\"\"\"\n",
       "                                     SARIMAX Results                                      \n",
       "==========================================================================================\n",
       "Dep. Variable:                                  y   No. Observations:                  101\n",
       "Model:             SARIMAX(0, 2, 1)x(0, 1, 1, 12)   Log Likelihood                -876.080\n",
       "Date:                            Sun, 27 Jun 2021   AIC                           1758.160\n",
       "Time:                                    14:54:16   BIC                           1765.558\n",
       "Sample:                                         0   HQIC                          1761.139\n",
       "                                            - 101                                         \n",
       "Covariance Type:                              opg                                         \n",
       "==============================================================================\n",
       "                 coef    std err          z      P>|z|      [0.025      0.975]\n",
       "------------------------------------------------------------------------------\n",
       "ma.L1         -0.9973      0.045    -22.096      0.000      -1.086      -0.909\n",
       "ma.S.L12      -0.8125      0.086     -9.451      0.000      -0.981      -0.644\n",
       "sigma2      2.905e+07   1.45e-09   2.01e+16      0.000     2.9e+07     2.9e+07\n",
       "===================================================================================\n",
       "Ljung-Box (Q):                       49.96   Jarque-Bera (JB):              1380.06\n",
       "Prob(Q):                              0.13   Prob(JB):                         0.00\n",
       "Heteroskedasticity (H):              34.87   Skew:                             0.86\n",
       "Prob(H) (two-sided):                  0.00   Kurtosis:                        22.44\n",
       "===================================================================================\n",
       "\n",
       "Warnings:\n",
       "[1] Covariance matrix calculated using the outer product of gradients (complex-step).\n",
       "[2] Covariance matrix is singular or near-singular, with condition number 1.94e+31. Standard errors may be unstable.\n",
       "\"\"\""
      ]
     },
     "execution_count": 62,
     "metadata": {},
     "output_type": "execute_result"
    }
   ],
   "source": [
    "model_updated = arimamodel(train_array_updated)\n",
    "model_updated = model.fit(train_array_updated)\n",
    "\n",
    "model_updated.summary()"
   ]
  },
  {
   "cell_type": "code",
   "execution_count": 63,
   "metadata": {},
   "outputs": [
    {
     "data": {
      "image/png": "[encoded data removed]",
      "text/plain": [
       "<Figure size 432x288 with 1 Axes>"
      ]
     },
     "metadata": {
      "needs_background": "light"
     },
     "output_type": "display_data"
    }
   ],
   "source": [
    "# new prediction\n",
    "predictions_in_sample_updated = model_updated.predict_in_sample()\n",
    "predictions_in_sample_updated = pd.DataFrame({'predictions_updated': predictions_in_sample_updated}).set_index(train_updated.index)\n",
    "\n",
    "# shows model vs data\n",
    "pd.concat([train_updated.daily_vaccinations, predictions_in_sample_updated], axis=1).plot()\n",
    "plt.legend(['daily_vaccinations', 'training_model'])\n",
    "plt.title(\"Training Model vs Data\")\n",
    "plt.show()"
   ]
  },
  {
   "cell_type": "code",
   "execution_count": 64,
   "metadata": {},
   "outputs": [
    {
     "name": "stdout",
     "output_type": "stream",
     "text": [
      "TRAINING MAPE: 9.815702715780091\n",
      "TRAINING RMSE: 5128.034080724829\n"
     ]
    }
   ],
   "source": [
    "# training model evaluation\n",
    "training_mape3 = mean_absolute_percentage_error(train_array_updated, predictions_in_sample_updated.predictions_updated)\n",
    "training_rmse3 = rmse(train_array_updated, predictions_in_sample_updated.predictions_updated)\n",
    "\n",
    "print(\"TRAINING MAPE: \" + str(training_mape3))\n",
    "print(\"TRAINING RMSE: \" + str(training_rmse3))"
   ]
  },
  {
   "cell_type": "code",
   "execution_count": 65,
   "metadata": {},
   "outputs": [
    {
     "data": {
      "text/html": [
       "<div>\n",
       "<style scoped>\n",
       "    .dataframe tbody tr th:only-of-type {\n",
       "        vertical-align: middle;\n",
       "    }\n",
       "\n",
       "    .dataframe tbody tr th {\n",
       "        vertical-align: top;\n",
       "    }\n",
       "\n",
       "    .dataframe thead th {\n",
       "        text-align: right;\n",
       "    }\n",
       "</style>\n",
       "<table border=\"1\" class=\"dataframe\">\n",
       "  <thead>\n",
       "    <tr style=\"text-align: right;\">\n",
       "      <th></th>\n",
       "      <th>Updated Forecast</th>\n",
       "    </tr>\n",
       "  </thead>\n",
       "  <tbody>\n",
       "    <tr>\n",
       "      <th>2021-06-04</th>\n",
       "      <td>70733.122249</td>\n",
       "    </tr>\n",
       "    <tr>\n",
       "      <th>2021-06-05</th>\n",
       "      <td>70692.740676</td>\n",
       "    </tr>\n",
       "    <tr>\n",
       "      <th>2021-06-06</th>\n",
       "      <td>70183.985481</td>\n",
       "    </tr>\n",
       "    <tr>\n",
       "      <th>2021-06-07</th>\n",
       "      <td>64854.515850</td>\n",
       "    </tr>\n",
       "    <tr>\n",
       "      <th>2021-06-08</th>\n",
       "      <td>64106.063016</td>\n",
       "    </tr>\n",
       "    <tr>\n",
       "      <th>2021-06-09</th>\n",
       "      <td>65075.718343</td>\n",
       "    </tr>\n",
       "    <tr>\n",
       "      <th>2021-06-10</th>\n",
       "      <td>66536.174237</td>\n",
       "    </tr>\n",
       "    <tr>\n",
       "      <th>2021-06-11</th>\n",
       "      <td>68876.428780</td>\n",
       "    </tr>\n",
       "    <tr>\n",
       "      <th>2021-06-12</th>\n",
       "      <td>74516.686109</td>\n",
       "    </tr>\n",
       "    <tr>\n",
       "      <th>2021-06-13</th>\n",
       "      <td>76313.937242</td>\n",
       "    </tr>\n",
       "    <tr>\n",
       "      <th>2021-06-14</th>\n",
       "      <td>78124.933182</td>\n",
       "    </tr>\n",
       "    <tr>\n",
       "      <th>2021-06-15</th>\n",
       "      <td>80074.891714</td>\n",
       "    </tr>\n",
       "    <tr>\n",
       "      <th>2021-06-16</th>\n",
       "      <td>80770.493028</td>\n",
       "    </tr>\n",
       "    <tr>\n",
       "      <th>2021-06-17</th>\n",
       "      <td>80773.590521</td>\n",
       "    </tr>\n",
       "    <tr>\n",
       "      <th>2021-06-18</th>\n",
       "      <td>80308.314391</td>\n",
       "    </tr>\n",
       "    <tr>\n",
       "      <th>2021-06-19</th>\n",
       "      <td>75022.323825</td>\n",
       "    </tr>\n",
       "    <tr>\n",
       "      <th>2021-06-20</th>\n",
       "      <td>74317.350056</td>\n",
       "    </tr>\n",
       "    <tr>\n",
       "      <th>2021-06-21</th>\n",
       "      <td>75330.484448</td>\n",
       "    </tr>\n",
       "    <tr>\n",
       "      <th>2021-06-22</th>\n",
       "      <td>76834.419408</td>\n",
       "    </tr>\n",
       "    <tr>\n",
       "      <th>2021-06-23</th>\n",
       "      <td>79218.153016</td>\n",
       "    </tr>\n",
       "  </tbody>\n",
       "</table>\n",
       "</div>"
      ],
      "text/plain": [
       "            Updated Forecast\n",
       "2021-06-04      70733.122249\n",
       "2021-06-05      70692.740676\n",
       "2021-06-06      70183.985481\n",
       "2021-06-07      64854.515850\n",
       "2021-06-08      64106.063016\n",
       "2021-06-09      65075.718343\n",
       "2021-06-10      66536.174237\n",
       "2021-06-11      68876.428780\n",
       "2021-06-12      74516.686109\n",
       "2021-06-13      76313.937242\n",
       "2021-06-14      78124.933182\n",
       "2021-06-15      80074.891714\n",
       "2021-06-16      80770.493028\n",
       "2021-06-17      80773.590521\n",
       "2021-06-18      80308.314391\n",
       "2021-06-19      75022.323825\n",
       "2021-06-20      74317.350056\n",
       "2021-06-21      75330.484448\n",
       "2021-06-22      76834.419408\n",
       "2021-06-23      79218.153016"
      ]
     },
     "execution_count": 65,
     "metadata": {},
     "output_type": "execute_result"
    }
   ],
   "source": [
    "# new forecast\n",
    "forecast_updated = model_updated.predict(n_periods=20)\n",
    "\n",
    "end_date_updated = data_updated.index[-1] + datetime.timedelta(days=15)\n",
    "start_date_updated = data_updated.index[-5]\n",
    "\n",
    "forecast_index_updated = pd.date_range(start_date_updated, end_date_updated, freq='d')\n",
    "future_forecast_updated = pd.DataFrame({'Updated Forecast': forecast_updated}).set_index(forecast_index_updated)\n",
    "\n",
    "future_forecast_updated"
   ]
  },
  {
   "cell_type": "code",
   "execution_count": 66,
   "metadata": {
    "scrolled": true
   },
   "outputs": [
    {
     "data": {
      "image/png": "[encoded data removed]",
      "text/plain": [
       "<Figure size 432x288 with 1 Axes>"
      ]
     },
     "metadata": {
      "needs_background": "light"
     },
     "output_type": "display_data"
    }
   ],
   "source": [
    "# whole data with forecast\n",
    "pd.concat([data_updated, future_forecast_updated], axis=1).plot()\n",
    "plt.title(\"20 Days Forecast\")\n",
    "plt.show()"
   ]
  },
  {
   "cell_type": "code",
   "execution_count": 67,
   "metadata": {},
   "outputs": [
    {
     "name": "stdout",
     "output_type": "stream",
     "text": [
      "TESTING MAPE: 7.249317212385368\n",
      "TESTING RMSE: 8942.964196035638\n"
     ]
    }
   ],
   "source": [
    "# forecast values evaluation\n",
    "testing_mape3 = mean_absolute_percentage_error(test_array_updated, forecast_updated[:5])\n",
    "testing_rmse3 = rmse(test_array_updated, forecast_updated[:5])\n",
    "\n",
    "print(\"TESTING MAPE: \" + str(testing_mape3))\n",
    "print(\"TESTING RMSE: \" + str(testing_rmse3))"
   ]
  },
  {
   "cell_type": "code",
   "execution_count": 68,
   "metadata": {},
   "outputs": [
    {
     "data": {
      "text/html": [
       "<div>\n",
       "<style scoped>\n",
       "    .dataframe tbody tr th:only-of-type {\n",
       "        vertical-align: middle;\n",
       "    }\n",
       "\n",
       "    .dataframe tbody tr th {\n",
       "        vertical-align: top;\n",
       "    }\n",
       "\n",
       "    .dataframe thead th {\n",
       "        text-align: right;\n",
       "    }\n",
       "</style>\n",
       "<table border=\"1\" class=\"dataframe\">\n",
       "  <thead>\n",
       "    <tr style=\"text-align: right;\">\n",
       "      <th></th>\n",
       "      <th>ORIGINAL</th>\n",
       "      <th>UPDATED</th>\n",
       "    </tr>\n",
       "  </thead>\n",
       "  <tbody>\n",
       "    <tr>\n",
       "      <th>Training Model</th>\n",
       "      <td>10.811982</td>\n",
       "      <td>9.815703</td>\n",
       "    </tr>\n",
       "    <tr>\n",
       "      <th>Testing Model</th>\n",
       "      <td>9.628532</td>\n",
       "      <td>7.249317</td>\n",
       "    </tr>\n",
       "  </tbody>\n",
       "</table>\n",
       "</div>"
      ],
      "text/plain": [
       "                 ORIGINAL   UPDATED\n",
       "Training Model  10.811982  9.815703\n",
       "Testing Model    9.628532  7.249317"
      ]
     },
     "execution_count": 68,
     "metadata": {},
     "output_type": "execute_result"
    }
   ],
   "source": [
    "comparison = pd.DataFrame({\"ORIGINAL\": [training_mape1, testing_mape1], \"UPDATED\": [training_mape3, testing_mape3]}, index=['Training Model', \"Testing Model\"])\n",
    "\n",
    "comparison"
   ]
  },
  {
   "cell_type": "markdown",
   "metadata": {},
   "source": [
    "<b> Hence, the increased amount of data to work with in the updated dataset allowed the model to improve its MAPE score in both the training and testing models. </b>"
   ]
  },
  {
   "cell_type": "markdown",
   "metadata": {},
   "source": [
    "<h2> Compare with other models </h2>"
   ]
  },
  {
   "cell_type": "markdown",
   "metadata": {},
   "source": [
    "Here we will compare with a grid search SARIMAX model.\n",
    "\n",
    "<p1> Finding the optimal order and seasonal order for the model using a grid search with possible combinations. </p1>"
   ]
  },
  {
   "cell_type": "code",
   "execution_count": 69,
   "metadata": {},
   "outputs": [],
   "source": [
    "# Grid search\n",
    "p = d = q = range(0, 3)\n",
    "pdq = list(itertools.product(p, d, q))  # all possible combinations for arima order\n",
    "p2 = d2 = q2 = range(0, 2)\n",
    "pdq2 = list(itertools.product(p2, d2, q2))  # all possible combinations for seasonal order\n",
    "s = 12\n",
    "pdqs2 = [(c[0], c[1], c[2], s) for c in pdq2]\n",
    "\n",
    "combs = {}\n",
    "aics = []"
   ]
  },
  {
   "cell_type": "code",
   "execution_count": 70,
   "metadata": {},
   "outputs": [],
   "source": [
    "for combination in pdq:\n",
    "    for seasonal_combination in pdqs2:\n",
    "        try:\n",
    "            model = SARIMAX(train_array,\n",
    "                            order=combination,\n",
    "                            seasonal_order=seasonal_combination,\n",
    "                            enforce_stationarity=False,\n",
    "                            trend='t')\n",
    "            model = model.fit()\n",
    "            combs.update({model.aic: [combination, seasonal_combination]})\n",
    "            aics.append(model.aic)\n",
    "\n",
    "        except:\n",
    "            continue\n",
    "\n",
    "best_aic = min(aics)"
   ]
  },
  {
   "cell_type": "markdown",
   "metadata": {},
   "source": [
    "This would then return the parameters that result in the smallest AIC, which we can then use to build our model."
   ]
  },
  {
   "cell_type": "code",
   "execution_count": 71,
   "metadata": {},
   "outputs": [],
   "source": [
    "model2 = SARIMAX(train_array,\n",
    "                order=combs[best_aic][0],\n",
    "                seasonal_order=combs[best_aic][1],\n",
    "                enforce_stationarity=False,\n",
    "                trend='t')\n",
    "model2 = model2.fit()"
   ]
  },
  {
   "cell_type": "code",
   "execution_count": 72,
   "metadata": {},
   "outputs": [
    {
     "data": {
      "text/html": [
       "<table class=\"simpletable\">\n",
       "<caption>SARIMAX Results</caption>\n",
       "<tr>\n",
       "  <th>Dep. Variable:</th>          <td>daily_vaccinations</td>        <th>  No. Observations:  </th>    <td>93</td>   \n",
       "</tr>\n",
       "<tr>\n",
       "  <th>Model:</th>           <td>SARIMAX(2, 2, 2)x(0, 1, [1], 12)</td> <th>  Log Likelihood     </th> <td>-642.531</td>\n",
       "</tr>\n",
       "<tr>\n",
       "  <th>Date:</th>                    <td>Sun, 27 Jun 2021</td>         <th>  AIC                </th> <td>1299.062</td>\n",
       "</tr>\n",
       "<tr>\n",
       "  <th>Time:</th>                        <td>14:58:30</td>             <th>  BIC                </th> <td>1314.174</td>\n",
       "</tr>\n",
       "<tr>\n",
       "  <th>Sample:</th>                     <td>02-23-2021</td>            <th>  HQIC               </th> <td>1305.016</td>\n",
       "</tr>\n",
       "<tr>\n",
       "  <th></th>                           <td>- 05-26-2021</td>           <th>                     </th>     <td> </td>   \n",
       "</tr>\n",
       "<tr>\n",
       "  <th>Covariance Type:</th>                <td>opg</td>               <th>                     </th>     <td> </td>   \n",
       "</tr>\n",
       "</table>\n",
       "<table class=\"simpletable\">\n",
       "<tr>\n",
       "      <td></td>        <th>coef</th>     <th>std err</th>      <th>z</th>      <th>P>|z|</th>  <th>[0.025</th>    <th>0.975]</th>  \n",
       "</tr>\n",
       "<tr>\n",
       "  <th>drift</th>    <td>    0.6839</td> <td>    1.406</td> <td>    0.486</td> <td> 0.627</td> <td>   -2.072</td> <td>    3.439</td>\n",
       "</tr>\n",
       "<tr>\n",
       "  <th>ar.L1</th>    <td>   -0.6614</td> <td>    0.408</td> <td>   -1.622</td> <td> 0.105</td> <td>   -1.461</td> <td>    0.138</td>\n",
       "</tr>\n",
       "<tr>\n",
       "  <th>ar.L2</th>    <td>    0.3951</td> <td>    0.384</td> <td>    1.030</td> <td> 0.303</td> <td>   -0.357</td> <td>    1.147</td>\n",
       "</tr>\n",
       "<tr>\n",
       "  <th>ma.L1</th>    <td>   -0.1280</td> <td>    0.207</td> <td>   -0.618</td> <td> 0.537</td> <td>   -0.534</td> <td>    0.278</td>\n",
       "</tr>\n",
       "<tr>\n",
       "  <th>ma.L2</th>    <td>   -0.8632</td> <td>    0.274</td> <td>   -3.152</td> <td> 0.002</td> <td>   -1.400</td> <td>   -0.326</td>\n",
       "</tr>\n",
       "<tr>\n",
       "  <th>ma.S.L12</th> <td>    0.0337</td> <td>    0.916</td> <td>    0.037</td> <td> 0.971</td> <td>   -1.762</td> <td>    1.830</td>\n",
       "</tr>\n",
       "<tr>\n",
       "  <th>sigma2</th>   <td> 3.567e+07</td> <td> 5.16e-08</td> <td> 6.92e+14</td> <td> 0.000</td> <td> 3.57e+07</td> <td> 3.57e+07</td>\n",
       "</tr>\n",
       "</table>\n",
       "<table class=\"simpletable\">\n",
       "<tr>\n",
       "  <th>Ljung-Box (Q):</th>          <td>28.45</td> <th>  Jarque-Bera (JB):  </th> <td>690.00</td>\n",
       "</tr>\n",
       "<tr>\n",
       "  <th>Prob(Q):</th>                <td>0.91</td>  <th>  Prob(JB):          </th>  <td>0.00</td> \n",
       "</tr>\n",
       "<tr>\n",
       "  <th>Heteroskedasticity (H):</th> <td>30.51</td> <th>  Skew:              </th>  <td>1.27</td> \n",
       "</tr>\n",
       "<tr>\n",
       "  <th>Prob(H) (two-sided):</th>    <td>0.00</td>  <th>  Kurtosis:          </th>  <td>18.88</td>\n",
       "</tr>\n",
       "</table><br/><br/>Warnings:<br/>[1] Covariance matrix calculated using the outer product of gradients (complex-step).<br/>[2] Covariance matrix is singular or near-singular, with condition number 2.61e+30. Standard errors may be unstable."
      ],
      "text/plain": [
       "<class 'statsmodels.iolib.summary.Summary'>\n",
       "\"\"\"\n",
       "                                      SARIMAX Results                                       \n",
       "============================================================================================\n",
       "Dep. Variable:                   daily_vaccinations   No. Observations:                   93\n",
       "Model:             SARIMAX(2, 2, 2)x(0, 1, [1], 12)   Log Likelihood                -642.531\n",
       "Date:                              Sun, 27 Jun 2021   AIC                           1299.062\n",
       "Time:                                      14:58:30   BIC                           1314.174\n",
       "Sample:                                  02-23-2021   HQIC                          1305.016\n",
       "                                       - 05-26-2021                                         \n",
       "Covariance Type:                                opg                                         \n",
       "==============================================================================\n",
       "                 coef    std err          z      P>|z|      [0.025      0.975]\n",
       "------------------------------------------------------------------------------\n",
       "drift          0.6839      1.406      0.486      0.627      -2.072       3.439\n",
       "ar.L1         -0.6614      0.408     -1.622      0.105      -1.461       0.138\n",
       "ar.L2          0.3951      0.384      1.030      0.303      -0.357       1.147\n",
       "ma.L1         -0.1280      0.207     -0.618      0.537      -0.534       0.278\n",
       "ma.L2         -0.8632      0.274     -3.152      0.002      -1.400      -0.326\n",
       "ma.S.L12       0.0337      0.916      0.037      0.971      -1.762       1.830\n",
       "sigma2      3.567e+07   5.16e-08   6.92e+14      0.000    3.57e+07    3.57e+07\n",
       "===================================================================================\n",
       "Ljung-Box (Q):                       28.45   Jarque-Bera (JB):               690.00\n",
       "Prob(Q):                              0.91   Prob(JB):                         0.00\n",
       "Heteroskedasticity (H):              30.51   Skew:                             1.27\n",
       "Prob(H) (two-sided):                  0.00   Kurtosis:                        18.88\n",
       "===================================================================================\n",
       "\n",
       "Warnings:\n",
       "[1] Covariance matrix calculated using the outer product of gradients (complex-step).\n",
       "[2] Covariance matrix is singular or near-singular, with condition number 2.61e+30. Standard errors may be unstable.\n",
       "\"\"\""
      ]
     },
     "execution_count": 72,
     "metadata": {},
     "output_type": "execute_result"
    }
   ],
   "source": [
    "model2.summary()"
   ]
  },
  {
   "cell_type": "code",
   "execution_count": 73,
   "metadata": {},
   "outputs": [
    {
     "data": {
      "image/png": "[encoded data removed]",
      "text/plain": [
       "<Figure size 432x288 with 1 Axes>"
      ]
     },
     "metadata": {
      "needs_background": "light"
     },
     "output_type": "display_data"
    }
   ],
   "source": [
    "predictions2 = model2.predict()\n",
    "\n",
    "# shows model vs data\n",
    "pd.concat([train.daily_vaccinations, predictions2], axis=1).plot()\n",
    "plt.legend(['daily_vaccinations', 'training model'])\n",
    "plt.title(\"Training Model vs Data\")\n",
    "plt.show()"
   ]
  },
  {
   "cell_type": "code",
   "execution_count": 74,
   "metadata": {},
   "outputs": [
    {
     "data": {
      "text/html": [
       "<div>\n",
       "<style scoped>\n",
       "    .dataframe tbody tr th:only-of-type {\n",
       "        vertical-align: middle;\n",
       "    }\n",
       "\n",
       "    .dataframe tbody tr th {\n",
       "        vertical-align: top;\n",
       "    }\n",
       "\n",
       "    .dataframe thead th {\n",
       "        text-align: right;\n",
       "    }\n",
       "</style>\n",
       "<table border=\"1\" class=\"dataframe\">\n",
       "  <thead>\n",
       "    <tr style=\"text-align: right;\">\n",
       "      <th></th>\n",
       "      <th>daily_vaccinations</th>\n",
       "      <th>model_predictions</th>\n",
       "      <th>model_predictions2</th>\n",
       "    </tr>\n",
       "    <tr>\n",
       "      <th>date</th>\n",
       "      <th></th>\n",
       "      <th></th>\n",
       "      <th></th>\n",
       "    </tr>\n",
       "  </thead>\n",
       "  <tbody>\n",
       "    <tr>\n",
       "      <th>2021-02-23</th>\n",
       "      <td>0.0</td>\n",
       "      <td>0.000000</td>\n",
       "      <td>0.000000</td>\n",
       "    </tr>\n",
       "    <tr>\n",
       "      <th>2021-02-24</th>\n",
       "      <td>895.0</td>\n",
       "      <td>0.000000</td>\n",
       "      <td>0.683892</td>\n",
       "    </tr>\n",
       "    <tr>\n",
       "      <th>2021-02-25</th>\n",
       "      <td>895.0</td>\n",
       "      <td>1216.247029</td>\n",
       "      <td>1115.272737</td>\n",
       "    </tr>\n",
       "    <tr>\n",
       "      <th>2021-02-26</th>\n",
       "      <td>895.0</td>\n",
       "      <td>1125.533699</td>\n",
       "      <td>1130.611865</td>\n",
       "    </tr>\n",
       "    <tr>\n",
       "      <th>2021-02-27</th>\n",
       "      <td>895.0</td>\n",
       "      <td>1070.053047</td>\n",
       "      <td>738.223125</td>\n",
       "    </tr>\n",
       "  </tbody>\n",
       "</table>\n",
       "</div>"
      ],
      "text/plain": [
       "            daily_vaccinations  model_predictions  model_predictions2\n",
       "date                                                                 \n",
       "2021-02-23                 0.0           0.000000            0.000000\n",
       "2021-02-24               895.0           0.000000            0.683892\n",
       "2021-02-25               895.0        1216.247029         1115.272737\n",
       "2021-02-26               895.0        1125.533699         1130.611865\n",
       "2021-02-27               895.0        1070.053047          738.223125"
      ]
     },
     "execution_count": 74,
     "metadata": {},
     "output_type": "execute_result"
    }
   ],
   "source": [
    "train['model_predictions2'] = predictions2\n",
    "train.head()"
   ]
  },
  {
   "cell_type": "code",
   "execution_count": 75,
   "metadata": {},
   "outputs": [],
   "source": [
    "forecast2 = model2.forecast(steps=20)\n",
    "future_forecast2 = pd.DataFrame({'forecast': forecast2})"
   ]
  },
  {
   "cell_type": "code",
   "execution_count": 76,
   "metadata": {
    "scrolled": true
   },
   "outputs": [
    {
     "data": {
      "image/png": "[encoded data removed]",
      "text/plain": [
       "<Figure size 432x288 with 1 Axes>"
      ]
     },
     "metadata": {
      "needs_background": "light"
     },
     "output_type": "display_data"
    }
   ],
   "source": [
    "# whole data with forecast\n",
    "pd.concat([data, future_forecast2], axis=1).plot()\n",
    "plt.legend(['daily_vaccinations', 'forecast'])\n",
    "plt.title(\"20 Days Forecast\")\n",
    "plt.show()"
   ]
  },
  {
   "cell_type": "code",
   "execution_count": 77,
   "metadata": {
    "scrolled": true
   },
   "outputs": [
    {
     "name": "stdout",
     "output_type": "stream",
     "text": [
      "TRAINING MAPE: 9.788015940772175\n",
      "TRAINING RMSE: 4639.645065909639\n"
     ]
    }
   ],
   "source": [
    "# training model evaluation\n",
    "training_mape2 = mean_absolute_percentage_error(train_array, predictions2)\n",
    "training_rmse2 = rmse(train_array, predictions2)\n",
    "\n",
    "print(\"TRAINING MAPE: \" + str(training_mape2))\n",
    "print(\"TRAINING RMSE: \" + str(training_rmse2))"
   ]
  },
  {
   "cell_type": "code",
   "execution_count": 78,
   "metadata": {
    "scrolled": false
   },
   "outputs": [
    {
     "name": "stdout",
     "output_type": "stream",
     "text": [
      "TESTING MAPE: 16.886797594203156\n",
      "TESTING RMSE: 16551.249924194814\n"
     ]
    }
   ],
   "source": [
    "# forecast values evaluation\n",
    "testing_mape2 = mean_absolute_percentage_error(test_array, forecast2[:5])\n",
    "testing_rmse2 = rmse(test_array, forecast2[:5])\n",
    "\n",
    "print(\"TESTING MAPE: \" + str(testing_mape2))\n",
    "print(\"TESTING RMSE: \" + str(testing_rmse2))"
   ]
  },
  {
   "cell_type": "code",
   "execution_count": 79,
   "metadata": {},
   "outputs": [
    {
     "data": {
      "text/html": [
       "<div>\n",
       "<style scoped>\n",
       "    .dataframe tbody tr th:only-of-type {\n",
       "        vertical-align: middle;\n",
       "    }\n",
       "\n",
       "    .dataframe tbody tr th {\n",
       "        vertical-align: top;\n",
       "    }\n",
       "\n",
       "    .dataframe thead th {\n",
       "        text-align: right;\n",
       "    }\n",
       "</style>\n",
       "<table border=\"1\" class=\"dataframe\">\n",
       "  <thead>\n",
       "    <tr style=\"text-align: right;\">\n",
       "      <th></th>\n",
       "      <th>AUTO_ARIMA</th>\n",
       "      <th>GRID SEARCH</th>\n",
       "    </tr>\n",
       "  </thead>\n",
       "  <tbody>\n",
       "    <tr>\n",
       "      <th>Training Model</th>\n",
       "      <td>9.815703</td>\n",
       "      <td>9.788016</td>\n",
       "    </tr>\n",
       "    <tr>\n",
       "      <th>Testing Model</th>\n",
       "      <td>7.249317</td>\n",
       "      <td>16.886798</td>\n",
       "    </tr>\n",
       "  </tbody>\n",
       "</table>\n",
       "</div>"
      ],
      "text/plain": [
       "                AUTO_ARIMA  GRID SEARCH\n",
       "Training Model    9.815703     9.788016\n",
       "Testing Model     7.249317    16.886798"
      ]
     },
     "execution_count": 79,
     "metadata": {},
     "output_type": "execute_result"
    }
   ],
   "source": [
    "comparison2 = pd.DataFrame({\"AUTO_ARIMA\": [training_mape3, testing_mape3], \"GRID SEARCH\": [training_mape2, testing_mape2]}, index=['Training Model', \"Testing Model\"])\n",
    "\n",
    "comparison2"
   ]
  },
  {
   "cell_type": "markdown",
   "metadata": {},
   "source": [
    "So while the fit from using this model with the training values is lower than that of the auto ARIMA model, this model performs significantly worse when comparing the forecasted values with the test data.\n",
    "\n",
    "<p1> This could be due to it being more susceptible to overfitting. </p1>"
   ]
  },
  {
   "cell_type": "markdown",
   "metadata": {},
   "source": [
    "<h2> Compare with other studies </h2>"
   ]
  },
  {
   "cell_type": "markdown",
   "metadata": {},
   "source": [
    "<h3> 1. Application of Auto ARIMA Model for Forecasting Returns on Minute Wise Amalgamated  Data in NSE </h3>\n",
    "\n",
    "<p1> This study explores the use of auto ARIMA for forecasting stock returns on minute by minute data. They found that the model applied generated satisfactory forecasts and was seen as a better model compared to traditional forecasting techniques because of its auto regression adaptation. </p1>\n",
    "\n",
    "<h3> 2. A smart system for short-term price prediction using time series models </h3>\n",
    "\n",
    "<p1> This study utilizes the auto ARIMA model to develop a short-term price prediction for various products using time series.They found that this model was suitable for their project as traditional ARIMA techniques caused performance issues when identifying the parameter settings. </p1>"
   ]
  },
  {
   "cell_type": "markdown",
   "metadata": {},
   "source": [
    "# Limitations"
   ]
  },
  {
   "cell_type": "markdown",
   "metadata": {},
   "source": [
    "<h3> 1. Small sample size </h3>\n",
    "\n",
    "<li> The dataset only has 98 rows as vaccination efforts in Malaysia have only begun relatively recently. This issue is further compounded when the data is split into training and testing sets. </li> <br>\n",
    "    \n",
    "<li> Data that contains a lot of random variation, as is the case with our dataset, typically performs better with a larger sample size. </li> <br>\n",
    "    \n",
    "<li> As a result, the model produced from this study will have reduced prediction power compared to an improved version with access to more data. </li> <br>\n",
    "\n",
    "<li> The model could also be more prone to overfitting. </li> <br>\n",
    "\n",
    "<h3> 2. Volatile data </h3>\n",
    "\n",
    "<li> The time series data set is being updated daily and as such analysis on the most up-to-date data is almost impossible. </li> <br>\n",
    "\n",
    "<li> The data also shows a high degree of variability and fluctuation that is not yet clearly seen to be of a fixed frequency due to the small sample size. </li> <br>\n",
    "\n",
    "<h3> 3. Processing time </h3>\n",
    "\n",
    "<li> Seasonality with daily data would likely result in a more accurate model. However, this would increase the processing time for the model to become too long. </li> <br>\n",
    "\n",
    "<li> As s = 12 is used to represent monthly data for the span of the periodic seasonal behaviour, daily data would result in a parameter of s = 365. </li>\n",
    "\n",
    "<h3> 4. External Factors </h3>\n",
    "\n",
    "<li> The government may not have enough resources to switch over to a new vaccine </li> <br>\n",
    "\n",
    "<li> Cannot predict unpredictable occurance such as sudden cut off of vaccine supply </li>"
   ]
  },
  {
   "cell_type": "markdown",
   "metadata": {},
   "source": [
    "<h2> Proposal for future studies </h2> <br>\n",
    "\n",
    "<li> Allowing more time to pass in order to collect more data will likely improve the model significantly. Furthermore, this would be able to show a clearer periodic seasonal behaviour that can be used to further improve the model.</li>\n",
    "\n"
   ]
  },
  {
   "cell_type": "markdown",
   "metadata": {},
   "source": [
    "# Conclusion"
   ]
  },
  {
   "cell_type": "markdown",
   "metadata": {},
   "source": [
    "In conclusion, the vaccine deployment rate will continue to increase judging from the graphs. If, by chance, there is an unpredictable occurrence had happened, regardless of good or bad, the prediction model can become useless. However, as Data Scientists, it is necessary to do the necessary research of such occurrences and make sure that the deployment of vaccine goes smoothly. Another thing to take note are both governmental help and the help of citizens. The government will become necessary in the deployment of vaccines to the people in resource management in order to ensure vaccine hesitancy will be kept at a minimum and that every citizen of Malaysia will receive a vaccine as soon as possible. Citizens should also take responsibility to not make as much contact with others and follow social distancing."
   ]
  }
 ],
 "metadata": {
  "kernelspec": {
   "display_name": "Python 3",
   "language": "python",
   "name": "python3"
  },
  "language_info": {
   "codemirror_mode": {
    "name": "ipython",
    "version": 3
   },
   "file_extension": ".py",
   "mimetype": "text/x-python",
   "name": "python",
   "nbconvert_exporter": "python",
   "pygments_lexer": "ipython3",
   "version": "3.7.6"
  }
 },
 "nbformat": 4,
 "nbformat_minor": 4
}
